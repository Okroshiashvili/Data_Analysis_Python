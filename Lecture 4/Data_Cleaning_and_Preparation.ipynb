{
 "cells": [
  {
   "cell_type": "markdown",
   "metadata": {},
   "source": [
    "# Data Cleaning and Preparation\n",
    "\n",
    "---\n",
    "\n",
    "During the course of doing data analysis and modeling, a significant amount of time is spent on data preparation: loading, cleaning, transforming, and rearranging. Such tasks often takes 80% or more of an analyst’s time. Sometimes the way that data is stored in files or databases is not in the right format for a particular task. Fortunately, pandas, along with the built-in Python language features, provides you with a high-level, flexible, and fast set of tools to enable you to manipulate data into the right form.\n",
    "\n",
    "\n",
    "\n",
    "$$\n",
    "$$\n",
    "\n",
    "### [Pandas 100 tricks](https://www.kaggle.com/python10pm/pandas-100-tricks)\n",
    "\n",
    "\n",
    "\n",
    "### Lecture outline\n",
    "\n",
    "---\n",
    "\n",
    "* Finding and Filling Missing Values\n",
    "\n",
    "\n",
    "* Removing Duplicate Values\n",
    "\n",
    "\n",
    "* Replacing Values\n",
    "\n",
    "\n",
    "* Discretization and Binning\n",
    "\n",
    "\n",
    "* Detecting Outliers\n",
    "\n",
    "\n",
    "* String Manipulations\n",
    "\n",
    "\n",
    "* Variable Transformation"
   ]
  },
  {
   "cell_type": "markdown",
   "metadata": {},
   "source": [
    "## Finding and Filling Missing Values\n",
    "\n",
    "---\n",
    "\n",
    "Missing values are pretty common in data cleaning activities. And, they can be there for any number of reasons.\n",
    "\n",
    "\n",
    "For instance, if you are running a survey and a respondent didn't answer a question the missing value is\n",
    "actually an omission. This kind of missing data is called **Missing at Random** if there are other variables\n",
    "that might be used to predict the variable which is missing. If there is no relationship to other variables, then  we call this data **Missing Completely at Random (MCAR)**, in other words, missing is independent of the observed and unobserved data. **Missing not at random (MNAR)**. When data are MNAR, the fact that the data are missing is systematically related to the unobserved data, that is, the missingness is related to events or factors which are not measured by the researcher.\n",
    "\n",
    "\n",
    "Pandas works with missing data as painless as possible. For example, all of the descriptive statistics on pandas objects exclude missing data by default.\n",
    "\n",
    "\n",
    "> Not only `NaN`, `NA`, `N/A`, `NAT`, `NULL`, and `None` are missing values. There can be other missing values in the data. That's why we need always to know our data"
   ]
  },
  {
   "cell_type": "markdown",
   "metadata": {},
   "source": [
    "#### Reference\n",
    "\n",
    "[Types of Missing Data](https://www.ncbi.nlm.nih.gov/books/NBK493614/)\n",
    "\n",
    "\n",
    "[Working with missing data](https://pandas.pydata.org/pandas-docs/stable/user_guide/missing_data.html)"
   ]
  },
  {
   "cell_type": "markdown",
   "metadata": {},
   "source": [
    "![alt text](images/missing_data.jpeg \"Title\")"
   ]
  },
  {
   "cell_type": "code",
   "execution_count": 1,
   "metadata": {
    "ExecuteTime": {
     "end_time": "2021-02-04T14:27:44.021562Z",
     "start_time": "2021-02-04T14:27:43.710300Z"
    }
   },
   "outputs": [],
   "source": [
    "import pandas as pd\n",
    "\n",
    "import numpy as np"
   ]
  },
  {
   "cell_type": "code",
   "execution_count": 2,
   "metadata": {
    "ExecuteTime": {
     "end_time": "2021-02-04T14:27:45.059952Z",
     "start_time": "2021-02-04T14:27:45.026733Z"
    }
   },
   "outputs": [
    {
     "data": {
      "text/html": [
       "<div>\n",
       "<style scoped>\n",
       "    .dataframe tbody tr th:only-of-type {\n",
       "        vertical-align: middle;\n",
       "    }\n",
       "\n",
       "    .dataframe tbody tr th {\n",
       "        vertical-align: top;\n",
       "    }\n",
       "\n",
       "    .dataframe thead th {\n",
       "        text-align: right;\n",
       "    }\n",
       "</style>\n",
       "<table border=\"1\" class=\"dataframe\">\n",
       "  <thead>\n",
       "    <tr style=\"text-align: right;\">\n",
       "      <th></th>\n",
       "      <th>YYYYMMDD</th>\n",
       "      <th>TIME</th>\n",
       "      <th>TEMP</th>\n",
       "      <th>MIN_TEMP_GROUND</th>\n",
       "      <th>PRESSURE</th>\n",
       "      <th>HUMIDITY</th>\n",
       "      <th>VIEW_RANGE</th>\n",
       "      <th>CLOUD</th>\n",
       "      <th>MIST</th>\n",
       "      <th>RAIN</th>\n",
       "      <th>SNOW</th>\n",
       "      <th>THUNDER</th>\n",
       "      <th>ICE</th>\n",
       "      <th>WEATHER_CODE</th>\n",
       "    </tr>\n",
       "  </thead>\n",
       "  <tbody>\n",
       "    <tr>\n",
       "      <th>0</th>\n",
       "      <td>20160101</td>\n",
       "      <td>1</td>\n",
       "      <td>68</td>\n",
       "      <td>NaN</td>\n",
       "      <td>10207</td>\n",
       "      <td>87</td>\n",
       "      <td>56.0</td>\n",
       "      <td>4.0</td>\n",
       "      <td>0.0</td>\n",
       "      <td>0.0</td>\n",
       "      <td>0.0</td>\n",
       "      <td>0.0</td>\n",
       "      <td>0.0</td>\n",
       "      <td>10.0</td>\n",
       "    </tr>\n",
       "    <tr>\n",
       "      <th>1</th>\n",
       "      <td>20160101</td>\n",
       "      <td>2</td>\n",
       "      <td>58</td>\n",
       "      <td>NaN</td>\n",
       "      <td>10214</td>\n",
       "      <td>92</td>\n",
       "      <td>57.0</td>\n",
       "      <td>2.0</td>\n",
       "      <td>0.0</td>\n",
       "      <td>0.0</td>\n",
       "      <td>0.0</td>\n",
       "      <td>0.0</td>\n",
       "      <td>0.0</td>\n",
       "      <td>10.0</td>\n",
       "    </tr>\n",
       "    <tr>\n",
       "      <th>2</th>\n",
       "      <td>20160101</td>\n",
       "      <td>3</td>\n",
       "      <td>57</td>\n",
       "      <td>NaN</td>\n",
       "      <td>10220</td>\n",
       "      <td>92</td>\n",
       "      <td>56.0</td>\n",
       "      <td>7.0</td>\n",
       "      <td>0.0</td>\n",
       "      <td>1.0</td>\n",
       "      <td>0.0</td>\n",
       "      <td>0.0</td>\n",
       "      <td>0.0</td>\n",
       "      <td>23.0</td>\n",
       "    </tr>\n",
       "    <tr>\n",
       "      <th>3</th>\n",
       "      <td>20160101</td>\n",
       "      <td>4</td>\n",
       "      <td>60</td>\n",
       "      <td>NaN</td>\n",
       "      <td>10225</td>\n",
       "      <td>93</td>\n",
       "      <td>57.0</td>\n",
       "      <td>7.0</td>\n",
       "      <td>0.0</td>\n",
       "      <td>1.0</td>\n",
       "      <td>0.0</td>\n",
       "      <td>0.0</td>\n",
       "      <td>0.0</td>\n",
       "      <td>51.0</td>\n",
       "    </tr>\n",
       "    <tr>\n",
       "      <th>4</th>\n",
       "      <td>20160101</td>\n",
       "      <td>5</td>\n",
       "      <td>45</td>\n",
       "      <td>NaN</td>\n",
       "      <td>10230</td>\n",
       "      <td>95</td>\n",
       "      <td>56.0</td>\n",
       "      <td>7.0</td>\n",
       "      <td>0.0</td>\n",
       "      <td>1.0</td>\n",
       "      <td>0.0</td>\n",
       "      <td>0.0</td>\n",
       "      <td>0.0</td>\n",
       "      <td>22.0</td>\n",
       "    </tr>\n",
       "  </tbody>\n",
       "</table>\n",
       "</div>"
      ],
      "text/plain": [
       "   YYYYMMDD  TIME  TEMP  MIN_TEMP_GROUND  PRESSURE  HUMIDITY  VIEW_RANGE  \\\n",
       "0  20160101     1    68              NaN     10207        87        56.0   \n",
       "1  20160101     2    58              NaN     10214        92        57.0   \n",
       "2  20160101     3    57              NaN     10220        92        56.0   \n",
       "3  20160101     4    60              NaN     10225        93        57.0   \n",
       "4  20160101     5    45              NaN     10230        95        56.0   \n",
       "\n",
       "   CLOUD  MIST  RAIN  SNOW  THUNDER  ICE  WEATHER_CODE  \n",
       "0    4.0   0.0   0.0   0.0      0.0  0.0          10.0  \n",
       "1    2.0   0.0   0.0   0.0      0.0  0.0          10.0  \n",
       "2    7.0   0.0   1.0   0.0      0.0  0.0          23.0  \n",
       "3    7.0   0.0   1.0   0.0      0.0  0.0          51.0  \n",
       "4    7.0   0.0   1.0   0.0      0.0  0.0          22.0  "
      ]
     },
     "execution_count": 2,
     "metadata": {},
     "output_type": "execute_result"
    }
   ],
   "source": [
    "weather = pd.read_csv(\"data/weather.csv\")\n",
    "\n",
    "weather.head()"
   ]
  },
  {
   "cell_type": "markdown",
   "metadata": {},
   "source": [
    "### Detecting Missing Values"
   ]
  },
  {
   "cell_type": "code",
   "execution_count": 3,
   "metadata": {
    "ExecuteTime": {
     "end_time": "2021-02-04T14:27:50.403290Z",
     "start_time": "2021-02-04T14:27:50.387959Z"
    }
   },
   "outputs": [
    {
     "data": {
      "text/html": [
       "<div>\n",
       "<style scoped>\n",
       "    .dataframe tbody tr th:only-of-type {\n",
       "        vertical-align: middle;\n",
       "    }\n",
       "\n",
       "    .dataframe tbody tr th {\n",
       "        vertical-align: top;\n",
       "    }\n",
       "\n",
       "    .dataframe thead th {\n",
       "        text-align: right;\n",
       "    }\n",
       "</style>\n",
       "<table border=\"1\" class=\"dataframe\">\n",
       "  <thead>\n",
       "    <tr style=\"text-align: right;\">\n",
       "      <th></th>\n",
       "      <th>YYYYMMDD</th>\n",
       "      <th>TIME</th>\n",
       "      <th>TEMP</th>\n",
       "      <th>MIN_TEMP_GROUND</th>\n",
       "      <th>PRESSURE</th>\n",
       "      <th>HUMIDITY</th>\n",
       "      <th>VIEW_RANGE</th>\n",
       "      <th>CLOUD</th>\n",
       "      <th>MIST</th>\n",
       "      <th>RAIN</th>\n",
       "      <th>SNOW</th>\n",
       "      <th>THUNDER</th>\n",
       "      <th>ICE</th>\n",
       "      <th>WEATHER_CODE</th>\n",
       "    </tr>\n",
       "  </thead>\n",
       "  <tbody>\n",
       "    <tr>\n",
       "      <th>0</th>\n",
       "      <td>False</td>\n",
       "      <td>False</td>\n",
       "      <td>False</td>\n",
       "      <td>True</td>\n",
       "      <td>False</td>\n",
       "      <td>False</td>\n",
       "      <td>False</td>\n",
       "      <td>False</td>\n",
       "      <td>False</td>\n",
       "      <td>False</td>\n",
       "      <td>False</td>\n",
       "      <td>False</td>\n",
       "      <td>False</td>\n",
       "      <td>False</td>\n",
       "    </tr>\n",
       "    <tr>\n",
       "      <th>1</th>\n",
       "      <td>False</td>\n",
       "      <td>False</td>\n",
       "      <td>False</td>\n",
       "      <td>True</td>\n",
       "      <td>False</td>\n",
       "      <td>False</td>\n",
       "      <td>False</td>\n",
       "      <td>False</td>\n",
       "      <td>False</td>\n",
       "      <td>False</td>\n",
       "      <td>False</td>\n",
       "      <td>False</td>\n",
       "      <td>False</td>\n",
       "      <td>False</td>\n",
       "    </tr>\n",
       "    <tr>\n",
       "      <th>2</th>\n",
       "      <td>False</td>\n",
       "      <td>False</td>\n",
       "      <td>False</td>\n",
       "      <td>True</td>\n",
       "      <td>False</td>\n",
       "      <td>False</td>\n",
       "      <td>False</td>\n",
       "      <td>False</td>\n",
       "      <td>False</td>\n",
       "      <td>False</td>\n",
       "      <td>False</td>\n",
       "      <td>False</td>\n",
       "      <td>False</td>\n",
       "      <td>False</td>\n",
       "    </tr>\n",
       "    <tr>\n",
       "      <th>3</th>\n",
       "      <td>False</td>\n",
       "      <td>False</td>\n",
       "      <td>False</td>\n",
       "      <td>True</td>\n",
       "      <td>False</td>\n",
       "      <td>False</td>\n",
       "      <td>False</td>\n",
       "      <td>False</td>\n",
       "      <td>False</td>\n",
       "      <td>False</td>\n",
       "      <td>False</td>\n",
       "      <td>False</td>\n",
       "      <td>False</td>\n",
       "      <td>False</td>\n",
       "    </tr>\n",
       "    <tr>\n",
       "      <th>4</th>\n",
       "      <td>False</td>\n",
       "      <td>False</td>\n",
       "      <td>False</td>\n",
       "      <td>True</td>\n",
       "      <td>False</td>\n",
       "      <td>False</td>\n",
       "      <td>False</td>\n",
       "      <td>False</td>\n",
       "      <td>False</td>\n",
       "      <td>False</td>\n",
       "      <td>False</td>\n",
       "      <td>False</td>\n",
       "      <td>False</td>\n",
       "      <td>False</td>\n",
       "    </tr>\n",
       "    <tr>\n",
       "      <th>...</th>\n",
       "      <td>...</td>\n",
       "      <td>...</td>\n",
       "      <td>...</td>\n",
       "      <td>...</td>\n",
       "      <td>...</td>\n",
       "      <td>...</td>\n",
       "      <td>...</td>\n",
       "      <td>...</td>\n",
       "      <td>...</td>\n",
       "      <td>...</td>\n",
       "      <td>...</td>\n",
       "      <td>...</td>\n",
       "      <td>...</td>\n",
       "      <td>...</td>\n",
       "    </tr>\n",
       "    <tr>\n",
       "      <th>8779</th>\n",
       "      <td>False</td>\n",
       "      <td>False</td>\n",
       "      <td>False</td>\n",
       "      <td>True</td>\n",
       "      <td>False</td>\n",
       "      <td>False</td>\n",
       "      <td>False</td>\n",
       "      <td>False</td>\n",
       "      <td>False</td>\n",
       "      <td>False</td>\n",
       "      <td>False</td>\n",
       "      <td>False</td>\n",
       "      <td>False</td>\n",
       "      <td>False</td>\n",
       "    </tr>\n",
       "    <tr>\n",
       "      <th>8780</th>\n",
       "      <td>False</td>\n",
       "      <td>False</td>\n",
       "      <td>False</td>\n",
       "      <td>True</td>\n",
       "      <td>False</td>\n",
       "      <td>False</td>\n",
       "      <td>False</td>\n",
       "      <td>False</td>\n",
       "      <td>False</td>\n",
       "      <td>False</td>\n",
       "      <td>False</td>\n",
       "      <td>False</td>\n",
       "      <td>False</td>\n",
       "      <td>False</td>\n",
       "    </tr>\n",
       "    <tr>\n",
       "      <th>8781</th>\n",
       "      <td>False</td>\n",
       "      <td>False</td>\n",
       "      <td>False</td>\n",
       "      <td>True</td>\n",
       "      <td>False</td>\n",
       "      <td>False</td>\n",
       "      <td>False</td>\n",
       "      <td>False</td>\n",
       "      <td>False</td>\n",
       "      <td>False</td>\n",
       "      <td>False</td>\n",
       "      <td>False</td>\n",
       "      <td>False</td>\n",
       "      <td>False</td>\n",
       "    </tr>\n",
       "    <tr>\n",
       "      <th>8782</th>\n",
       "      <td>False</td>\n",
       "      <td>False</td>\n",
       "      <td>False</td>\n",
       "      <td>True</td>\n",
       "      <td>False</td>\n",
       "      <td>False</td>\n",
       "      <td>False</td>\n",
       "      <td>False</td>\n",
       "      <td>False</td>\n",
       "      <td>False</td>\n",
       "      <td>False</td>\n",
       "      <td>False</td>\n",
       "      <td>False</td>\n",
       "      <td>False</td>\n",
       "    </tr>\n",
       "    <tr>\n",
       "      <th>8783</th>\n",
       "      <td>False</td>\n",
       "      <td>False</td>\n",
       "      <td>False</td>\n",
       "      <td>False</td>\n",
       "      <td>False</td>\n",
       "      <td>False</td>\n",
       "      <td>False</td>\n",
       "      <td>False</td>\n",
       "      <td>False</td>\n",
       "      <td>False</td>\n",
       "      <td>False</td>\n",
       "      <td>False</td>\n",
       "      <td>False</td>\n",
       "      <td>False</td>\n",
       "    </tr>\n",
       "  </tbody>\n",
       "</table>\n",
       "<p>8784 rows × 14 columns</p>\n",
       "</div>"
      ],
      "text/plain": [
       "      YYYYMMDD   TIME   TEMP  MIN_TEMP_GROUND  PRESSURE  HUMIDITY  VIEW_RANGE  \\\n",
       "0        False  False  False             True     False     False       False   \n",
       "1        False  False  False             True     False     False       False   \n",
       "2        False  False  False             True     False     False       False   \n",
       "3        False  False  False             True     False     False       False   \n",
       "4        False  False  False             True     False     False       False   \n",
       "...        ...    ...    ...              ...       ...       ...         ...   \n",
       "8779     False  False  False             True     False     False       False   \n",
       "8780     False  False  False             True     False     False       False   \n",
       "8781     False  False  False             True     False     False       False   \n",
       "8782     False  False  False             True     False     False       False   \n",
       "8783     False  False  False            False     False     False       False   \n",
       "\n",
       "      CLOUD   MIST   RAIN   SNOW  THUNDER    ICE  WEATHER_CODE  \n",
       "0     False  False  False  False    False  False         False  \n",
       "1     False  False  False  False    False  False         False  \n",
       "2     False  False  False  False    False  False         False  \n",
       "3     False  False  False  False    False  False         False  \n",
       "4     False  False  False  False    False  False         False  \n",
       "...     ...    ...    ...    ...      ...    ...           ...  \n",
       "8779  False  False  False  False    False  False         False  \n",
       "8780  False  False  False  False    False  False         False  \n",
       "8781  False  False  False  False    False  False         False  \n",
       "8782  False  False  False  False    False  False         False  \n",
       "8783  False  False  False  False    False  False         False  \n",
       "\n",
       "[8784 rows x 14 columns]"
      ]
     },
     "execution_count": 3,
     "metadata": {},
     "output_type": "execute_result"
    }
   ],
   "source": [
    "weather.isnull() # Retruns boolean seris. True denotes missing value\n",
    "\n",
    "\n",
    "weather.isna() # Same as \"isnull()\" method"
   ]
  },
  {
   "cell_type": "code",
   "execution_count": 4,
   "metadata": {
    "ExecuteTime": {
     "end_time": "2021-02-04T14:27:55.265742Z",
     "start_time": "2021-02-04T14:27:55.246849Z"
    }
   },
   "outputs": [
    {
     "data": {
      "text/plain": [
       "YYYYMMDD           False\n",
       "TIME               False\n",
       "TEMP               False\n",
       "MIN_TEMP_GROUND     True\n",
       "PRESSURE           False\n",
       "HUMIDITY           False\n",
       "VIEW_RANGE          True\n",
       "CLOUD               True\n",
       "MIST                True\n",
       "RAIN                True\n",
       "SNOW                True\n",
       "THUNDER             True\n",
       "ICE                 True\n",
       "WEATHER_CODE        True\n",
       "dtype: bool"
      ]
     },
     "execution_count": 4,
     "metadata": {},
     "output_type": "execute_result"
    }
   ],
   "source": [
    "weather.isnull().any() # Shows all columns with missing value"
   ]
  },
  {
   "cell_type": "code",
   "execution_count": 5,
   "metadata": {
    "ExecuteTime": {
     "end_time": "2021-02-04T14:28:04.843461Z",
     "start_time": "2021-02-04T14:28:04.809733Z"
    }
   },
   "outputs": [
    {
     "data": {
      "text/html": [
       "<div>\n",
       "<style scoped>\n",
       "    .dataframe tbody tr th:only-of-type {\n",
       "        vertical-align: middle;\n",
       "    }\n",
       "\n",
       "    .dataframe tbody tr th {\n",
       "        vertical-align: top;\n",
       "    }\n",
       "\n",
       "    .dataframe thead th {\n",
       "        text-align: right;\n",
       "    }\n",
       "</style>\n",
       "<table border=\"1\" class=\"dataframe\">\n",
       "  <thead>\n",
       "    <tr style=\"text-align: right;\">\n",
       "      <th></th>\n",
       "      <th>YYYYMMDD</th>\n",
       "      <th>TIME</th>\n",
       "      <th>TEMP</th>\n",
       "      <th>MIN_TEMP_GROUND</th>\n",
       "      <th>PRESSURE</th>\n",
       "      <th>HUMIDITY</th>\n",
       "      <th>VIEW_RANGE</th>\n",
       "      <th>CLOUD</th>\n",
       "      <th>MIST</th>\n",
       "      <th>RAIN</th>\n",
       "      <th>SNOW</th>\n",
       "      <th>THUNDER</th>\n",
       "      <th>ICE</th>\n",
       "      <th>WEATHER_CODE</th>\n",
       "    </tr>\n",
       "  </thead>\n",
       "  <tbody>\n",
       "    <tr>\n",
       "      <th>0</th>\n",
       "      <td>20160101</td>\n",
       "      <td>1</td>\n",
       "      <td>68</td>\n",
       "      <td>NaN</td>\n",
       "      <td>10207</td>\n",
       "      <td>87</td>\n",
       "      <td>56.0</td>\n",
       "      <td>4.0</td>\n",
       "      <td>0.0</td>\n",
       "      <td>0.0</td>\n",
       "      <td>0.0</td>\n",
       "      <td>0.0</td>\n",
       "      <td>0.0</td>\n",
       "      <td>10.0</td>\n",
       "    </tr>\n",
       "    <tr>\n",
       "      <th>1</th>\n",
       "      <td>20160101</td>\n",
       "      <td>2</td>\n",
       "      <td>58</td>\n",
       "      <td>NaN</td>\n",
       "      <td>10214</td>\n",
       "      <td>92</td>\n",
       "      <td>57.0</td>\n",
       "      <td>2.0</td>\n",
       "      <td>0.0</td>\n",
       "      <td>0.0</td>\n",
       "      <td>0.0</td>\n",
       "      <td>0.0</td>\n",
       "      <td>0.0</td>\n",
       "      <td>10.0</td>\n",
       "    </tr>\n",
       "    <tr>\n",
       "      <th>2</th>\n",
       "      <td>20160101</td>\n",
       "      <td>3</td>\n",
       "      <td>57</td>\n",
       "      <td>NaN</td>\n",
       "      <td>10220</td>\n",
       "      <td>92</td>\n",
       "      <td>56.0</td>\n",
       "      <td>7.0</td>\n",
       "      <td>0.0</td>\n",
       "      <td>1.0</td>\n",
       "      <td>0.0</td>\n",
       "      <td>0.0</td>\n",
       "      <td>0.0</td>\n",
       "      <td>23.0</td>\n",
       "    </tr>\n",
       "    <tr>\n",
       "      <th>3</th>\n",
       "      <td>20160101</td>\n",
       "      <td>4</td>\n",
       "      <td>60</td>\n",
       "      <td>NaN</td>\n",
       "      <td>10225</td>\n",
       "      <td>93</td>\n",
       "      <td>57.0</td>\n",
       "      <td>7.0</td>\n",
       "      <td>0.0</td>\n",
       "      <td>1.0</td>\n",
       "      <td>0.0</td>\n",
       "      <td>0.0</td>\n",
       "      <td>0.0</td>\n",
       "      <td>51.0</td>\n",
       "    </tr>\n",
       "    <tr>\n",
       "      <th>4</th>\n",
       "      <td>20160101</td>\n",
       "      <td>5</td>\n",
       "      <td>45</td>\n",
       "      <td>NaN</td>\n",
       "      <td>10230</td>\n",
       "      <td>95</td>\n",
       "      <td>56.0</td>\n",
       "      <td>7.0</td>\n",
       "      <td>0.0</td>\n",
       "      <td>1.0</td>\n",
       "      <td>0.0</td>\n",
       "      <td>0.0</td>\n",
       "      <td>0.0</td>\n",
       "      <td>22.0</td>\n",
       "    </tr>\n",
       "    <tr>\n",
       "      <th>...</th>\n",
       "      <td>...</td>\n",
       "      <td>...</td>\n",
       "      <td>...</td>\n",
       "      <td>...</td>\n",
       "      <td>...</td>\n",
       "      <td>...</td>\n",
       "      <td>...</td>\n",
       "      <td>...</td>\n",
       "      <td>...</td>\n",
       "      <td>...</td>\n",
       "      <td>...</td>\n",
       "      <td>...</td>\n",
       "      <td>...</td>\n",
       "      <td>...</td>\n",
       "    </tr>\n",
       "    <tr>\n",
       "      <th>8778</th>\n",
       "      <td>20161231</td>\n",
       "      <td>19</td>\n",
       "      <td>35</td>\n",
       "      <td>NaN</td>\n",
       "      <td>10271</td>\n",
       "      <td>98</td>\n",
       "      <td>7.0</td>\n",
       "      <td>9.0</td>\n",
       "      <td>1.0</td>\n",
       "      <td>0.0</td>\n",
       "      <td>0.0</td>\n",
       "      <td>0.0</td>\n",
       "      <td>0.0</td>\n",
       "      <td>34.0</td>\n",
       "    </tr>\n",
       "    <tr>\n",
       "      <th>8779</th>\n",
       "      <td>20161231</td>\n",
       "      <td>20</td>\n",
       "      <td>35</td>\n",
       "      <td>NaN</td>\n",
       "      <td>10265</td>\n",
       "      <td>98</td>\n",
       "      <td>11.0</td>\n",
       "      <td>8.0</td>\n",
       "      <td>1.0</td>\n",
       "      <td>0.0</td>\n",
       "      <td>0.0</td>\n",
       "      <td>0.0</td>\n",
       "      <td>0.0</td>\n",
       "      <td>20.0</td>\n",
       "    </tr>\n",
       "    <tr>\n",
       "      <th>8780</th>\n",
       "      <td>20161231</td>\n",
       "      <td>21</td>\n",
       "      <td>34</td>\n",
       "      <td>NaN</td>\n",
       "      <td>10258</td>\n",
       "      <td>98</td>\n",
       "      <td>9.0</td>\n",
       "      <td>9.0</td>\n",
       "      <td>1.0</td>\n",
       "      <td>0.0</td>\n",
       "      <td>0.0</td>\n",
       "      <td>0.0</td>\n",
       "      <td>0.0</td>\n",
       "      <td>34.0</td>\n",
       "    </tr>\n",
       "    <tr>\n",
       "      <th>8781</th>\n",
       "      <td>20161231</td>\n",
       "      <td>22</td>\n",
       "      <td>30</td>\n",
       "      <td>NaN</td>\n",
       "      <td>10253</td>\n",
       "      <td>98</td>\n",
       "      <td>9.0</td>\n",
       "      <td>9.0</td>\n",
       "      <td>1.0</td>\n",
       "      <td>1.0</td>\n",
       "      <td>0.0</td>\n",
       "      <td>0.0</td>\n",
       "      <td>0.0</td>\n",
       "      <td>33.0</td>\n",
       "    </tr>\n",
       "    <tr>\n",
       "      <th>8782</th>\n",
       "      <td>20161231</td>\n",
       "      <td>23</td>\n",
       "      <td>28</td>\n",
       "      <td>NaN</td>\n",
       "      <td>10246</td>\n",
       "      <td>98</td>\n",
       "      <td>6.0</td>\n",
       "      <td>9.0</td>\n",
       "      <td>1.0</td>\n",
       "      <td>1.0</td>\n",
       "      <td>0.0</td>\n",
       "      <td>0.0</td>\n",
       "      <td>0.0</td>\n",
       "      <td>34.0</td>\n",
       "    </tr>\n",
       "  </tbody>\n",
       "</table>\n",
       "<p>7953 rows × 14 columns</p>\n",
       "</div>"
      ],
      "text/plain": [
       "      YYYYMMDD  TIME  TEMP  MIN_TEMP_GROUND  PRESSURE  HUMIDITY  VIEW_RANGE  \\\n",
       "0     20160101     1    68              NaN     10207        87        56.0   \n",
       "1     20160101     2    58              NaN     10214        92        57.0   \n",
       "2     20160101     3    57              NaN     10220        92        56.0   \n",
       "3     20160101     4    60              NaN     10225        93        57.0   \n",
       "4     20160101     5    45              NaN     10230        95        56.0   \n",
       "...        ...   ...   ...              ...       ...       ...         ...   \n",
       "8778  20161231    19    35              NaN     10271        98         7.0   \n",
       "8779  20161231    20    35              NaN     10265        98        11.0   \n",
       "8780  20161231    21    34              NaN     10258        98         9.0   \n",
       "8781  20161231    22    30              NaN     10253        98         9.0   \n",
       "8782  20161231    23    28              NaN     10246        98         6.0   \n",
       "\n",
       "      CLOUD  MIST  RAIN  SNOW  THUNDER  ICE  WEATHER_CODE  \n",
       "0       4.0   0.0   0.0   0.0      0.0  0.0          10.0  \n",
       "1       2.0   0.0   0.0   0.0      0.0  0.0          10.0  \n",
       "2       7.0   0.0   1.0   0.0      0.0  0.0          23.0  \n",
       "3       7.0   0.0   1.0   0.0      0.0  0.0          51.0  \n",
       "4       7.0   0.0   1.0   0.0      0.0  0.0          22.0  \n",
       "...     ...   ...   ...   ...      ...  ...           ...  \n",
       "8778    9.0   1.0   0.0   0.0      0.0  0.0          34.0  \n",
       "8779    8.0   1.0   0.0   0.0      0.0  0.0          20.0  \n",
       "8780    9.0   1.0   0.0   0.0      0.0  0.0          34.0  \n",
       "8781    9.0   1.0   1.0   0.0      0.0  0.0          33.0  \n",
       "8782    9.0   1.0   1.0   0.0      0.0  0.0          34.0  \n",
       "\n",
       "[7953 rows x 14 columns]"
      ]
     },
     "execution_count": 5,
     "metadata": {},
     "output_type": "execute_result"
    }
   ],
   "source": [
    "weather[weather.isnull().any(axis=1)] # Show all rows with missing values\n",
    "\n",
    "# Something weird happens in \"MIN_TEMP_GROUND\" column - We'll see later"
   ]
  },
  {
   "cell_type": "code",
   "execution_count": 6,
   "metadata": {
    "ExecuteTime": {
     "end_time": "2021-02-04T14:28:18.693816Z",
     "start_time": "2021-02-04T14:28:18.679750Z"
    }
   },
   "outputs": [
    {
     "data": {
      "text/plain": [
       "False"
      ]
     },
     "execution_count": 6,
     "metadata": {},
     "output_type": "execute_result"
    }
   ],
   "source": [
    "weather.isnull().all(axis=1).any() # Are there any rows with only null values?"
   ]
  },
  {
   "cell_type": "code",
   "execution_count": 7,
   "metadata": {
    "ExecuteTime": {
     "end_time": "2021-02-04T14:28:24.120065Z",
     "start_time": "2021-02-04T14:28:24.104168Z"
    }
   },
   "outputs": [
    {
     "data": {
      "text/plain": [
       "YYYYMMDD            True\n",
       "TIME                True\n",
       "TEMP                True\n",
       "MIN_TEMP_GROUND    False\n",
       "PRESSURE            True\n",
       "HUMIDITY            True\n",
       "VIEW_RANGE         False\n",
       "CLOUD              False\n",
       "MIST               False\n",
       "RAIN               False\n",
       "SNOW               False\n",
       "THUNDER            False\n",
       "ICE                False\n",
       "WEATHER_CODE       False\n",
       "dtype: bool"
      ]
     },
     "execution_count": 7,
     "metadata": {},
     "output_type": "execute_result"
    }
   ],
   "source": [
    "weather.notnull().all() # Are there any columns with no null values at all?"
   ]
  },
  {
   "cell_type": "code",
   "execution_count": 8,
   "metadata": {
    "ExecuteTime": {
     "end_time": "2021-02-04T14:28:29.982040Z",
     "start_time": "2021-02-04T14:28:29.965047Z"
    }
   },
   "outputs": [
    {
     "data": {
      "text/plain": [
       "0      NaN\n",
       "1      NaN\n",
       "2      NaN\n",
       "3      NaN\n",
       "4      NaN\n",
       "5      3.0\n",
       "6      NaN\n",
       "7      NaN\n",
       "8      NaN\n",
       "9      NaN\n",
       "10     NaN\n",
       "11   -17.0\n",
       "12     NaN\n",
       "13     NaN\n",
       "14     NaN\n",
       "15     NaN\n",
       "16     NaN\n",
       "17    47.0\n",
       "18     NaN\n",
       "19     NaN\n",
       "20     NaN\n",
       "21     NaN\n",
       "22     NaN\n",
       "23    47.0\n",
       "24     NaN\n",
       "25     NaN\n",
       "26     NaN\n",
       "27     NaN\n",
       "28     NaN\n",
       "29    48.0\n",
       "Name: MIN_TEMP_GROUND, dtype: float64"
      ]
     },
     "execution_count": 8,
     "metadata": {},
     "output_type": "execute_result"
    }
   ],
   "source": [
    "weather[\"MIN_TEMP_GROUND\"].head(30) # Do you see pattern?"
   ]
  },
  {
   "cell_type": "code",
   "execution_count": 9,
   "metadata": {
    "ExecuteTime": {
     "end_time": "2021-02-04T14:28:34.142080Z",
     "start_time": "2021-02-04T14:28:34.135391Z"
    }
   },
   "outputs": [
    {
     "data": {
      "text/plain": [
       "0          5\n",
       "1         11\n",
       "2         17\n",
       "3         23\n",
       "4         29\n",
       "        ... \n",
       "1459    8759\n",
       "1460    8765\n",
       "1461    8771\n",
       "1462    8777\n",
       "1463    8783\n",
       "Length: 1464, dtype: int64"
      ]
     },
     "execution_count": 9,
     "metadata": {},
     "output_type": "execute_result"
    }
   ],
   "source": [
    "every_6th_row_index = pd.Series(range(5, len(weather), 6)) # Indices for every 6th row\n",
    "\n",
    "every_6th_row_index"
   ]
  },
  {
   "cell_type": "code",
   "execution_count": 10,
   "metadata": {
    "ExecuteTime": {
     "end_time": "2021-02-04T14:28:44.704955Z",
     "start_time": "2021-02-04T14:28:44.700729Z"
    }
   },
   "outputs": [
    {
     "data": {
      "text/plain": [
       "True"
      ]
     },
     "execution_count": 10,
     "metadata": {},
     "output_type": "execute_result"
    }
   ],
   "source": [
    "weather[\"MIN_TEMP_GROUND\"][every_6th_row_index].notnull().all() # Are all these rows NOT null?"
   ]
  },
  {
   "cell_type": "code",
   "execution_count": 12,
   "metadata": {
    "ExecuteTime": {
     "end_time": "2021-02-04T14:45:30.293879Z",
     "start_time": "2021-02-04T14:45:30.286153Z"
    }
   },
   "outputs": [
    {
     "data": {
      "text/plain": [
       "True"
      ]
     },
     "execution_count": 12,
     "metadata": {},
     "output_type": "execute_result"
    }
   ],
   "source": [
    "weather['MIN_TEMP_GROUND'].drop(every_6th_row_index).isnull().all() # Are all other rows null?"
   ]
  },
  {
   "cell_type": "markdown",
   "metadata": {},
   "source": [
    "### Handling Missing Values\n",
    "\n",
    "---\n",
    "\n",
    "The strategy of handling missing values depends on the type of missing value and/or the problem and data at hand. We may have huge amount of data and dropping missing values will not affect our aims, or we may have small amount of data and it's desirable to impute the missing values.\n",
    "\n",
    "Let see how can we drop/remove missing values in rows and columns."
   ]
  },
  {
   "cell_type": "code",
   "execution_count": 13,
   "metadata": {
    "ExecuteTime": {
     "end_time": "2021-02-04T15:21:09.332093Z",
     "start_time": "2021-02-04T15:21:09.328241Z"
    }
   },
   "outputs": [
    {
     "data": {
      "text/plain": [
       "0     1.0\n",
       "1     NaN\n",
       "2     3.5\n",
       "3     NaN\n",
       "4     7.0\n",
       "5    10.0\n",
       "6     NaN\n",
       "dtype: float64"
      ]
     },
     "execution_count": 13,
     "metadata": {},
     "output_type": "execute_result"
    }
   ],
   "source": [
    "series = pd.Series([1, np.nan, 3.5, np.nan, 7, 10, np.nan])\n",
    "\n",
    "series"
   ]
  },
  {
   "cell_type": "code",
   "execution_count": 15,
   "metadata": {
    "ExecuteTime": {
     "end_time": "2021-02-04T15:25:30.846621Z",
     "start_time": "2021-02-04T15:25:30.842474Z"
    }
   },
   "outputs": [
    {
     "data": {
      "text/plain": [
       "0     1.0\n",
       "2     3.5\n",
       "4     7.0\n",
       "5    10.0\n",
       "dtype: float64"
      ]
     },
     "execution_count": 15,
     "metadata": {},
     "output_type": "execute_result"
    }
   ],
   "source": [
    "series.dropna() # Removes missing values\n",
    "\n",
    "\n",
    "series[series.notnull()] # Same as above"
   ]
  },
  {
   "cell_type": "markdown",
   "metadata": {
    "ExecuteTime": {
     "end_time": "2020-12-31T11:39:46.785537Z",
     "start_time": "2020-12-31T11:39:46.745839Z"
    }
   },
   "source": [
    "Dropping missing values from DataFrame is somewhat different from dropping missing values from Series. For that reason, I create sample DataFrame, to show the effect of `dropna()` method on DataFrame."
   ]
  },
  {
   "cell_type": "code",
   "execution_count": 16,
   "metadata": {
    "ExecuteTime": {
     "end_time": "2021-02-04T15:26:19.163366Z",
     "start_time": "2021-02-04T15:26:19.153722Z"
    }
   },
   "outputs": [
    {
     "data": {
      "text/html": [
       "<div>\n",
       "<style scoped>\n",
       "    .dataframe tbody tr th:only-of-type {\n",
       "        vertical-align: middle;\n",
       "    }\n",
       "\n",
       "    .dataframe tbody tr th {\n",
       "        vertical-align: top;\n",
       "    }\n",
       "\n",
       "    .dataframe thead th {\n",
       "        text-align: right;\n",
       "    }\n",
       "</style>\n",
       "<table border=\"1\" class=\"dataframe\">\n",
       "  <thead>\n",
       "    <tr style=\"text-align: right;\">\n",
       "      <th></th>\n",
       "      <th>a</th>\n",
       "      <th>b</th>\n",
       "      <th>c</th>\n",
       "    </tr>\n",
       "  </thead>\n",
       "  <tbody>\n",
       "    <tr>\n",
       "      <th>0</th>\n",
       "      <td>1.0</td>\n",
       "      <td>6.5</td>\n",
       "      <td>3.0</td>\n",
       "    </tr>\n",
       "    <tr>\n",
       "      <th>1</th>\n",
       "      <td>1.0</td>\n",
       "      <td>NaN</td>\n",
       "      <td>NaN</td>\n",
       "    </tr>\n",
       "    <tr>\n",
       "      <th>2</th>\n",
       "      <td>NaN</td>\n",
       "      <td>NaN</td>\n",
       "      <td>NaN</td>\n",
       "    </tr>\n",
       "    <tr>\n",
       "      <th>3</th>\n",
       "      <td>NaN</td>\n",
       "      <td>6.5</td>\n",
       "      <td>3.0</td>\n",
       "    </tr>\n",
       "  </tbody>\n",
       "</table>\n",
       "</div>"
      ],
      "text/plain": [
       "     a    b    c\n",
       "0  1.0  6.5  3.0\n",
       "1  1.0  NaN  NaN\n",
       "2  NaN  NaN  NaN\n",
       "3  NaN  6.5  3.0"
      ]
     },
     "execution_count": 16,
     "metadata": {},
     "output_type": "execute_result"
    }
   ],
   "source": [
    "missing_df = pd.DataFrame([[1., 6.5, 3.], [1., np.nan, np.nan],\n",
    "                           [np.nan, np.nan, np.nan], [np.nan, 6.5, 3.]], columns=[\"a\", \"b\", \"c\"])\n",
    "\n",
    "missing_df"
   ]
  },
  {
   "cell_type": "code",
   "execution_count": 18,
   "metadata": {
    "ExecuteTime": {
     "end_time": "2021-02-04T15:27:52.796983Z",
     "start_time": "2021-02-04T15:27:52.783827Z"
    }
   },
   "outputs": [
    {
     "data": {
      "text/html": [
       "<div>\n",
       "<style scoped>\n",
       "    .dataframe tbody tr th:only-of-type {\n",
       "        vertical-align: middle;\n",
       "    }\n",
       "\n",
       "    .dataframe tbody tr th {\n",
       "        vertical-align: top;\n",
       "    }\n",
       "\n",
       "    .dataframe thead th {\n",
       "        text-align: right;\n",
       "    }\n",
       "</style>\n",
       "<table border=\"1\" class=\"dataframe\">\n",
       "  <thead>\n",
       "    <tr style=\"text-align: right;\">\n",
       "      <th></th>\n",
       "      <th>a</th>\n",
       "      <th>b</th>\n",
       "      <th>c</th>\n",
       "    </tr>\n",
       "  </thead>\n",
       "  <tbody>\n",
       "    <tr>\n",
       "      <th>0</th>\n",
       "      <td>1.0</td>\n",
       "      <td>6.5</td>\n",
       "      <td>3.0</td>\n",
       "    </tr>\n",
       "    <tr>\n",
       "      <th>1</th>\n",
       "      <td>1.0</td>\n",
       "      <td>NaN</td>\n",
       "      <td>NaN</td>\n",
       "    </tr>\n",
       "    <tr>\n",
       "      <th>3</th>\n",
       "      <td>NaN</td>\n",
       "      <td>6.5</td>\n",
       "      <td>3.0</td>\n",
       "    </tr>\n",
       "  </tbody>\n",
       "</table>\n",
       "</div>"
      ],
      "text/plain": [
       "     a    b    c\n",
       "0  1.0  6.5  3.0\n",
       "1  1.0  NaN  NaN\n",
       "3  NaN  6.5  3.0"
      ]
     },
     "execution_count": 18,
     "metadata": {},
     "output_type": "execute_result"
    }
   ],
   "source": [
    "missing_df.dropna(axis=0, how=\"any\") # The shortest solution - drop everything (Generally not good idea!!!)\n",
    "\n",
    "\n",
    "missing_df.dropna(axis=0, how=\"all\") # Remove rows if all values are missing"
   ]
  },
  {
   "cell_type": "code",
   "execution_count": 19,
   "metadata": {
    "ExecuteTime": {
     "end_time": "2021-02-04T15:28:39.695257Z",
     "start_time": "2021-02-04T15:28:39.685044Z"
    }
   },
   "outputs": [
    {
     "data": {
      "text/html": [
       "<div>\n",
       "<style scoped>\n",
       "    .dataframe tbody tr th:only-of-type {\n",
       "        vertical-align: middle;\n",
       "    }\n",
       "\n",
       "    .dataframe tbody tr th {\n",
       "        vertical-align: top;\n",
       "    }\n",
       "\n",
       "    .dataframe thead th {\n",
       "        text-align: right;\n",
       "    }\n",
       "</style>\n",
       "<table border=\"1\" class=\"dataframe\">\n",
       "  <thead>\n",
       "    <tr style=\"text-align: right;\">\n",
       "      <th></th>\n",
       "      <th>a</th>\n",
       "      <th>b</th>\n",
       "      <th>c</th>\n",
       "    </tr>\n",
       "  </thead>\n",
       "  <tbody>\n",
       "    <tr>\n",
       "      <th>0</th>\n",
       "      <td>1.0</td>\n",
       "      <td>6.5</td>\n",
       "      <td>3.0</td>\n",
       "    </tr>\n",
       "    <tr>\n",
       "      <th>1</th>\n",
       "      <td>1.0</td>\n",
       "      <td>NaN</td>\n",
       "      <td>NaN</td>\n",
       "    </tr>\n",
       "    <tr>\n",
       "      <th>2</th>\n",
       "      <td>NaN</td>\n",
       "      <td>NaN</td>\n",
       "      <td>NaN</td>\n",
       "    </tr>\n",
       "    <tr>\n",
       "      <th>3</th>\n",
       "      <td>NaN</td>\n",
       "      <td>6.5</td>\n",
       "      <td>3.0</td>\n",
       "    </tr>\n",
       "  </tbody>\n",
       "</table>\n",
       "</div>"
      ],
      "text/plain": [
       "     a    b    c\n",
       "0  1.0  6.5  3.0\n",
       "1  1.0  NaN  NaN\n",
       "2  NaN  NaN  NaN\n",
       "3  NaN  6.5  3.0"
      ]
     },
     "execution_count": 19,
     "metadata": {},
     "output_type": "execute_result"
    }
   ],
   "source": [
    "missing_df.dropna(axis=1, how=\"any\") # Drop column if contains at least one missing value\n",
    "\n",
    "missing_df.dropna(axis=1, how=\"all\") # Drop column if all values are missing"
   ]
  },
  {
   "cell_type": "code",
   "execution_count": 21,
   "metadata": {
    "ExecuteTime": {
     "end_time": "2021-02-04T15:29:37.973968Z",
     "start_time": "2021-02-04T15:29:37.964836Z"
    }
   },
   "outputs": [
    {
     "data": {
      "text/html": [
       "<div>\n",
       "<style scoped>\n",
       "    .dataframe tbody tr th:only-of-type {\n",
       "        vertical-align: middle;\n",
       "    }\n",
       "\n",
       "    .dataframe tbody tr th {\n",
       "        vertical-align: top;\n",
       "    }\n",
       "\n",
       "    .dataframe thead th {\n",
       "        text-align: right;\n",
       "    }\n",
       "</style>\n",
       "<table border=\"1\" class=\"dataframe\">\n",
       "  <thead>\n",
       "    <tr style=\"text-align: right;\">\n",
       "      <th></th>\n",
       "      <th>a</th>\n",
       "      <th>b</th>\n",
       "      <th>c</th>\n",
       "    </tr>\n",
       "  </thead>\n",
       "  <tbody>\n",
       "    <tr>\n",
       "      <th>0</th>\n",
       "      <td>1.0</td>\n",
       "      <td>6.5</td>\n",
       "      <td>3.0</td>\n",
       "    </tr>\n",
       "  </tbody>\n",
       "</table>\n",
       "</div>"
      ],
      "text/plain": [
       "     a    b    c\n",
       "0  1.0  6.5  3.0"
      ]
     },
     "execution_count": 21,
     "metadata": {},
     "output_type": "execute_result"
    }
   ],
   "source": [
    "missing_df.dropna(axis=0, how=\"any\", subset=[\"a\", \"b\"]) # Filter out missing values by column"
   ]
  },
  {
   "cell_type": "markdown",
   "metadata": {},
   "source": [
    "Rather than filtering out missing data (and potentially discarding other data along with it), you may want to fill in the “holes” in any number of ways. For most purposes, the `fillna()` method is the workhorse function to use."
   ]
  },
  {
   "cell_type": "code",
   "execution_count": 22,
   "metadata": {
    "ExecuteTime": {
     "end_time": "2021-02-04T15:31:18.479327Z",
     "start_time": "2021-02-04T15:31:18.472983Z"
    }
   },
   "outputs": [
    {
     "data": {
      "text/html": [
       "<div>\n",
       "<style scoped>\n",
       "    .dataframe tbody tr th:only-of-type {\n",
       "        vertical-align: middle;\n",
       "    }\n",
       "\n",
       "    .dataframe tbody tr th {\n",
       "        vertical-align: top;\n",
       "    }\n",
       "\n",
       "    .dataframe thead th {\n",
       "        text-align: right;\n",
       "    }\n",
       "</style>\n",
       "<table border=\"1\" class=\"dataframe\">\n",
       "  <thead>\n",
       "    <tr style=\"text-align: right;\">\n",
       "      <th></th>\n",
       "      <th>a</th>\n",
       "      <th>b</th>\n",
       "      <th>c</th>\n",
       "    </tr>\n",
       "  </thead>\n",
       "  <tbody>\n",
       "    <tr>\n",
       "      <th>0</th>\n",
       "      <td>1.0</td>\n",
       "      <td>6.5</td>\n",
       "      <td>3.0</td>\n",
       "    </tr>\n",
       "    <tr>\n",
       "      <th>1</th>\n",
       "      <td>1.0</td>\n",
       "      <td>NaN</td>\n",
       "      <td>NaN</td>\n",
       "    </tr>\n",
       "    <tr>\n",
       "      <th>2</th>\n",
       "      <td>NaN</td>\n",
       "      <td>NaN</td>\n",
       "      <td>NaN</td>\n",
       "    </tr>\n",
       "    <tr>\n",
       "      <th>3</th>\n",
       "      <td>NaN</td>\n",
       "      <td>6.5</td>\n",
       "      <td>3.0</td>\n",
       "    </tr>\n",
       "  </tbody>\n",
       "</table>\n",
       "</div>"
      ],
      "text/plain": [
       "     a    b    c\n",
       "0  1.0  6.5  3.0\n",
       "1  1.0  NaN  NaN\n",
       "2  NaN  NaN  NaN\n",
       "3  NaN  6.5  3.0"
      ]
     },
     "execution_count": 22,
     "metadata": {},
     "output_type": "execute_result"
    }
   ],
   "source": [
    "missing_df"
   ]
  },
  {
   "cell_type": "code",
   "execution_count": 34,
   "metadata": {
    "ExecuteTime": {
     "end_time": "2021-02-04T15:39:10.235661Z",
     "start_time": "2021-02-04T15:39:10.220092Z"
    }
   },
   "outputs": [
    {
     "data": {
      "text/html": [
       "<div>\n",
       "<style scoped>\n",
       "    .dataframe tbody tr th:only-of-type {\n",
       "        vertical-align: middle;\n",
       "    }\n",
       "\n",
       "    .dataframe tbody tr th {\n",
       "        vertical-align: top;\n",
       "    }\n",
       "\n",
       "    .dataframe thead th {\n",
       "        text-align: right;\n",
       "    }\n",
       "</style>\n",
       "<table border=\"1\" class=\"dataframe\">\n",
       "  <thead>\n",
       "    <tr style=\"text-align: right;\">\n",
       "      <th></th>\n",
       "      <th>a</th>\n",
       "      <th>b</th>\n",
       "      <th>c</th>\n",
       "    </tr>\n",
       "  </thead>\n",
       "  <tbody>\n",
       "    <tr>\n",
       "      <th>0</th>\n",
       "      <td>1.0</td>\n",
       "      <td>6.5</td>\n",
       "      <td>3.0</td>\n",
       "    </tr>\n",
       "    <tr>\n",
       "      <th>1</th>\n",
       "      <td>1.0</td>\n",
       "      <td>-1.0</td>\n",
       "      <td>100.0</td>\n",
       "    </tr>\n",
       "    <tr>\n",
       "      <th>2</th>\n",
       "      <td>999.0</td>\n",
       "      <td>-1.0</td>\n",
       "      <td>100.0</td>\n",
       "    </tr>\n",
       "    <tr>\n",
       "      <th>3</th>\n",
       "      <td>999.0</td>\n",
       "      <td>6.5</td>\n",
       "      <td>3.0</td>\n",
       "    </tr>\n",
       "  </tbody>\n",
       "</table>\n",
       "</div>"
      ],
      "text/plain": [
       "       a    b      c\n",
       "0    1.0  6.5    3.0\n",
       "1    1.0 -1.0  100.0\n",
       "2  999.0 -1.0  100.0\n",
       "3  999.0  6.5    3.0"
      ]
     },
     "execution_count": 34,
     "metadata": {},
     "output_type": "execute_result"
    }
   ],
   "source": [
    "missing_df.fillna(value=999) # Fill missing values with a constant\n",
    "\n",
    "missing_df.fillna(missing_df.mean()) # Fill missing values with a mean\n",
    "\n",
    "missing_df.fillna(missing_df.mode().iloc[0]) # Fill missing values with a mode\n",
    "\n",
    "missing_df.fillna({\"a\": 999, \"b\": -1, \"c\": 100}) # Fill missing values by different fill value for each column"
   ]
  },
  {
   "cell_type": "code",
   "execution_count": 35,
   "metadata": {
    "ExecuteTime": {
     "end_time": "2021-02-04T15:39:34.610623Z",
     "start_time": "2021-02-04T15:39:34.605026Z"
    }
   },
   "outputs": [
    {
     "data": {
      "text/html": [
       "<div>\n",
       "<style scoped>\n",
       "    .dataframe tbody tr th:only-of-type {\n",
       "        vertical-align: middle;\n",
       "    }\n",
       "\n",
       "    .dataframe tbody tr th {\n",
       "        vertical-align: top;\n",
       "    }\n",
       "\n",
       "    .dataframe thead th {\n",
       "        text-align: right;\n",
       "    }\n",
       "</style>\n",
       "<table border=\"1\" class=\"dataframe\">\n",
       "  <thead>\n",
       "    <tr style=\"text-align: right;\">\n",
       "      <th></th>\n",
       "      <th>a</th>\n",
       "      <th>b</th>\n",
       "      <th>c</th>\n",
       "    </tr>\n",
       "  </thead>\n",
       "  <tbody>\n",
       "    <tr>\n",
       "      <th>0</th>\n",
       "      <td>1.0</td>\n",
       "      <td>6.5</td>\n",
       "      <td>3.0</td>\n",
       "    </tr>\n",
       "    <tr>\n",
       "      <th>1</th>\n",
       "      <td>1.0</td>\n",
       "      <td>NaN</td>\n",
       "      <td>NaN</td>\n",
       "    </tr>\n",
       "    <tr>\n",
       "      <th>2</th>\n",
       "      <td>NaN</td>\n",
       "      <td>NaN</td>\n",
       "      <td>NaN</td>\n",
       "    </tr>\n",
       "    <tr>\n",
       "      <th>3</th>\n",
       "      <td>NaN</td>\n",
       "      <td>6.5</td>\n",
       "      <td>3.0</td>\n",
       "    </tr>\n",
       "  </tbody>\n",
       "</table>\n",
       "</div>"
      ],
      "text/plain": [
       "     a    b    c\n",
       "0  1.0  6.5  3.0\n",
       "1  1.0  NaN  NaN\n",
       "2  NaN  NaN  NaN\n",
       "3  NaN  6.5  3.0"
      ]
     },
     "execution_count": 35,
     "metadata": {},
     "output_type": "execute_result"
    }
   ],
   "source": [
    "missing_df"
   ]
  },
  {
   "cell_type": "code",
   "execution_count": 37,
   "metadata": {
    "ExecuteTime": {
     "end_time": "2021-02-04T15:40:42.232009Z",
     "start_time": "2021-02-04T15:40:42.223589Z"
    }
   },
   "outputs": [
    {
     "data": {
      "text/html": [
       "<div>\n",
       "<style scoped>\n",
       "    .dataframe tbody tr th:only-of-type {\n",
       "        vertical-align: middle;\n",
       "    }\n",
       "\n",
       "    .dataframe tbody tr th {\n",
       "        vertical-align: top;\n",
       "    }\n",
       "\n",
       "    .dataframe thead th {\n",
       "        text-align: right;\n",
       "    }\n",
       "</style>\n",
       "<table border=\"1\" class=\"dataframe\">\n",
       "  <thead>\n",
       "    <tr style=\"text-align: right;\">\n",
       "      <th></th>\n",
       "      <th>a</th>\n",
       "      <th>b</th>\n",
       "      <th>c</th>\n",
       "    </tr>\n",
       "  </thead>\n",
       "  <tbody>\n",
       "    <tr>\n",
       "      <th>0</th>\n",
       "      <td>1.0</td>\n",
       "      <td>6.5</td>\n",
       "      <td>3.0</td>\n",
       "    </tr>\n",
       "    <tr>\n",
       "      <th>1</th>\n",
       "      <td>1.0</td>\n",
       "      <td>6.5</td>\n",
       "      <td>3.0</td>\n",
       "    </tr>\n",
       "    <tr>\n",
       "      <th>2</th>\n",
       "      <td>NaN</td>\n",
       "      <td>6.5</td>\n",
       "      <td>3.0</td>\n",
       "    </tr>\n",
       "    <tr>\n",
       "      <th>3</th>\n",
       "      <td>NaN</td>\n",
       "      <td>6.5</td>\n",
       "      <td>3.0</td>\n",
       "    </tr>\n",
       "  </tbody>\n",
       "</table>\n",
       "</div>"
      ],
      "text/plain": [
       "     a    b    c\n",
       "0  1.0  6.5  3.0\n",
       "1  1.0  6.5  3.0\n",
       "2  NaN  6.5  3.0\n",
       "3  NaN  6.5  3.0"
      ]
     },
     "execution_count": 37,
     "metadata": {},
     "output_type": "execute_result"
    }
   ],
   "source": [
    "missing_df.fillna(method=\"ffill\") # Forward Fill - use last valid observation for filling\n",
    "\n",
    "missing_df.fillna(method=\"backfill\") # Forward fill - use next valid observation to fill gap"
   ]
  },
  {
   "cell_type": "markdown",
   "metadata": {},
   "source": [
    "## Removing Duplicate Values\n",
    "\n",
    "---\n",
    "\n",
    "We may have duplicate values in our data due to several reasons and they can cause some difficulties during data analysis procedure. We have to identify them and then handle them properly. In other words, we have to find unique identifier for each row."
   ]
  },
  {
   "cell_type": "code",
   "execution_count": 38,
   "metadata": {
    "ExecuteTime": {
     "end_time": "2021-02-04T15:44:30.554148Z",
     "start_time": "2021-02-04T15:44:30.530819Z"
    }
   },
   "outputs": [
    {
     "data": {
      "text/html": [
       "<div>\n",
       "<style scoped>\n",
       "    .dataframe tbody tr th:only-of-type {\n",
       "        vertical-align: middle;\n",
       "    }\n",
       "\n",
       "    .dataframe tbody tr th {\n",
       "        vertical-align: top;\n",
       "    }\n",
       "\n",
       "    .dataframe thead th {\n",
       "        text-align: right;\n",
       "    }\n",
       "</style>\n",
       "<table border=\"1\" class=\"dataframe\">\n",
       "  <thead>\n",
       "    <tr style=\"text-align: right;\">\n",
       "      <th></th>\n",
       "      <th>id</th>\n",
       "      <th>nationality</th>\n",
       "      <th>sex</th>\n",
       "      <th>height</th>\n",
       "      <th>weight</th>\n",
       "      <th>sport</th>\n",
       "      <th>gold</th>\n",
       "      <th>silver</th>\n",
       "      <th>bronze</th>\n",
       "    </tr>\n",
       "  </thead>\n",
       "  <tbody>\n",
       "    <tr>\n",
       "      <th>0</th>\n",
       "      <td>736041664</td>\n",
       "      <td>ESP</td>\n",
       "      <td>male</td>\n",
       "      <td>1.72</td>\n",
       "      <td>64.0</td>\n",
       "      <td>athletics</td>\n",
       "      <td>0</td>\n",
       "      <td>0</td>\n",
       "      <td>0</td>\n",
       "    </tr>\n",
       "    <tr>\n",
       "      <th>1</th>\n",
       "      <td>532037425</td>\n",
       "      <td>KOR</td>\n",
       "      <td>female</td>\n",
       "      <td>1.68</td>\n",
       "      <td>56.0</td>\n",
       "      <td>fencing</td>\n",
       "      <td>0</td>\n",
       "      <td>0</td>\n",
       "      <td>0</td>\n",
       "    </tr>\n",
       "    <tr>\n",
       "      <th>2</th>\n",
       "      <td>435962603</td>\n",
       "      <td>CAN</td>\n",
       "      <td>male</td>\n",
       "      <td>1.98</td>\n",
       "      <td>79.0</td>\n",
       "      <td>athletics</td>\n",
       "      <td>0</td>\n",
       "      <td>0</td>\n",
       "      <td>1</td>\n",
       "    </tr>\n",
       "    <tr>\n",
       "      <th>3</th>\n",
       "      <td>521041435</td>\n",
       "      <td>MDA</td>\n",
       "      <td>male</td>\n",
       "      <td>1.83</td>\n",
       "      <td>80.0</td>\n",
       "      <td>taekwondo</td>\n",
       "      <td>0</td>\n",
       "      <td>0</td>\n",
       "      <td>0</td>\n",
       "    </tr>\n",
       "    <tr>\n",
       "      <th>4</th>\n",
       "      <td>33922579</td>\n",
       "      <td>NZL</td>\n",
       "      <td>male</td>\n",
       "      <td>1.81</td>\n",
       "      <td>71.0</td>\n",
       "      <td>cycling</td>\n",
       "      <td>0</td>\n",
       "      <td>0</td>\n",
       "      <td>0</td>\n",
       "    </tr>\n",
       "  </tbody>\n",
       "</table>\n",
       "</div>"
      ],
      "text/plain": [
       "          id nationality     sex  height  weight      sport gold silver bronze\n",
       "0  736041664         ESP    male    1.72    64.0  athletics    0      0      0\n",
       "1  532037425         KOR  female    1.68    56.0    fencing    0      0      0\n",
       "2  435962603         CAN    male    1.98    79.0  athletics    0      0      1\n",
       "3  521041435         MDA    male    1.83    80.0  taekwondo    0      0      0\n",
       "4   33922579         NZL    male    1.81    71.0    cycling    0      0      0"
      ]
     },
     "execution_count": 38,
     "metadata": {},
     "output_type": "execute_result"
    }
   ],
   "source": [
    "athletes = pd.read_csv(\"data/athletes.csv\")\n",
    "\n",
    "athletes.head()"
   ]
  },
  {
   "cell_type": "code",
   "execution_count": 44,
   "metadata": {
    "ExecuteTime": {
     "end_time": "2021-02-04T15:49:29.615530Z",
     "start_time": "2021-02-04T15:49:29.600655Z"
    }
   },
   "outputs": [
    {
     "data": {
      "text/plain": [
       "0        False\n",
       "1        False\n",
       "2        False\n",
       "3        False\n",
       "4        False\n",
       "         ...  \n",
       "11538    False\n",
       "11539    False\n",
       "11540    False\n",
       "11541    False\n",
       "11542    False\n",
       "Length: 11543, dtype: bool"
      ]
     },
     "execution_count": 44,
     "metadata": {},
     "output_type": "execute_result"
    }
   ],
   "source": [
    "athletes.duplicated() # Boolean series indicating duplicated rows. Uses all columns to find duplicates\n",
    "\n",
    "athletes.duplicated(subset=[\"id\", \"sex\"]) # Uses only two columns for duplicate identification"
   ]
  },
  {
   "cell_type": "code",
   "execution_count": 45,
   "metadata": {
    "ExecuteTime": {
     "end_time": "2021-02-04T15:49:37.159818Z",
     "start_time": "2021-02-04T15:49:37.135226Z"
    }
   },
   "outputs": [
    {
     "data": {
      "text/html": [
       "<div>\n",
       "<style scoped>\n",
       "    .dataframe tbody tr th:only-of-type {\n",
       "        vertical-align: middle;\n",
       "    }\n",
       "\n",
       "    .dataframe tbody tr th {\n",
       "        vertical-align: top;\n",
       "    }\n",
       "\n",
       "    .dataframe thead th {\n",
       "        text-align: right;\n",
       "    }\n",
       "</style>\n",
       "<table border=\"1\" class=\"dataframe\">\n",
       "  <thead>\n",
       "    <tr style=\"text-align: right;\">\n",
       "      <th></th>\n",
       "      <th>id</th>\n",
       "      <th>nationality</th>\n",
       "      <th>sex</th>\n",
       "      <th>height</th>\n",
       "      <th>weight</th>\n",
       "      <th>sport</th>\n",
       "      <th>gold</th>\n",
       "      <th>silver</th>\n",
       "      <th>bronze</th>\n",
       "    </tr>\n",
       "  </thead>\n",
       "  <tbody>\n",
       "    <tr>\n",
       "      <th>3224</th>\n",
       "      <td>277821751</td>\n",
       "      <td>RUS</td>\n",
       "      <td>female</td>\n",
       "      <td>1.76</td>\n",
       "      <td>67.0</td>\n",
       "      <td>aquatics</td>\n",
       "      <td>0</td>\n",
       "      <td>0</td>\n",
       "      <td>1</td>\n",
       "    </tr>\n",
       "    <tr>\n",
       "      <th>3813</th>\n",
       "      <td>96493170</td>\n",
       "      <td>GER</td>\n",
       "      <td>male</td>\n",
       "      <td>1.82</td>\n",
       "      <td>78.0</td>\n",
       "      <td>football</td>\n",
       "      <td>0</td>\n",
       "      <td>1</td>\n",
       "      <td>0</td>\n",
       "    </tr>\n",
       "    <tr>\n",
       "      <th>5676</th>\n",
       "      <td>891867859</td>\n",
       "      <td>USA</td>\n",
       "      <td>male</td>\n",
       "      <td>1.88</td>\n",
       "      <td>86.0</td>\n",
       "      <td>athletics</td>\n",
       "      <td>1</td>\n",
       "      <td>0</td>\n",
       "      <td>0</td>\n",
       "    </tr>\n",
       "    <tr>\n",
       "      <th>9695</th>\n",
       "      <td>848761398</td>\n",
       "      <td>COL</td>\n",
       "      <td>male</td>\n",
       "      <td>1.70</td>\n",
       "      <td>61.0</td>\n",
       "      <td>cycling</td>\n",
       "      <td>0</td>\n",
       "      <td>0</td>\n",
       "      <td>0</td>\n",
       "    </tr>\n",
       "    <tr>\n",
       "      <th>10774</th>\n",
       "      <td>1152723</td>\n",
       "      <td>GRE</td>\n",
       "      <td>female</td>\n",
       "      <td>1.81</td>\n",
       "      <td>70.0</td>\n",
       "      <td>fencing</td>\n",
       "      <td>0</td>\n",
       "      <td>0</td>\n",
       "      <td>0</td>\n",
       "    </tr>\n",
       "  </tbody>\n",
       "</table>\n",
       "</div>"
      ],
      "text/plain": [
       "              id nationality     sex  height  weight      sport gold silver  \\\n",
       "3224   277821751         RUS  female    1.76    67.0   aquatics    0      0   \n",
       "3813    96493170         GER    male    1.82    78.0   football    0      1   \n",
       "5676   891867859         USA    male    1.88    86.0  athletics    1      0   \n",
       "9695   848761398         COL    male    1.70    61.0    cycling    0      0   \n",
       "10774    1152723         GRE  female    1.81    70.0    fencing    0      0   \n",
       "\n",
       "      bronze  \n",
       "3224       1  \n",
       "3813       0  \n",
       "5676       0  \n",
       "9695       0  \n",
       "10774      0  "
      ]
     },
     "execution_count": 45,
     "metadata": {},
     "output_type": "execute_result"
    }
   ],
   "source": [
    "athletes[athletes.duplicated()] # Shows which rows are duplicated"
   ]
  },
  {
   "cell_type": "code",
   "execution_count": 70,
   "metadata": {
    "ExecuteTime": {
     "end_time": "2021-02-04T15:58:37.821869Z",
     "start_time": "2021-02-04T15:58:37.795407Z"
    }
   },
   "outputs": [
    {
     "data": {
      "text/html": [
       "<div>\n",
       "<style scoped>\n",
       "    .dataframe tbody tr th:only-of-type {\n",
       "        vertical-align: middle;\n",
       "    }\n",
       "\n",
       "    .dataframe tbody tr th {\n",
       "        vertical-align: top;\n",
       "    }\n",
       "\n",
       "    .dataframe thead th {\n",
       "        text-align: right;\n",
       "    }\n",
       "</style>\n",
       "<table border=\"1\" class=\"dataframe\">\n",
       "  <thead>\n",
       "    <tr style=\"text-align: right;\">\n",
       "      <th></th>\n",
       "      <th>id</th>\n",
       "      <th>nationality</th>\n",
       "      <th>sex</th>\n",
       "      <th>height</th>\n",
       "      <th>weight</th>\n",
       "      <th>sport</th>\n",
       "      <th>gold</th>\n",
       "      <th>silver</th>\n",
       "      <th>bronze</th>\n",
       "    </tr>\n",
       "  </thead>\n",
       "  <tbody>\n",
       "    <tr>\n",
       "      <th>0</th>\n",
       "      <td>736041664</td>\n",
       "      <td>ESP</td>\n",
       "      <td>male</td>\n",
       "      <td>1.72</td>\n",
       "      <td>64.0</td>\n",
       "      <td>athletics</td>\n",
       "      <td>0</td>\n",
       "      <td>0</td>\n",
       "      <td>0</td>\n",
       "    </tr>\n",
       "    <tr>\n",
       "      <th>1</th>\n",
       "      <td>532037425</td>\n",
       "      <td>KOR</td>\n",
       "      <td>female</td>\n",
       "      <td>1.68</td>\n",
       "      <td>56.0</td>\n",
       "      <td>fencing</td>\n",
       "      <td>0</td>\n",
       "      <td>0</td>\n",
       "      <td>0</td>\n",
       "    </tr>\n",
       "    <tr>\n",
       "      <th>2</th>\n",
       "      <td>435962603</td>\n",
       "      <td>CAN</td>\n",
       "      <td>male</td>\n",
       "      <td>1.98</td>\n",
       "      <td>79.0</td>\n",
       "      <td>athletics</td>\n",
       "      <td>0</td>\n",
       "      <td>0</td>\n",
       "      <td>1</td>\n",
       "    </tr>\n",
       "    <tr>\n",
       "      <th>3</th>\n",
       "      <td>521041435</td>\n",
       "      <td>MDA</td>\n",
       "      <td>male</td>\n",
       "      <td>1.83</td>\n",
       "      <td>80.0</td>\n",
       "      <td>taekwondo</td>\n",
       "      <td>0</td>\n",
       "      <td>0</td>\n",
       "      <td>0</td>\n",
       "    </tr>\n",
       "    <tr>\n",
       "      <th>4</th>\n",
       "      <td>33922579</td>\n",
       "      <td>NZL</td>\n",
       "      <td>male</td>\n",
       "      <td>1.81</td>\n",
       "      <td>71.0</td>\n",
       "      <td>cycling</td>\n",
       "      <td>0</td>\n",
       "      <td>0</td>\n",
       "      <td>0</td>\n",
       "    </tr>\n",
       "    <tr>\n",
       "      <th>...</th>\n",
       "      <td>...</td>\n",
       "      <td>...</td>\n",
       "      <td>...</td>\n",
       "      <td>...</td>\n",
       "      <td>...</td>\n",
       "      <td>...</td>\n",
       "      <td>...</td>\n",
       "      <td>...</td>\n",
       "      <td>...</td>\n",
       "    </tr>\n",
       "    <tr>\n",
       "      <th>7099</th>\n",
       "      <td>104377411</td>\n",
       "      <td>SOM</td>\n",
       "      <td>female</td>\n",
       "      <td>NaN</td>\n",
       "      <td>NaN</td>\n",
       "      <td>athletics</td>\n",
       "      <td>0</td>\n",
       "      <td>0</td>\n",
       "      <td>0</td>\n",
       "    </tr>\n",
       "    <tr>\n",
       "      <th>7251</th>\n",
       "      <td>386159479</td>\n",
       "      <td>PNG</td>\n",
       "      <td>male</td>\n",
       "      <td>1.75</td>\n",
       "      <td>64.0</td>\n",
       "      <td>taekwondo</td>\n",
       "      <td>0</td>\n",
       "      <td>0</td>\n",
       "      <td>0</td>\n",
       "    </tr>\n",
       "    <tr>\n",
       "      <th>7699</th>\n",
       "      <td>984836225</td>\n",
       "      <td>YEM</td>\n",
       "      <td>male</td>\n",
       "      <td>1.69</td>\n",
       "      <td>61.0</td>\n",
       "      <td>athletics</td>\n",
       "      <td>0</td>\n",
       "      <td>0</td>\n",
       "      <td>0</td>\n",
       "    </tr>\n",
       "    <tr>\n",
       "      <th>8678</th>\n",
       "      <td>417884111</td>\n",
       "      <td>SWZ</td>\n",
       "      <td>female</td>\n",
       "      <td>1.70</td>\n",
       "      <td>57.0</td>\n",
       "      <td>athletics</td>\n",
       "      <td>0</td>\n",
       "      <td>0</td>\n",
       "      <td>0</td>\n",
       "    </tr>\n",
       "    <tr>\n",
       "      <th>10400</th>\n",
       "      <td>315255712</td>\n",
       "      <td>DMA</td>\n",
       "      <td>female</td>\n",
       "      <td>1.73</td>\n",
       "      <td>65.0</td>\n",
       "      <td>athletics</td>\n",
       "      <td>0</td>\n",
       "      <td>0</td>\n",
       "      <td>0</td>\n",
       "    </tr>\n",
       "  </tbody>\n",
       "</table>\n",
       "<p>207 rows × 9 columns</p>\n",
       "</div>"
      ],
      "text/plain": [
       "              id nationality     sex  height  weight      sport gold silver  \\\n",
       "0      736041664         ESP    male    1.72    64.0  athletics    0      0   \n",
       "1      532037425         KOR  female    1.68    56.0    fencing    0      0   \n",
       "2      435962603         CAN    male    1.98    79.0  athletics    0      0   \n",
       "3      521041435         MDA    male    1.83    80.0  taekwondo    0      0   \n",
       "4       33922579         NZL    male    1.81    71.0    cycling    0      0   \n",
       "...          ...         ...     ...     ...     ...        ...  ...    ...   \n",
       "7099   104377411         SOM  female     NaN     NaN  athletics    0      0   \n",
       "7251   386159479         PNG    male    1.75    64.0  taekwondo    0      0   \n",
       "7699   984836225         YEM    male    1.69    61.0  athletics    0      0   \n",
       "8678   417884111         SWZ  female    1.70    57.0  athletics    0      0   \n",
       "10400  315255712         DMA  female    1.73    65.0  athletics    0      0   \n",
       "\n",
       "      bronze  \n",
       "0          0  \n",
       "1          0  \n",
       "2          1  \n",
       "3          0  \n",
       "4          0  \n",
       "...      ...  \n",
       "7099       0  \n",
       "7251       0  \n",
       "7699       0  \n",
       "8678       0  \n",
       "10400      0  \n",
       "\n",
       "[207 rows x 9 columns]"
      ]
     },
     "execution_count": 70,
     "metadata": {},
     "output_type": "execute_result"
    }
   ],
   "source": [
    "athletes.drop_duplicates() # Removes all duplicate rows\n",
    "\n",
    "\n",
    "athletes.drop_duplicates(subset=[\"id\", \"nationality\"], keep=\"first\") # Remove duplicates only considering some columns"
   ]
  },
  {
   "cell_type": "markdown",
   "metadata": {},
   "source": [
    "## Replacing Values\n",
    "\n",
    "---\n",
    "\n",
    "There are situations when we just need to replace values in a Pandas Series or DataFrame. For that reason, we can use `replace()` method"
   ]
  },
  {
   "cell_type": "code",
   "execution_count": 71,
   "metadata": {
    "ExecuteTime": {
     "end_time": "2021-02-04T16:01:49.634769Z",
     "start_time": "2021-02-04T16:01:49.628478Z"
    }
   },
   "outputs": [
    {
     "data": {
      "text/html": [
       "<div>\n",
       "<style scoped>\n",
       "    .dataframe tbody tr th:only-of-type {\n",
       "        vertical-align: middle;\n",
       "    }\n",
       "\n",
       "    .dataframe tbody tr th {\n",
       "        vertical-align: top;\n",
       "    }\n",
       "\n",
       "    .dataframe thead th {\n",
       "        text-align: right;\n",
       "    }\n",
       "</style>\n",
       "<table border=\"1\" class=\"dataframe\">\n",
       "  <thead>\n",
       "    <tr style=\"text-align: right;\">\n",
       "      <th></th>\n",
       "      <th>a</th>\n",
       "      <th>b</th>\n",
       "      <th>c</th>\n",
       "    </tr>\n",
       "  </thead>\n",
       "  <tbody>\n",
       "    <tr>\n",
       "      <th>0</th>\n",
       "      <td>1.0</td>\n",
       "      <td>6.5</td>\n",
       "      <td>3.0</td>\n",
       "    </tr>\n",
       "    <tr>\n",
       "      <th>1</th>\n",
       "      <td>1.0</td>\n",
       "      <td>NaN</td>\n",
       "      <td>NaN</td>\n",
       "    </tr>\n",
       "    <tr>\n",
       "      <th>2</th>\n",
       "      <td>NaN</td>\n",
       "      <td>NaN</td>\n",
       "      <td>NaN</td>\n",
       "    </tr>\n",
       "    <tr>\n",
       "      <th>3</th>\n",
       "      <td>NaN</td>\n",
       "      <td>6.5</td>\n",
       "      <td>3.0</td>\n",
       "    </tr>\n",
       "  </tbody>\n",
       "</table>\n",
       "</div>"
      ],
      "text/plain": [
       "     a    b    c\n",
       "0  1.0  6.5  3.0\n",
       "1  1.0  NaN  NaN\n",
       "2  NaN  NaN  NaN\n",
       "3  NaN  6.5  3.0"
      ]
     },
     "execution_count": 71,
     "metadata": {},
     "output_type": "execute_result"
    }
   ],
   "source": [
    "missing_df.head()"
   ]
  },
  {
   "cell_type": "code",
   "execution_count": 74,
   "metadata": {
    "ExecuteTime": {
     "end_time": "2021-02-04T16:03:51.239862Z",
     "start_time": "2021-02-04T16:03:51.230134Z"
    }
   },
   "outputs": [
    {
     "data": {
      "text/html": [
       "<div>\n",
       "<style scoped>\n",
       "    .dataframe tbody tr th:only-of-type {\n",
       "        vertical-align: middle;\n",
       "    }\n",
       "\n",
       "    .dataframe tbody tr th {\n",
       "        vertical-align: top;\n",
       "    }\n",
       "\n",
       "    .dataframe thead th {\n",
       "        text-align: right;\n",
       "    }\n",
       "</style>\n",
       "<table border=\"1\" class=\"dataframe\">\n",
       "  <thead>\n",
       "    <tr style=\"text-align: right;\">\n",
       "      <th></th>\n",
       "      <th>a</th>\n",
       "      <th>b</th>\n",
       "      <th>c</th>\n",
       "    </tr>\n",
       "  </thead>\n",
       "  <tbody>\n",
       "    <tr>\n",
       "      <th>0</th>\n",
       "      <td>NaN</td>\n",
       "      <td>NaN</td>\n",
       "      <td>3.0</td>\n",
       "    </tr>\n",
       "    <tr>\n",
       "      <th>1</th>\n",
       "      <td>NaN</td>\n",
       "      <td>NaN</td>\n",
       "      <td>NaN</td>\n",
       "    </tr>\n",
       "    <tr>\n",
       "      <th>2</th>\n",
       "      <td>NaN</td>\n",
       "      <td>NaN</td>\n",
       "      <td>NaN</td>\n",
       "    </tr>\n",
       "    <tr>\n",
       "      <th>3</th>\n",
       "      <td>NaN</td>\n",
       "      <td>NaN</td>\n",
       "      <td>3.0</td>\n",
       "    </tr>\n",
       "  </tbody>\n",
       "</table>\n",
       "</div>"
      ],
      "text/plain": [
       "    a   b    c\n",
       "0 NaN NaN  3.0\n",
       "1 NaN NaN  NaN\n",
       "2 NaN NaN  NaN\n",
       "3 NaN NaN  3.0"
      ]
     },
     "execution_count": 74,
     "metadata": {},
     "output_type": "execute_result"
    }
   ],
   "source": [
    "missing_df.replace(to_replace=np.nan, value=999) # Replace all NaN's with 999\n",
    "\n",
    "missing_df.replace(to_replace=[1.0, 3.0], value=[2.0, 4.0]) # Replace several values\n",
    "\n",
    "missing_df.replace(to_replace=[1.0, 6.5], value=np.nan) # Replace multiple values at once"
   ]
  },
  {
   "cell_type": "markdown",
   "metadata": {},
   "source": [
    "## Discretization and Binning\n",
    "\n",
    "---\n",
    "\n",
    "Continuous data is often discretized or otherwise separated into `bins` for analysis. Suppose you have data about a group of people in a study, and you want to group them into discrete buckets.\n",
    "\n",
    "Let discretize `weight` column."
   ]
  },
  {
   "cell_type": "code",
   "execution_count": 75,
   "metadata": {
    "ExecuteTime": {
     "end_time": "2021-02-04T16:11:38.257477Z",
     "start_time": "2021-02-04T16:11:38.247517Z"
    }
   },
   "outputs": [
    {
     "data": {
      "text/html": [
       "<div>\n",
       "<style scoped>\n",
       "    .dataframe tbody tr th:only-of-type {\n",
       "        vertical-align: middle;\n",
       "    }\n",
       "\n",
       "    .dataframe tbody tr th {\n",
       "        vertical-align: top;\n",
       "    }\n",
       "\n",
       "    .dataframe thead th {\n",
       "        text-align: right;\n",
       "    }\n",
       "</style>\n",
       "<table border=\"1\" class=\"dataframe\">\n",
       "  <thead>\n",
       "    <tr style=\"text-align: right;\">\n",
       "      <th></th>\n",
       "      <th>id</th>\n",
       "      <th>nationality</th>\n",
       "      <th>sex</th>\n",
       "      <th>height</th>\n",
       "      <th>weight</th>\n",
       "      <th>sport</th>\n",
       "      <th>gold</th>\n",
       "      <th>silver</th>\n",
       "      <th>bronze</th>\n",
       "    </tr>\n",
       "  </thead>\n",
       "  <tbody>\n",
       "    <tr>\n",
       "      <th>0</th>\n",
       "      <td>736041664</td>\n",
       "      <td>ESP</td>\n",
       "      <td>male</td>\n",
       "      <td>1.72</td>\n",
       "      <td>64.0</td>\n",
       "      <td>athletics</td>\n",
       "      <td>0</td>\n",
       "      <td>0</td>\n",
       "      <td>0</td>\n",
       "    </tr>\n",
       "    <tr>\n",
       "      <th>1</th>\n",
       "      <td>532037425</td>\n",
       "      <td>KOR</td>\n",
       "      <td>female</td>\n",
       "      <td>1.68</td>\n",
       "      <td>56.0</td>\n",
       "      <td>fencing</td>\n",
       "      <td>0</td>\n",
       "      <td>0</td>\n",
       "      <td>0</td>\n",
       "    </tr>\n",
       "    <tr>\n",
       "      <th>2</th>\n",
       "      <td>435962603</td>\n",
       "      <td>CAN</td>\n",
       "      <td>male</td>\n",
       "      <td>1.98</td>\n",
       "      <td>79.0</td>\n",
       "      <td>athletics</td>\n",
       "      <td>0</td>\n",
       "      <td>0</td>\n",
       "      <td>1</td>\n",
       "    </tr>\n",
       "    <tr>\n",
       "      <th>3</th>\n",
       "      <td>521041435</td>\n",
       "      <td>MDA</td>\n",
       "      <td>male</td>\n",
       "      <td>1.83</td>\n",
       "      <td>80.0</td>\n",
       "      <td>taekwondo</td>\n",
       "      <td>0</td>\n",
       "      <td>0</td>\n",
       "      <td>0</td>\n",
       "    </tr>\n",
       "    <tr>\n",
       "      <th>4</th>\n",
       "      <td>33922579</td>\n",
       "      <td>NZL</td>\n",
       "      <td>male</td>\n",
       "      <td>1.81</td>\n",
       "      <td>71.0</td>\n",
       "      <td>cycling</td>\n",
       "      <td>0</td>\n",
       "      <td>0</td>\n",
       "      <td>0</td>\n",
       "    </tr>\n",
       "  </tbody>\n",
       "</table>\n",
       "</div>"
      ],
      "text/plain": [
       "          id nationality     sex  height  weight      sport gold silver bronze\n",
       "0  736041664         ESP    male    1.72    64.0  athletics    0      0      0\n",
       "1  532037425         KOR  female    1.68    56.0    fencing    0      0      0\n",
       "2  435962603         CAN    male    1.98    79.0  athletics    0      0      1\n",
       "3  521041435         MDA    male    1.83    80.0  taekwondo    0      0      0\n",
       "4   33922579         NZL    male    1.81    71.0    cycling    0      0      0"
      ]
     },
     "execution_count": 75,
     "metadata": {},
     "output_type": "execute_result"
    }
   ],
   "source": [
    "athletes.head()"
   ]
  },
  {
   "cell_type": "code",
   "execution_count": 76,
   "metadata": {
    "ExecuteTime": {
     "end_time": "2021-02-04T16:12:15.317046Z",
     "start_time": "2021-02-04T16:12:15.308837Z"
    }
   },
   "outputs": [
    {
     "data": {
      "text/plain": [
       "count    10884.000000\n",
       "mean        72.068357\n",
       "std         16.174702\n",
       "min         31.000000\n",
       "25%         60.000000\n",
       "50%         70.000000\n",
       "75%         81.000000\n",
       "max        170.000000\n",
       "Name: weight, dtype: float64"
      ]
     },
     "execution_count": 76,
     "metadata": {},
     "output_type": "execute_result"
    }
   ],
   "source": [
    "athletes[\"weight\"].describe()"
   ]
  },
  {
   "cell_type": "markdown",
   "metadata": {},
   "source": [
    "Before we discretize weight column, let calculate `BMI - Body Mass Index` and then discretize weight according to that values."
   ]
  },
  {
   "cell_type": "code",
   "execution_count": 77,
   "metadata": {
    "ExecuteTime": {
     "end_time": "2021-02-04T16:14:08.245086Z",
     "start_time": "2021-02-04T16:14:08.224963Z"
    }
   },
   "outputs": [
    {
     "data": {
      "text/html": [
       "<div>\n",
       "<style scoped>\n",
       "    .dataframe tbody tr th:only-of-type {\n",
       "        vertical-align: middle;\n",
       "    }\n",
       "\n",
       "    .dataframe tbody tr th {\n",
       "        vertical-align: top;\n",
       "    }\n",
       "\n",
       "    .dataframe thead th {\n",
       "        text-align: right;\n",
       "    }\n",
       "</style>\n",
       "<table border=\"1\" class=\"dataframe\">\n",
       "  <thead>\n",
       "    <tr style=\"text-align: right;\">\n",
       "      <th></th>\n",
       "      <th>id</th>\n",
       "      <th>nationality</th>\n",
       "      <th>sex</th>\n",
       "      <th>height</th>\n",
       "      <th>weight</th>\n",
       "      <th>sport</th>\n",
       "      <th>gold</th>\n",
       "      <th>silver</th>\n",
       "      <th>bronze</th>\n",
       "      <th>bmi</th>\n",
       "    </tr>\n",
       "  </thead>\n",
       "  <tbody>\n",
       "    <tr>\n",
       "      <th>0</th>\n",
       "      <td>736041664</td>\n",
       "      <td>ESP</td>\n",
       "      <td>male</td>\n",
       "      <td>1.72</td>\n",
       "      <td>64.0</td>\n",
       "      <td>athletics</td>\n",
       "      <td>0</td>\n",
       "      <td>0</td>\n",
       "      <td>0</td>\n",
       "      <td>21.633315</td>\n",
       "    </tr>\n",
       "    <tr>\n",
       "      <th>1</th>\n",
       "      <td>532037425</td>\n",
       "      <td>KOR</td>\n",
       "      <td>female</td>\n",
       "      <td>1.68</td>\n",
       "      <td>56.0</td>\n",
       "      <td>fencing</td>\n",
       "      <td>0</td>\n",
       "      <td>0</td>\n",
       "      <td>0</td>\n",
       "      <td>19.841270</td>\n",
       "    </tr>\n",
       "    <tr>\n",
       "      <th>2</th>\n",
       "      <td>435962603</td>\n",
       "      <td>CAN</td>\n",
       "      <td>male</td>\n",
       "      <td>1.98</td>\n",
       "      <td>79.0</td>\n",
       "      <td>athletics</td>\n",
       "      <td>0</td>\n",
       "      <td>0</td>\n",
       "      <td>1</td>\n",
       "      <td>20.151005</td>\n",
       "    </tr>\n",
       "    <tr>\n",
       "      <th>3</th>\n",
       "      <td>521041435</td>\n",
       "      <td>MDA</td>\n",
       "      <td>male</td>\n",
       "      <td>1.83</td>\n",
       "      <td>80.0</td>\n",
       "      <td>taekwondo</td>\n",
       "      <td>0</td>\n",
       "      <td>0</td>\n",
       "      <td>0</td>\n",
       "      <td>23.888441</td>\n",
       "    </tr>\n",
       "    <tr>\n",
       "      <th>4</th>\n",
       "      <td>33922579</td>\n",
       "      <td>NZL</td>\n",
       "      <td>male</td>\n",
       "      <td>1.81</td>\n",
       "      <td>71.0</td>\n",
       "      <td>cycling</td>\n",
       "      <td>0</td>\n",
       "      <td>0</td>\n",
       "      <td>0</td>\n",
       "      <td>21.672110</td>\n",
       "    </tr>\n",
       "  </tbody>\n",
       "</table>\n",
       "</div>"
      ],
      "text/plain": [
       "          id nationality     sex  height  weight      sport gold silver  \\\n",
       "0  736041664         ESP    male    1.72    64.0  athletics    0      0   \n",
       "1  532037425         KOR  female    1.68    56.0    fencing    0      0   \n",
       "2  435962603         CAN    male    1.98    79.0  athletics    0      0   \n",
       "3  521041435         MDA    male    1.83    80.0  taekwondo    0      0   \n",
       "4   33922579         NZL    male    1.81    71.0    cycling    0      0   \n",
       "\n",
       "  bronze        bmi  \n",
       "0      0  21.633315  \n",
       "1      0  19.841270  \n",
       "2      1  20.151005  \n",
       "3      0  23.888441  \n",
       "4      0  21.672110  "
      ]
     },
     "execution_count": 77,
     "metadata": {},
     "output_type": "execute_result"
    }
   ],
   "source": [
    "athletes[\"bmi\"] = athletes[\"weight\"] / (athletes[\"height\"] ** 2)\n",
    "\n",
    "athletes.head()"
   ]
  },
  {
   "cell_type": "code",
   "execution_count": 78,
   "metadata": {
    "ExecuteTime": {
     "end_time": "2021-02-04T16:16:47.835747Z",
     "start_time": "2021-02-04T16:16:47.830269Z"
    }
   },
   "outputs": [],
   "source": [
    "bins = [0, 18.5, 25, 30, 60]\n",
    "\n",
    "names = [\"underweight\", \"normal_weight\", \"overweight\", \"obese\"]\n",
    "\n",
    "athletes[\"new_weight\"] = pd.cut(athletes[\"bmi\"], bins=bins, labels=names)"
   ]
  },
  {
   "cell_type": "code",
   "execution_count": 79,
   "metadata": {
    "ExecuteTime": {
     "end_time": "2021-02-04T16:16:50.223455Z",
     "start_time": "2021-02-04T16:16:50.212205Z"
    }
   },
   "outputs": [
    {
     "data": {
      "text/html": [
       "<div>\n",
       "<style scoped>\n",
       "    .dataframe tbody tr th:only-of-type {\n",
       "        vertical-align: middle;\n",
       "    }\n",
       "\n",
       "    .dataframe tbody tr th {\n",
       "        vertical-align: top;\n",
       "    }\n",
       "\n",
       "    .dataframe thead th {\n",
       "        text-align: right;\n",
       "    }\n",
       "</style>\n",
       "<table border=\"1\" class=\"dataframe\">\n",
       "  <thead>\n",
       "    <tr style=\"text-align: right;\">\n",
       "      <th></th>\n",
       "      <th>id</th>\n",
       "      <th>nationality</th>\n",
       "      <th>sex</th>\n",
       "      <th>height</th>\n",
       "      <th>weight</th>\n",
       "      <th>sport</th>\n",
       "      <th>gold</th>\n",
       "      <th>silver</th>\n",
       "      <th>bronze</th>\n",
       "      <th>bmi</th>\n",
       "      <th>new_weight</th>\n",
       "    </tr>\n",
       "  </thead>\n",
       "  <tbody>\n",
       "    <tr>\n",
       "      <th>0</th>\n",
       "      <td>736041664</td>\n",
       "      <td>ESP</td>\n",
       "      <td>male</td>\n",
       "      <td>1.72</td>\n",
       "      <td>64.0</td>\n",
       "      <td>athletics</td>\n",
       "      <td>0</td>\n",
       "      <td>0</td>\n",
       "      <td>0</td>\n",
       "      <td>21.633315</td>\n",
       "      <td>normal_weight</td>\n",
       "    </tr>\n",
       "    <tr>\n",
       "      <th>1</th>\n",
       "      <td>532037425</td>\n",
       "      <td>KOR</td>\n",
       "      <td>female</td>\n",
       "      <td>1.68</td>\n",
       "      <td>56.0</td>\n",
       "      <td>fencing</td>\n",
       "      <td>0</td>\n",
       "      <td>0</td>\n",
       "      <td>0</td>\n",
       "      <td>19.841270</td>\n",
       "      <td>normal_weight</td>\n",
       "    </tr>\n",
       "    <tr>\n",
       "      <th>2</th>\n",
       "      <td>435962603</td>\n",
       "      <td>CAN</td>\n",
       "      <td>male</td>\n",
       "      <td>1.98</td>\n",
       "      <td>79.0</td>\n",
       "      <td>athletics</td>\n",
       "      <td>0</td>\n",
       "      <td>0</td>\n",
       "      <td>1</td>\n",
       "      <td>20.151005</td>\n",
       "      <td>normal_weight</td>\n",
       "    </tr>\n",
       "    <tr>\n",
       "      <th>3</th>\n",
       "      <td>521041435</td>\n",
       "      <td>MDA</td>\n",
       "      <td>male</td>\n",
       "      <td>1.83</td>\n",
       "      <td>80.0</td>\n",
       "      <td>taekwondo</td>\n",
       "      <td>0</td>\n",
       "      <td>0</td>\n",
       "      <td>0</td>\n",
       "      <td>23.888441</td>\n",
       "      <td>normal_weight</td>\n",
       "    </tr>\n",
       "    <tr>\n",
       "      <th>4</th>\n",
       "      <td>33922579</td>\n",
       "      <td>NZL</td>\n",
       "      <td>male</td>\n",
       "      <td>1.81</td>\n",
       "      <td>71.0</td>\n",
       "      <td>cycling</td>\n",
       "      <td>0</td>\n",
       "      <td>0</td>\n",
       "      <td>0</td>\n",
       "      <td>21.672110</td>\n",
       "      <td>normal_weight</td>\n",
       "    </tr>\n",
       "  </tbody>\n",
       "</table>\n",
       "</div>"
      ],
      "text/plain": [
       "          id nationality     sex  height  weight      sport gold silver  \\\n",
       "0  736041664         ESP    male    1.72    64.0  athletics    0      0   \n",
       "1  532037425         KOR  female    1.68    56.0    fencing    0      0   \n",
       "2  435962603         CAN    male    1.98    79.0  athletics    0      0   \n",
       "3  521041435         MDA    male    1.83    80.0  taekwondo    0      0   \n",
       "4   33922579         NZL    male    1.81    71.0    cycling    0      0   \n",
       "\n",
       "  bronze        bmi     new_weight  \n",
       "0      0  21.633315  normal_weight  \n",
       "1      0  19.841270  normal_weight  \n",
       "2      1  20.151005  normal_weight  \n",
       "3      0  23.888441  normal_weight  \n",
       "4      0  21.672110  normal_weight  "
      ]
     },
     "execution_count": 79,
     "metadata": {},
     "output_type": "execute_result"
    }
   ],
   "source": [
    "athletes.head()"
   ]
  },
  {
   "cell_type": "code",
   "execution_count": 88,
   "metadata": {
    "ExecuteTime": {
     "end_time": "2021-02-04T16:22:34.951209Z",
     "start_time": "2021-02-04T16:22:34.941550Z"
    }
   },
   "outputs": [
    {
     "data": {
      "text/plain": [
       "count    8263.000000\n",
       "mean        1.759486\n",
       "std         0.108936\n",
       "min         1.340000\n",
       "25%         1.680000\n",
       "50%         1.750000\n",
       "75%         1.830000\n",
       "max         2.180000\n",
       "Name: height, dtype: float64"
      ]
     },
     "execution_count": 88,
     "metadata": {},
     "output_type": "execute_result"
    }
   ],
   "source": [
    "athletes[athletes[\"new_weight\"] == \"normal_weight\"][\"height\"].describe()"
   ]
  },
  {
   "cell_type": "code",
   "execution_count": 80,
   "metadata": {
    "ExecuteTime": {
     "end_time": "2021-02-04T16:17:05.691908Z",
     "start_time": "2021-02-04T16:17:05.687651Z"
    }
   },
   "outputs": [
    {
     "data": {
      "text/plain": [
       "normal_weight    8263\n",
       "overweight       1680\n",
       "underweight       549\n",
       "obese             371\n",
       "Name: new_weight, dtype: int64"
      ]
     },
     "execution_count": 80,
     "metadata": {},
     "output_type": "execute_result"
    }
   ],
   "source": [
    "athletes[\"new_weight\"].value_counts()"
   ]
  },
  {
   "cell_type": "markdown",
   "metadata": {},
   "source": [
    " "
   ]
  },
  {
   "cell_type": "markdown",
   "metadata": {},
   "source": [
    "If we pass an integer number of bins to cut instead of explicit bin edges, Pandas `cut()` will compute equal-length bins based on the minimum and maximum values in the data."
   ]
  },
  {
   "cell_type": "code",
   "execution_count": 85,
   "metadata": {
    "ExecuteTime": {
     "end_time": "2021-02-04T16:18:53.771360Z",
     "start_time": "2021-02-04T16:18:53.761269Z"
    }
   },
   "outputs": [
    {
     "data": {
      "text/plain": [
       "0        (11.353, 21.896]\n",
       "1        (11.353, 21.896]\n",
       "2        (11.353, 21.896]\n",
       "3        (21.896, 32.397]\n",
       "4        (11.353, 21.896]\n",
       "               ...       \n",
       "11538    (11.353, 21.896]\n",
       "11539    (11.353, 21.896]\n",
       "11540    (21.896, 32.397]\n",
       "11541    (11.353, 21.896]\n",
       "11542    (11.353, 21.896]\n",
       "Name: bmi, Length: 11543, dtype: category\n",
       "Categories (4, interval[float64]): [(11.353, 21.896] < (21.896, 32.397] < (32.397, 42.897] < (42.897, 53.398]]"
      ]
     },
     "execution_count": 85,
     "metadata": {},
     "output_type": "execute_result"
    }
   ],
   "source": [
    "pd.cut(athletes[\"bmi\"], bins=4)"
   ]
  },
  {
   "cell_type": "markdown",
   "metadata": {},
   "source": [
    " "
   ]
  },
  {
   "cell_type": "markdown",
   "metadata": {},
   "source": [
    "Considering the distribution of the data, `cut()` method may not return equal-sized bins, while `qcut()` method by definition return approximately equal-size bins as it bins the data based on sample quantiles."
   ]
  },
  {
   "cell_type": "code",
   "execution_count": 86,
   "metadata": {
    "ExecuteTime": {
     "end_time": "2021-02-04T16:20:01.083359Z",
     "start_time": "2021-02-04T16:20:01.073554Z"
    }
   },
   "outputs": [
    {
     "data": {
      "text/plain": [
       "count    10863.000000\n",
       "mean        22.869240\n",
       "std          3.410002\n",
       "min         11.395179\n",
       "25%         20.715694\n",
       "50%         22.417480\n",
       "75%         24.419279\n",
       "max         53.398266\n",
       "Name: bmi, dtype: float64"
      ]
     },
     "execution_count": 86,
     "metadata": {},
     "output_type": "execute_result"
    }
   ],
   "source": [
    "athletes[\"bmi\"].describe()"
   ]
  },
  {
   "cell_type": "code",
   "execution_count": 87,
   "metadata": {
    "ExecuteTime": {
     "end_time": "2021-02-04T16:20:33.922534Z",
     "start_time": "2021-02-04T16:20:33.909543Z"
    }
   },
   "outputs": [
    {
     "data": {
      "text/plain": [
       "0        (20.716, 22.417]\n",
       "1        (11.394, 20.716]\n",
       "2        (11.394, 20.716]\n",
       "3        (22.417, 24.419]\n",
       "4        (20.716, 22.417]\n",
       "               ...       \n",
       "11538    (20.716, 22.417]\n",
       "11539    (20.716, 22.417]\n",
       "11540    (24.419, 53.398]\n",
       "11541    (20.716, 22.417]\n",
       "11542    (11.394, 20.716]\n",
       "Name: bmi, Length: 11543, dtype: category\n",
       "Categories (4, interval[float64]): [(11.394, 20.716] < (20.716, 22.417] < (22.417, 24.419] < (24.419, 53.398]]"
      ]
     },
     "execution_count": 87,
     "metadata": {},
     "output_type": "execute_result"
    }
   ],
   "source": [
    "pd.qcut(athletes[\"bmi\"], q=10) # Deciles\n",
    "\n",
    "pd.qcut(athletes[\"bmi\"], q=4) # Quartiles"
   ]
  },
  {
   "cell_type": "markdown",
   "metadata": {},
   "source": [
    "## Detecting Outliers\n",
    "\n",
    "---\n",
    "\n",
    "![alt text](images/iqr.png \"Title\")\n",
    "\n",
    "\n",
    "\n",
    "The naive approach to detect outliers is to use `InterQuartile Range - IQR`. We can use that approach to check if the `height` column contains some outliers. The formula for `IQR` is the following:\n",
    "\n",
    "$$\n",
    "\\text{IQR} = Q_{3} - Q_{1}\n",
    "$$\n",
    "\n",
    "where, $Q_{3}$ and $Q_{1}$ are upper and lower quartiles, respectively.\n",
    "\n",
    "\n",
    "From the above picture, we see that $99\\%$ of observations should be inside $\\{Q_{1} - 1.5 \\times \\text{IQR}; Q_{3} + 1.5 \\times \\text{IQR}\\}$"
   ]
  },
  {
   "cell_type": "code",
   "execution_count": 89,
   "metadata": {
    "ExecuteTime": {
     "end_time": "2021-02-04T16:28:20.502050Z",
     "start_time": "2021-02-04T16:28:20.489825Z"
    }
   },
   "outputs": [
    {
     "data": {
      "text/html": [
       "<div>\n",
       "<style scoped>\n",
       "    .dataframe tbody tr th:only-of-type {\n",
       "        vertical-align: middle;\n",
       "    }\n",
       "\n",
       "    .dataframe tbody tr th {\n",
       "        vertical-align: top;\n",
       "    }\n",
       "\n",
       "    .dataframe thead th {\n",
       "        text-align: right;\n",
       "    }\n",
       "</style>\n",
       "<table border=\"1\" class=\"dataframe\">\n",
       "  <thead>\n",
       "    <tr style=\"text-align: right;\">\n",
       "      <th></th>\n",
       "      <th>id</th>\n",
       "      <th>nationality</th>\n",
       "      <th>sex</th>\n",
       "      <th>height</th>\n",
       "      <th>weight</th>\n",
       "      <th>sport</th>\n",
       "      <th>gold</th>\n",
       "      <th>silver</th>\n",
       "      <th>bronze</th>\n",
       "      <th>bmi</th>\n",
       "      <th>new_weight</th>\n",
       "    </tr>\n",
       "  </thead>\n",
       "  <tbody>\n",
       "    <tr>\n",
       "      <th>0</th>\n",
       "      <td>736041664</td>\n",
       "      <td>ESP</td>\n",
       "      <td>male</td>\n",
       "      <td>1.72</td>\n",
       "      <td>64.0</td>\n",
       "      <td>athletics</td>\n",
       "      <td>0</td>\n",
       "      <td>0</td>\n",
       "      <td>0</td>\n",
       "      <td>21.633315</td>\n",
       "      <td>normal_weight</td>\n",
       "    </tr>\n",
       "    <tr>\n",
       "      <th>1</th>\n",
       "      <td>532037425</td>\n",
       "      <td>KOR</td>\n",
       "      <td>female</td>\n",
       "      <td>1.68</td>\n",
       "      <td>56.0</td>\n",
       "      <td>fencing</td>\n",
       "      <td>0</td>\n",
       "      <td>0</td>\n",
       "      <td>0</td>\n",
       "      <td>19.841270</td>\n",
       "      <td>normal_weight</td>\n",
       "    </tr>\n",
       "    <tr>\n",
       "      <th>2</th>\n",
       "      <td>435962603</td>\n",
       "      <td>CAN</td>\n",
       "      <td>male</td>\n",
       "      <td>1.98</td>\n",
       "      <td>79.0</td>\n",
       "      <td>athletics</td>\n",
       "      <td>0</td>\n",
       "      <td>0</td>\n",
       "      <td>1</td>\n",
       "      <td>20.151005</td>\n",
       "      <td>normal_weight</td>\n",
       "    </tr>\n",
       "    <tr>\n",
       "      <th>3</th>\n",
       "      <td>521041435</td>\n",
       "      <td>MDA</td>\n",
       "      <td>male</td>\n",
       "      <td>1.83</td>\n",
       "      <td>80.0</td>\n",
       "      <td>taekwondo</td>\n",
       "      <td>0</td>\n",
       "      <td>0</td>\n",
       "      <td>0</td>\n",
       "      <td>23.888441</td>\n",
       "      <td>normal_weight</td>\n",
       "    </tr>\n",
       "    <tr>\n",
       "      <th>4</th>\n",
       "      <td>33922579</td>\n",
       "      <td>NZL</td>\n",
       "      <td>male</td>\n",
       "      <td>1.81</td>\n",
       "      <td>71.0</td>\n",
       "      <td>cycling</td>\n",
       "      <td>0</td>\n",
       "      <td>0</td>\n",
       "      <td>0</td>\n",
       "      <td>21.672110</td>\n",
       "      <td>normal_weight</td>\n",
       "    </tr>\n",
       "  </tbody>\n",
       "</table>\n",
       "</div>"
      ],
      "text/plain": [
       "          id nationality     sex  height  weight      sport gold silver  \\\n",
       "0  736041664         ESP    male    1.72    64.0  athletics    0      0   \n",
       "1  532037425         KOR  female    1.68    56.0    fencing    0      0   \n",
       "2  435962603         CAN    male    1.98    79.0  athletics    0      0   \n",
       "3  521041435         MDA    male    1.83    80.0  taekwondo    0      0   \n",
       "4   33922579         NZL    male    1.81    71.0    cycling    0      0   \n",
       "\n",
       "  bronze        bmi     new_weight  \n",
       "0      0  21.633315  normal_weight  \n",
       "1      0  19.841270  normal_weight  \n",
       "2      1  20.151005  normal_weight  \n",
       "3      0  23.888441  normal_weight  \n",
       "4      0  21.672110  normal_weight  "
      ]
     },
     "execution_count": 89,
     "metadata": {},
     "output_type": "execute_result"
    }
   ],
   "source": [
    "athletes.head()"
   ]
  },
  {
   "cell_type": "code",
   "execution_count": 90,
   "metadata": {
    "ExecuteTime": {
     "end_time": "2021-02-04T16:29:06.315980Z",
     "start_time": "2021-02-04T16:29:06.309895Z"
    }
   },
   "outputs": [],
   "source": [
    "q1 = athletes[\"height\"].quantile(.25)\n",
    "\n",
    "q3 = athletes[\"height\"].quantile(.75)\n",
    "\n",
    "iqr = q3 - q1\n",
    "\n",
    "pmin = q1 - 1.5 * iqr\n",
    "pmax = q3 + 1.5 * iqr"
   ]
  },
  {
   "cell_type": "code",
   "execution_count": 91,
   "metadata": {
    "ExecuteTime": {
     "end_time": "2021-02-04T16:29:13.346320Z",
     "start_time": "2021-02-04T16:29:13.342914Z"
    }
   },
   "outputs": [
    {
     "data": {
      "text/plain": [
       "1.4649999999999999"
      ]
     },
     "execution_count": 91,
     "metadata": {},
     "output_type": "execute_result"
    }
   ],
   "source": [
    "pmin"
   ]
  },
  {
   "cell_type": "code",
   "execution_count": 92,
   "metadata": {
    "ExecuteTime": {
     "end_time": "2021-02-04T16:29:16.374656Z",
     "start_time": "2021-02-04T16:29:16.372201Z"
    }
   },
   "outputs": [
    {
     "data": {
      "text/plain": [
       "2.0650000000000004"
      ]
     },
     "execution_count": 92,
     "metadata": {},
     "output_type": "execute_result"
    }
   ],
   "source": [
    "pmax"
   ]
  },
  {
   "cell_type": "code",
   "execution_count": 93,
   "metadata": {
    "ExecuteTime": {
     "end_time": "2021-02-04T16:29:46.093649Z",
     "start_time": "2021-02-04T16:29:46.069472Z"
    }
   },
   "outputs": [
    {
     "data": {
      "text/html": [
       "<div>\n",
       "<style scoped>\n",
       "    .dataframe tbody tr th:only-of-type {\n",
       "        vertical-align: middle;\n",
       "    }\n",
       "\n",
       "    .dataframe tbody tr th {\n",
       "        vertical-align: top;\n",
       "    }\n",
       "\n",
       "    .dataframe thead th {\n",
       "        text-align: right;\n",
       "    }\n",
       "</style>\n",
       "<table border=\"1\" class=\"dataframe\">\n",
       "  <thead>\n",
       "    <tr style=\"text-align: right;\">\n",
       "      <th></th>\n",
       "      <th>id</th>\n",
       "      <th>nationality</th>\n",
       "      <th>sex</th>\n",
       "      <th>height</th>\n",
       "      <th>weight</th>\n",
       "      <th>sport</th>\n",
       "      <th>gold</th>\n",
       "      <th>silver</th>\n",
       "      <th>bronze</th>\n",
       "      <th>bmi</th>\n",
       "      <th>new_weight</th>\n",
       "    </tr>\n",
       "  </thead>\n",
       "  <tbody>\n",
       "    <tr>\n",
       "      <th>0</th>\n",
       "      <td>736041664</td>\n",
       "      <td>ESP</td>\n",
       "      <td>male</td>\n",
       "      <td>1.72</td>\n",
       "      <td>64.0</td>\n",
       "      <td>athletics</td>\n",
       "      <td>0</td>\n",
       "      <td>0</td>\n",
       "      <td>0</td>\n",
       "      <td>21.633315</td>\n",
       "      <td>normal_weight</td>\n",
       "    </tr>\n",
       "    <tr>\n",
       "      <th>1</th>\n",
       "      <td>532037425</td>\n",
       "      <td>KOR</td>\n",
       "      <td>female</td>\n",
       "      <td>1.68</td>\n",
       "      <td>56.0</td>\n",
       "      <td>fencing</td>\n",
       "      <td>0</td>\n",
       "      <td>0</td>\n",
       "      <td>0</td>\n",
       "      <td>19.841270</td>\n",
       "      <td>normal_weight</td>\n",
       "    </tr>\n",
       "    <tr>\n",
       "      <th>2</th>\n",
       "      <td>435962603</td>\n",
       "      <td>CAN</td>\n",
       "      <td>male</td>\n",
       "      <td>1.98</td>\n",
       "      <td>79.0</td>\n",
       "      <td>athletics</td>\n",
       "      <td>0</td>\n",
       "      <td>0</td>\n",
       "      <td>1</td>\n",
       "      <td>20.151005</td>\n",
       "      <td>normal_weight</td>\n",
       "    </tr>\n",
       "    <tr>\n",
       "      <th>3</th>\n",
       "      <td>521041435</td>\n",
       "      <td>MDA</td>\n",
       "      <td>male</td>\n",
       "      <td>1.83</td>\n",
       "      <td>80.0</td>\n",
       "      <td>taekwondo</td>\n",
       "      <td>0</td>\n",
       "      <td>0</td>\n",
       "      <td>0</td>\n",
       "      <td>23.888441</td>\n",
       "      <td>normal_weight</td>\n",
       "    </tr>\n",
       "    <tr>\n",
       "      <th>4</th>\n",
       "      <td>33922579</td>\n",
       "      <td>NZL</td>\n",
       "      <td>male</td>\n",
       "      <td>1.81</td>\n",
       "      <td>71.0</td>\n",
       "      <td>cycling</td>\n",
       "      <td>0</td>\n",
       "      <td>0</td>\n",
       "      <td>0</td>\n",
       "      <td>21.672110</td>\n",
       "      <td>normal_weight</td>\n",
       "    </tr>\n",
       "    <tr>\n",
       "      <th>...</th>\n",
       "      <td>...</td>\n",
       "      <td>...</td>\n",
       "      <td>...</td>\n",
       "      <td>...</td>\n",
       "      <td>...</td>\n",
       "      <td>...</td>\n",
       "      <td>...</td>\n",
       "      <td>...</td>\n",
       "      <td>...</td>\n",
       "      <td>...</td>\n",
       "      <td>...</td>\n",
       "    </tr>\n",
       "    <tr>\n",
       "      <th>11538</th>\n",
       "      <td>265605954</td>\n",
       "      <td>CUB</td>\n",
       "      <td>female</td>\n",
       "      <td>1.64</td>\n",
       "      <td>58.0</td>\n",
       "      <td>athletics</td>\n",
       "      <td>0</td>\n",
       "      <td>0</td>\n",
       "      <td>0</td>\n",
       "      <td>21.564545</td>\n",
       "      <td>normal_weight</td>\n",
       "    </tr>\n",
       "    <tr>\n",
       "      <th>11539</th>\n",
       "      <td>214461847</td>\n",
       "      <td>CZE</td>\n",
       "      <td>female</td>\n",
       "      <td>1.73</td>\n",
       "      <td>63.0</td>\n",
       "      <td>athletics</td>\n",
       "      <td>0</td>\n",
       "      <td>0</td>\n",
       "      <td>0</td>\n",
       "      <td>21.049818</td>\n",
       "      <td>normal_weight</td>\n",
       "    </tr>\n",
       "    <tr>\n",
       "      <th>11540</th>\n",
       "      <td>88361042</td>\n",
       "      <td>CHN</td>\n",
       "      <td>male</td>\n",
       "      <td>1.85</td>\n",
       "      <td>100.0</td>\n",
       "      <td>wrestling</td>\n",
       "      <td>0</td>\n",
       "      <td>0</td>\n",
       "      <td>0</td>\n",
       "      <td>29.218408</td>\n",
       "      <td>overweight</td>\n",
       "    </tr>\n",
       "    <tr>\n",
       "      <th>11541</th>\n",
       "      <td>900065925</td>\n",
       "      <td>VIE</td>\n",
       "      <td>male</td>\n",
       "      <td>1.60</td>\n",
       "      <td>56.0</td>\n",
       "      <td>weightlifting</td>\n",
       "      <td>0</td>\n",
       "      <td>0</td>\n",
       "      <td>0</td>\n",
       "      <td>21.875000</td>\n",
       "      <td>normal_weight</td>\n",
       "    </tr>\n",
       "    <tr>\n",
       "      <th>11542</th>\n",
       "      <td>711404576</td>\n",
       "      <td>RSA</td>\n",
       "      <td>male</td>\n",
       "      <td>1.85</td>\n",
       "      <td>70.0</td>\n",
       "      <td>athletics</td>\n",
       "      <td>0</td>\n",
       "      <td>0</td>\n",
       "      <td>0</td>\n",
       "      <td>20.452885</td>\n",
       "      <td>normal_weight</td>\n",
       "    </tr>\n",
       "  </tbody>\n",
       "</table>\n",
       "<p>11121 rows × 11 columns</p>\n",
       "</div>"
      ],
      "text/plain": [
       "              id nationality     sex  height  weight          sport gold  \\\n",
       "0      736041664         ESP    male    1.72    64.0      athletics    0   \n",
       "1      532037425         KOR  female    1.68    56.0        fencing    0   \n",
       "2      435962603         CAN    male    1.98    79.0      athletics    0   \n",
       "3      521041435         MDA    male    1.83    80.0      taekwondo    0   \n",
       "4       33922579         NZL    male    1.81    71.0        cycling    0   \n",
       "...          ...         ...     ...     ...     ...            ...  ...   \n",
       "11538  265605954         CUB  female    1.64    58.0      athletics    0   \n",
       "11539  214461847         CZE  female    1.73    63.0      athletics    0   \n",
       "11540   88361042         CHN    male    1.85   100.0      wrestling    0   \n",
       "11541  900065925         VIE    male    1.60    56.0  weightlifting    0   \n",
       "11542  711404576         RSA    male    1.85    70.0      athletics    0   \n",
       "\n",
       "      silver bronze        bmi     new_weight  \n",
       "0          0      0  21.633315  normal_weight  \n",
       "1          0      0  19.841270  normal_weight  \n",
       "2          0      1  20.151005  normal_weight  \n",
       "3          0      0  23.888441  normal_weight  \n",
       "4          0      0  21.672110  normal_weight  \n",
       "...      ...    ...        ...            ...  \n",
       "11538      0      0  21.564545  normal_weight  \n",
       "11539      0      0  21.049818  normal_weight  \n",
       "11540      0      0  29.218408     overweight  \n",
       "11541      0      0  21.875000  normal_weight  \n",
       "11542      0      0  20.452885  normal_weight  \n",
       "\n",
       "[11121 rows x 11 columns]"
      ]
     },
     "execution_count": 93,
     "metadata": {},
     "output_type": "execute_result"
    }
   ],
   "source": [
    "athletes[athletes[\"height\"].between(pmin, pmax)] # Values between IQR range"
   ]
  },
  {
   "cell_type": "code",
   "execution_count": 94,
   "metadata": {
    "ExecuteTime": {
     "end_time": "2021-02-04T16:30:04.336170Z",
     "start_time": "2021-02-04T16:30:04.301901Z"
    }
   },
   "outputs": [
    {
     "data": {
      "text/html": [
       "<div>\n",
       "<style scoped>\n",
       "    .dataframe tbody tr th:only-of-type {\n",
       "        vertical-align: middle;\n",
       "    }\n",
       "\n",
       "    .dataframe tbody tr th {\n",
       "        vertical-align: top;\n",
       "    }\n",
       "\n",
       "    .dataframe thead th {\n",
       "        text-align: right;\n",
       "    }\n",
       "</style>\n",
       "<table border=\"1\" class=\"dataframe\">\n",
       "  <thead>\n",
       "    <tr style=\"text-align: right;\">\n",
       "      <th></th>\n",
       "      <th>id</th>\n",
       "      <th>nationality</th>\n",
       "      <th>sex</th>\n",
       "      <th>height</th>\n",
       "      <th>weight</th>\n",
       "      <th>sport</th>\n",
       "      <th>gold</th>\n",
       "      <th>silver</th>\n",
       "      <th>bronze</th>\n",
       "      <th>bmi</th>\n",
       "      <th>new_weight</th>\n",
       "    </tr>\n",
       "  </thead>\n",
       "  <tbody>\n",
       "    <tr>\n",
       "      <th>19</th>\n",
       "      <td>334169879</td>\n",
       "      <td>EGY</td>\n",
       "      <td>male</td>\n",
       "      <td>2.10</td>\n",
       "      <td>88.0</td>\n",
       "      <td>volleyball</td>\n",
       "      <td>0</td>\n",
       "      <td>0</td>\n",
       "      <td>0</td>\n",
       "      <td>19.954649</td>\n",
       "      <td>normal_weight</td>\n",
       "    </tr>\n",
       "    <tr>\n",
       "      <th>48</th>\n",
       "      <td>962468808</td>\n",
       "      <td>NIG</td>\n",
       "      <td>male</td>\n",
       "      <td>2.07</td>\n",
       "      <td>98.0</td>\n",
       "      <td>taekwondo</td>\n",
       "      <td>0</td>\n",
       "      <td>1</td>\n",
       "      <td>0</td>\n",
       "      <td>22.871012</td>\n",
       "      <td>normal_weight</td>\n",
       "    </tr>\n",
       "    <tr>\n",
       "      <th>210</th>\n",
       "      <td>676958658</td>\n",
       "      <td>JPN</td>\n",
       "      <td>female</td>\n",
       "      <td>1.46</td>\n",
       "      <td>35.0</td>\n",
       "      <td>gymnastics</td>\n",
       "      <td>0</td>\n",
       "      <td>0</td>\n",
       "      <td>0</td>\n",
       "      <td>16.419591</td>\n",
       "      <td>underweight</td>\n",
       "    </tr>\n",
       "    <tr>\n",
       "      <th>250</th>\n",
       "      <td>249203070</td>\n",
       "      <td>NGR</td>\n",
       "      <td>male</td>\n",
       "      <td>2.10</td>\n",
       "      <td>102.0</td>\n",
       "      <td>basketball</td>\n",
       "      <td>0</td>\n",
       "      <td>0</td>\n",
       "      <td>0</td>\n",
       "      <td>23.129252</td>\n",
       "      <td>normal_weight</td>\n",
       "    </tr>\n",
       "    <tr>\n",
       "      <th>402</th>\n",
       "      <td>120799596</td>\n",
       "      <td>RUS</td>\n",
       "      <td>male</td>\n",
       "      <td>2.10</td>\n",
       "      <td>90.0</td>\n",
       "      <td>volleyball</td>\n",
       "      <td>0</td>\n",
       "      <td>0</td>\n",
       "      <td>0</td>\n",
       "      <td>20.408163</td>\n",
       "      <td>normal_weight</td>\n",
       "    </tr>\n",
       "    <tr>\n",
       "      <th>...</th>\n",
       "      <td>...</td>\n",
       "      <td>...</td>\n",
       "      <td>...</td>\n",
       "      <td>...</td>\n",
       "      <td>...</td>\n",
       "      <td>...</td>\n",
       "      <td>...</td>\n",
       "      <td>...</td>\n",
       "      <td>...</td>\n",
       "      <td>...</td>\n",
       "      <td>...</td>\n",
       "    </tr>\n",
       "    <tr>\n",
       "      <th>10755</th>\n",
       "      <td>321151857</td>\n",
       "      <td>ITA</td>\n",
       "      <td>female</td>\n",
       "      <td>1.45</td>\n",
       "      <td>45.0</td>\n",
       "      <td>gymnastics</td>\n",
       "      <td>0</td>\n",
       "      <td>0</td>\n",
       "      <td>0</td>\n",
       "      <td>21.403092</td>\n",
       "      <td>normal_weight</td>\n",
       "    </tr>\n",
       "    <tr>\n",
       "      <th>10927</th>\n",
       "      <td>54519941</td>\n",
       "      <td>SRB</td>\n",
       "      <td>male</td>\n",
       "      <td>2.11</td>\n",
       "      <td>112.0</td>\n",
       "      <td>basketball</td>\n",
       "      <td>0</td>\n",
       "      <td>1</td>\n",
       "      <td>0</td>\n",
       "      <td>25.156668</td>\n",
       "      <td>overweight</td>\n",
       "    </tr>\n",
       "    <tr>\n",
       "      <th>11028</th>\n",
       "      <td>879180304</td>\n",
       "      <td>ESP</td>\n",
       "      <td>male</td>\n",
       "      <td>2.10</td>\n",
       "      <td>115.0</td>\n",
       "      <td>basketball</td>\n",
       "      <td>0</td>\n",
       "      <td>0</td>\n",
       "      <td>1</td>\n",
       "      <td>26.077098</td>\n",
       "      <td>overweight</td>\n",
       "    </tr>\n",
       "    <tr>\n",
       "      <th>11129</th>\n",
       "      <td>44353519</td>\n",
       "      <td>CHN</td>\n",
       "      <td>female</td>\n",
       "      <td>1.40</td>\n",
       "      <td>33.0</td>\n",
       "      <td>gymnastics</td>\n",
       "      <td>0</td>\n",
       "      <td>0</td>\n",
       "      <td>1</td>\n",
       "      <td>16.836735</td>\n",
       "      <td>underweight</td>\n",
       "    </tr>\n",
       "    <tr>\n",
       "      <th>11480</th>\n",
       "      <td>167115740</td>\n",
       "      <td>CHN</td>\n",
       "      <td>male</td>\n",
       "      <td>2.14</td>\n",
       "      <td>100.0</td>\n",
       "      <td>basketball</td>\n",
       "      <td>0</td>\n",
       "      <td>0</td>\n",
       "      <td>0</td>\n",
       "      <td>21.835968</td>\n",
       "      <td>normal_weight</td>\n",
       "    </tr>\n",
       "  </tbody>\n",
       "</table>\n",
       "<p>92 rows × 11 columns</p>\n",
       "</div>"
      ],
      "text/plain": [
       "              id nationality     sex  height  weight       sport gold silver  \\\n",
       "19     334169879         EGY    male    2.10    88.0  volleyball    0      0   \n",
       "48     962468808         NIG    male    2.07    98.0   taekwondo    0      1   \n",
       "210    676958658         JPN  female    1.46    35.0  gymnastics    0      0   \n",
       "250    249203070         NGR    male    2.10   102.0  basketball    0      0   \n",
       "402    120799596         RUS    male    2.10    90.0  volleyball    0      0   \n",
       "...          ...         ...     ...     ...     ...         ...  ...    ...   \n",
       "10755  321151857         ITA  female    1.45    45.0  gymnastics    0      0   \n",
       "10927   54519941         SRB    male    2.11   112.0  basketball    0      1   \n",
       "11028  879180304         ESP    male    2.10   115.0  basketball    0      0   \n",
       "11129   44353519         CHN  female    1.40    33.0  gymnastics    0      0   \n",
       "11480  167115740         CHN    male    2.14   100.0  basketball    0      0   \n",
       "\n",
       "      bronze        bmi     new_weight  \n",
       "19         0  19.954649  normal_weight  \n",
       "48         0  22.871012  normal_weight  \n",
       "210        0  16.419591    underweight  \n",
       "250        0  23.129252  normal_weight  \n",
       "402        0  20.408163  normal_weight  \n",
       "...      ...        ...            ...  \n",
       "10755      0  21.403092  normal_weight  \n",
       "10927      0  25.156668     overweight  \n",
       "11028      1  26.077098     overweight  \n",
       "11129      1  16.836735    underweight  \n",
       "11480      0  21.835968  normal_weight  \n",
       "\n",
       "[92 rows x 11 columns]"
      ]
     },
     "execution_count": 94,
     "metadata": {},
     "output_type": "execute_result"
    }
   ],
   "source": [
    "athletes[(athletes[\"height\"].lt(pmin)) | (athletes[\"height\"].gt(pmax))] # Values outside IQR range"
   ]
  },
  {
   "cell_type": "markdown",
   "metadata": {},
   "source": [
    "## String Manipulations\n",
    "\n",
    "---\n",
    "\n",
    "Strings represent letters and other symbols surrounded by quotation marks. Pandas has support of string manipulation and the methods are accessible by `.str` attribute. Strings are represented as `object` data type in Pandas, instead of conventional `str`."
   ]
  },
  {
   "cell_type": "markdown",
   "metadata": {},
   "source": [
    "#### Reference\n",
    "\n",
    "\n",
    "[Working with text data](https://pandas.pydata.org/pandas-docs/stable/user_guide/text.html)"
   ]
  },
  {
   "cell_type": "code",
   "execution_count": 95,
   "metadata": {
    "ExecuteTime": {
     "end_time": "2021-02-04T16:33:16.364373Z",
     "start_time": "2021-02-04T16:33:16.344048Z"
    }
   },
   "outputs": [
    {
     "data": {
      "text/html": [
       "<div>\n",
       "<style scoped>\n",
       "    .dataframe tbody tr th:only-of-type {\n",
       "        vertical-align: middle;\n",
       "    }\n",
       "\n",
       "    .dataframe tbody tr th {\n",
       "        vertical-align: top;\n",
       "    }\n",
       "\n",
       "    .dataframe thead th {\n",
       "        text-align: right;\n",
       "    }\n",
       "</style>\n",
       "<table border=\"1\" class=\"dataframe\">\n",
       "  <thead>\n",
       "    <tr style=\"text-align: right;\">\n",
       "      <th></th>\n",
       "      <th>PassengerId</th>\n",
       "      <th>Survived</th>\n",
       "      <th>Pclass</th>\n",
       "      <th>Name</th>\n",
       "      <th>Sex</th>\n",
       "      <th>Age</th>\n",
       "      <th>SibSp</th>\n",
       "      <th>Parch</th>\n",
       "      <th>Ticket</th>\n",
       "      <th>Fare</th>\n",
       "      <th>Cabin</th>\n",
       "      <th>Embarked</th>\n",
       "    </tr>\n",
       "  </thead>\n",
       "  <tbody>\n",
       "    <tr>\n",
       "      <th>0</th>\n",
       "      <td>1</td>\n",
       "      <td>0</td>\n",
       "      <td>3</td>\n",
       "      <td>Braund, Mr. Owen Harris</td>\n",
       "      <td>male</td>\n",
       "      <td>22.0</td>\n",
       "      <td>1</td>\n",
       "      <td>0</td>\n",
       "      <td>A/5 21171</td>\n",
       "      <td>7.2500</td>\n",
       "      <td>NaN</td>\n",
       "      <td>S</td>\n",
       "    </tr>\n",
       "    <tr>\n",
       "      <th>1</th>\n",
       "      <td>2</td>\n",
       "      <td>1</td>\n",
       "      <td>1</td>\n",
       "      <td>Cumings, Mrs. John Bradley (Florence Briggs Th...</td>\n",
       "      <td>female</td>\n",
       "      <td>38.0</td>\n",
       "      <td>1</td>\n",
       "      <td>0</td>\n",
       "      <td>PC 17599</td>\n",
       "      <td>71.2833</td>\n",
       "      <td>C85</td>\n",
       "      <td>C</td>\n",
       "    </tr>\n",
       "    <tr>\n",
       "      <th>2</th>\n",
       "      <td>3</td>\n",
       "      <td>1</td>\n",
       "      <td>3</td>\n",
       "      <td>Heikkinen, Miss. Laina</td>\n",
       "      <td>female</td>\n",
       "      <td>26.0</td>\n",
       "      <td>0</td>\n",
       "      <td>0</td>\n",
       "      <td>STON/O2. 3101282</td>\n",
       "      <td>7.9250</td>\n",
       "      <td>NaN</td>\n",
       "      <td>S</td>\n",
       "    </tr>\n",
       "    <tr>\n",
       "      <th>3</th>\n",
       "      <td>4</td>\n",
       "      <td>1</td>\n",
       "      <td>1</td>\n",
       "      <td>Futrelle, Mrs. Jacques Heath (Lily May Peel)</td>\n",
       "      <td>female</td>\n",
       "      <td>35.0</td>\n",
       "      <td>1</td>\n",
       "      <td>0</td>\n",
       "      <td>113803</td>\n",
       "      <td>53.1000</td>\n",
       "      <td>C123</td>\n",
       "      <td>S</td>\n",
       "    </tr>\n",
       "    <tr>\n",
       "      <th>4</th>\n",
       "      <td>5</td>\n",
       "      <td>0</td>\n",
       "      <td>3</td>\n",
       "      <td>Allen, Mr. William Henry</td>\n",
       "      <td>male</td>\n",
       "      <td>35.0</td>\n",
       "      <td>0</td>\n",
       "      <td>0</td>\n",
       "      <td>373450</td>\n",
       "      <td>8.0500</td>\n",
       "      <td>NaN</td>\n",
       "      <td>S</td>\n",
       "    </tr>\n",
       "  </tbody>\n",
       "</table>\n",
       "</div>"
      ],
      "text/plain": [
       "   PassengerId  Survived  Pclass  \\\n",
       "0            1         0       3   \n",
       "1            2         1       1   \n",
       "2            3         1       3   \n",
       "3            4         1       1   \n",
       "4            5         0       3   \n",
       "\n",
       "                                                Name     Sex   Age  SibSp  \\\n",
       "0                            Braund, Mr. Owen Harris    male  22.0      1   \n",
       "1  Cumings, Mrs. John Bradley (Florence Briggs Th...  female  38.0      1   \n",
       "2                             Heikkinen, Miss. Laina  female  26.0      0   \n",
       "3       Futrelle, Mrs. Jacques Heath (Lily May Peel)  female  35.0      1   \n",
       "4                           Allen, Mr. William Henry    male  35.0      0   \n",
       "\n",
       "   Parch            Ticket     Fare Cabin Embarked  \n",
       "0      0         A/5 21171   7.2500   NaN        S  \n",
       "1      0          PC 17599  71.2833   C85        C  \n",
       "2      0  STON/O2. 3101282   7.9250   NaN        S  \n",
       "3      0            113803  53.1000  C123        S  \n",
       "4      0            373450   8.0500   NaN        S  "
      ]
     },
     "execution_count": 95,
     "metadata": {},
     "output_type": "execute_result"
    }
   ],
   "source": [
    "titanic = pd.read_csv(\"data/titanic.csv\")\n",
    "\n",
    "titanic.head()"
   ]
  },
  {
   "cell_type": "code",
   "execution_count": 100,
   "metadata": {
    "ExecuteTime": {
     "end_time": "2021-02-04T16:37:56.451245Z",
     "start_time": "2021-02-04T16:37:56.444027Z"
    }
   },
   "outputs": [
    {
     "data": {
      "text/plain": [
       "0                             [Braund, Mr,  Owen Harris]\n",
       "1      [Cumings, Mrs,  John Bradley (Florence Briggs ...\n",
       "2                              [Heikkinen, Miss,  Laina]\n",
       "3        [Futrelle, Mrs,  Jacques Heath (Lily May Peel)]\n",
       "4                            [Allen, Mr,  William Henry]\n",
       "                             ...                        \n",
       "886                             [Montvila, Rev,  Juozas]\n",
       "887                      [Graham, Miss,  Margaret Edith]\n",
       "888          [Johnston, Miss,  Catherine Helen \"Carrie\"]\n",
       "889                             [Behr, Mr,  Karl Howell]\n",
       "890                               [Dooley, Mr,  Patrick]\n",
       "Name: Name, Length: 891, dtype: object"
      ]
     },
     "execution_count": 100,
     "metadata": {},
     "output_type": "execute_result"
    }
   ],
   "source": [
    "titanic[\"Name\"].str.split(\".\") # Split string on a specified character"
   ]
  },
  {
   "cell_type": "code",
   "execution_count": 101,
   "metadata": {
    "ExecuteTime": {
     "end_time": "2021-02-04T16:37:59.672373Z",
     "start_time": "2021-02-04T16:37:59.660137Z"
    }
   },
   "outputs": [
    {
     "data": {
      "text/html": [
       "<div>\n",
       "<style scoped>\n",
       "    .dataframe tbody tr th:only-of-type {\n",
       "        vertical-align: middle;\n",
       "    }\n",
       "\n",
       "    .dataframe tbody tr th {\n",
       "        vertical-align: top;\n",
       "    }\n",
       "\n",
       "    .dataframe thead th {\n",
       "        text-align: right;\n",
       "    }\n",
       "</style>\n",
       "<table border=\"1\" class=\"dataframe\">\n",
       "  <thead>\n",
       "    <tr style=\"text-align: right;\">\n",
       "      <th></th>\n",
       "      <th>0</th>\n",
       "      <th>1</th>\n",
       "      <th>2</th>\n",
       "    </tr>\n",
       "  </thead>\n",
       "  <tbody>\n",
       "    <tr>\n",
       "      <th>0</th>\n",
       "      <td>Braund, Mr</td>\n",
       "      <td>Owen Harris</td>\n",
       "      <td>None</td>\n",
       "    </tr>\n",
       "    <tr>\n",
       "      <th>1</th>\n",
       "      <td>Cumings, Mrs</td>\n",
       "      <td>John Bradley (Florence Briggs Thayer)</td>\n",
       "      <td>None</td>\n",
       "    </tr>\n",
       "    <tr>\n",
       "      <th>2</th>\n",
       "      <td>Heikkinen, Miss</td>\n",
       "      <td>Laina</td>\n",
       "      <td>None</td>\n",
       "    </tr>\n",
       "    <tr>\n",
       "      <th>3</th>\n",
       "      <td>Futrelle, Mrs</td>\n",
       "      <td>Jacques Heath (Lily May Peel)</td>\n",
       "      <td>None</td>\n",
       "    </tr>\n",
       "    <tr>\n",
       "      <th>4</th>\n",
       "      <td>Allen, Mr</td>\n",
       "      <td>William Henry</td>\n",
       "      <td>None</td>\n",
       "    </tr>\n",
       "    <tr>\n",
       "      <th>...</th>\n",
       "      <td>...</td>\n",
       "      <td>...</td>\n",
       "      <td>...</td>\n",
       "    </tr>\n",
       "    <tr>\n",
       "      <th>886</th>\n",
       "      <td>Montvila, Rev</td>\n",
       "      <td>Juozas</td>\n",
       "      <td>None</td>\n",
       "    </tr>\n",
       "    <tr>\n",
       "      <th>887</th>\n",
       "      <td>Graham, Miss</td>\n",
       "      <td>Margaret Edith</td>\n",
       "      <td>None</td>\n",
       "    </tr>\n",
       "    <tr>\n",
       "      <th>888</th>\n",
       "      <td>Johnston, Miss</td>\n",
       "      <td>Catherine Helen \"Carrie\"</td>\n",
       "      <td>None</td>\n",
       "    </tr>\n",
       "    <tr>\n",
       "      <th>889</th>\n",
       "      <td>Behr, Mr</td>\n",
       "      <td>Karl Howell</td>\n",
       "      <td>None</td>\n",
       "    </tr>\n",
       "    <tr>\n",
       "      <th>890</th>\n",
       "      <td>Dooley, Mr</td>\n",
       "      <td>Patrick</td>\n",
       "      <td>None</td>\n",
       "    </tr>\n",
       "  </tbody>\n",
       "</table>\n",
       "<p>891 rows × 3 columns</p>\n",
       "</div>"
      ],
      "text/plain": [
       "                   0                                       1     2\n",
       "0         Braund, Mr                             Owen Harris  None\n",
       "1       Cumings, Mrs   John Bradley (Florence Briggs Thayer)  None\n",
       "2    Heikkinen, Miss                                   Laina  None\n",
       "3      Futrelle, Mrs           Jacques Heath (Lily May Peel)  None\n",
       "4          Allen, Mr                           William Henry  None\n",
       "..               ...                                     ...   ...\n",
       "886    Montvila, Rev                                  Juozas  None\n",
       "887     Graham, Miss                          Margaret Edith  None\n",
       "888   Johnston, Miss                Catherine Helen \"Carrie\"  None\n",
       "889         Behr, Mr                             Karl Howell  None\n",
       "890       Dooley, Mr                                 Patrick  None\n",
       "\n",
       "[891 rows x 3 columns]"
      ]
     },
     "execution_count": 101,
     "metadata": {},
     "output_type": "execute_result"
    }
   ],
   "source": [
    "titanic[\"Name\"].str.split(\".\", expand=True) # Split string on a specified character and return DataFrame"
   ]
  },
  {
   "cell_type": "code",
   "execution_count": 108,
   "metadata": {
    "ExecuteTime": {
     "end_time": "2021-02-04T16:41:00.903862Z",
     "start_time": "2021-02-04T16:41:00.896492Z"
    }
   },
   "outputs": [
    {
     "data": {
      "text/plain": [
       "0                                Braund, Mr. Owen Harris\n",
       "1      Cumings, Mrs. John Bradley (Florence Briggs Th...\n",
       "2                                 Heikkinen, Miss. Laina\n",
       "3           Futrelle, Mrs. Jacques Heath (Lily May Peel)\n",
       "4                               Allen, Mr. William Henry\n",
       "                             ...                        \n",
       "886                                Montvila, Rev. Juozas\n",
       "887                         Graham, Miss. Margaret Edith\n",
       "888             Johnston, Miss. Catherine Helen \"Carrie\"\n",
       "889                                Behr, Mr. Karl Howell\n",
       "890                                  Dooley, Mr. Patrick\n",
       "Name: Name, Length: 891, dtype: object"
      ]
     },
     "execution_count": 108,
     "metadata": {},
     "output_type": "execute_result"
    }
   ],
   "source": [
    "titanic[\"Name\"].str.strip() # Remove leading and trailing spaces"
   ]
  },
  {
   "cell_type": "code",
   "execution_count": 109,
   "metadata": {
    "ExecuteTime": {
     "end_time": "2021-02-04T16:41:51.960422Z",
     "start_time": "2021-02-04T16:41:51.954032Z"
    }
   },
   "outputs": [
    {
     "data": {
      "text/plain": [
       "0      False\n",
       "1       True\n",
       "2      False\n",
       "3       True\n",
       "4      False\n",
       "       ...  \n",
       "886    False\n",
       "887    False\n",
       "888    False\n",
       "889    False\n",
       "890    False\n",
       "Name: Name, Length: 891, dtype: bool"
      ]
     },
     "execution_count": 109,
     "metadata": {},
     "output_type": "execute_result"
    }
   ],
   "source": [
    "titanic[\"Name\"].str.contains(\"Mrs\") # True if sub-string is included in string"
   ]
  },
  {
   "cell_type": "code",
   "execution_count": 111,
   "metadata": {
    "ExecuteTime": {
     "end_time": "2021-02-04T16:42:41.524593Z",
     "start_time": "2021-02-04T16:42:41.519313Z"
    }
   },
   "outputs": [
    {
     "data": {
      "text/plain": [
       "0                                Braund, Mr. Owen Harris\n",
       "1      Cumings, sdafghkjahdsvfkjDHSVKJAHDSC. John Bra...\n",
       "2                                 Heikkinen, Miss. Laina\n",
       "3      Futrelle, sdafghkjahdsvfkjDHSVKJAHDSC. Jacques...\n",
       "4                               Allen, Mr. William Henry\n",
       "                             ...                        \n",
       "886                                Montvila, Rev. Juozas\n",
       "887                         Graham, Miss. Margaret Edith\n",
       "888             Johnston, Miss. Catherine Helen \"Carrie\"\n",
       "889                                Behr, Mr. Karl Howell\n",
       "890                                  Dooley, Mr. Patrick\n",
       "Name: Name, Length: 891, dtype: object"
      ]
     },
     "execution_count": 111,
     "metadata": {},
     "output_type": "execute_result"
    }
   ],
   "source": [
    "titanic[\"Name\"].str.replace(\"Mrs\", \"###\") # Replace string with other value"
   ]
  },
  {
   "cell_type": "code",
   "execution_count": 115,
   "metadata": {
    "ExecuteTime": {
     "end_time": "2021-02-04T16:43:47.170282Z",
     "start_time": "2021-02-04T16:43:47.163718Z"
    }
   },
   "outputs": [
    {
     "data": {
      "text/plain": [
       "0      False\n",
       "1      False\n",
       "2       True\n",
       "3      False\n",
       "4      False\n",
       "       ...  \n",
       "886    False\n",
       "887    False\n",
       "888    False\n",
       "889    False\n",
       "890    False\n",
       "Name: Name, Length: 891, dtype: bool"
      ]
     },
     "execution_count": 115,
     "metadata": {},
     "output_type": "execute_result"
    }
   ],
   "source": [
    "titanic[\"Name\"].str.startswith(\"Mrs\") # True if string starts with \"Mrs\"\n",
    "\n",
    "titanic[\"Name\"].str.endswith(\"a\") # True if string ends with \"a\""
   ]
  },
  {
   "cell_type": "code",
   "execution_count": 117,
   "metadata": {
    "ExecuteTime": {
     "end_time": "2021-02-04T16:45:02.900613Z",
     "start_time": "2021-02-04T16:45:02.892489Z"
    }
   },
   "outputs": [
    {
     "data": {
      "text/plain": [
       "0                                BRAUND, MR. OWEN HARRIS\n",
       "1      CUMINGS, MRS. JOHN BRADLEY (FLORENCE BRIGGS TH...\n",
       "2                                 HEIKKINEN, MISS. LAINA\n",
       "3           FUTRELLE, MRS. JACQUES HEATH (LILY MAY PEEL)\n",
       "4                               ALLEN, MR. WILLIAM HENRY\n",
       "                             ...                        \n",
       "886                                MONTVILA, REV. JUOZAS\n",
       "887                         GRAHAM, MISS. MARGARET EDITH\n",
       "888             JOHNSTON, MISS. CATHERINE HELEN \"CARRIE\"\n",
       "889                                BEHR, MR. KARL HOWELL\n",
       "890                                  DOOLEY, MR. PATRICK\n",
       "Name: Name, Length: 891, dtype: object"
      ]
     },
     "execution_count": 117,
     "metadata": {},
     "output_type": "execute_result"
    }
   ],
   "source": [
    "titanic[\"Name\"].str.lower() # Lower case letter\n",
    "\n",
    "\n",
    "titanic[\"Name\"].str.upper() # Upper case letters"
   ]
  },
  {
   "cell_type": "code",
   "execution_count": 118,
   "metadata": {
    "ExecuteTime": {
     "end_time": "2021-02-04T16:45:24.977876Z",
     "start_time": "2021-02-04T16:45:24.973221Z"
    }
   },
   "outputs": [
    {
     "data": {
      "text/plain": [
       "0                                Braund, mr. owen harris\n",
       "1      Cumings, mrs. john bradley (florence briggs th...\n",
       "2                                 Heikkinen, miss. laina\n",
       "3           Futrelle, mrs. jacques heath (lily may peel)\n",
       "4                               Allen, mr. william henry\n",
       "                             ...                        \n",
       "886                                Montvila, rev. juozas\n",
       "887                         Graham, miss. margaret edith\n",
       "888             Johnston, miss. catherine helen \"carrie\"\n",
       "889                                Behr, mr. karl howell\n",
       "890                                  Dooley, mr. patrick\n",
       "Name: Name, Length: 891, dtype: object"
      ]
     },
     "execution_count": 118,
     "metadata": {},
     "output_type": "execute_result"
    }
   ],
   "source": [
    "titanic[\"Name\"].str.capitalize()"
   ]
  },
  {
   "cell_type": "code",
   "execution_count": 121,
   "metadata": {
    "ExecuteTime": {
     "end_time": "2021-02-04T16:47:59.356244Z",
     "start_time": "2021-02-04T16:47:59.350351Z"
    }
   },
   "outputs": [
    {
     "data": {
      "text/plain": [
       "0      Braund, Mr. Owen HarrisBraund, Mr. Owen Harris...\n",
       "1      Cumings, Mrs. John Bradley (Florence Briggs Th...\n",
       "2      Heikkinen, Miss. LainaHeikkinen, Miss. LainaHe...\n",
       "3      Futrelle, Mrs. Jacques Heath (Lily May Peel)Fu...\n",
       "4      Allen, Mr. William HenryAllen, Mr. William Hen...\n",
       "                             ...                        \n",
       "886    Montvila, Rev. JuozasMontvila, Rev. JuozasMont...\n",
       "887    Graham, Miss. Margaret EdithGraham, Miss. Marg...\n",
       "888    Johnston, Miss. Catherine Helen \"Carrie\"Johnst...\n",
       "889    Behr, Mr. Karl HowellBehr, Mr. Karl HowellBehr...\n",
       "890    Dooley, Mr. PatrickDooley, Mr. PatrickDooley, ...\n",
       "Name: Name, Length: 891, dtype: object"
      ]
     },
     "execution_count": 121,
     "metadata": {},
     "output_type": "execute_result"
    }
   ],
   "source": [
    "titanic[\"Name\"].str.repeat(3)"
   ]
  },
  {
   "cell_type": "markdown",
   "metadata": {},
   "source": [
    "## Variable Transformation\n",
    "\n",
    "---\n",
    "\n",
    "To do a modeling, at the first stage, one have to take into consideration that we have some fixed set of models and we have to fit the data to our model, and the second is that these models have their assumptions - **which rarely holds in real world**.\n",
    "\n",
    "\n",
    "When the assumptions do not hold, we apply different transformations to our data, in order to have as desirable data format for the model as possible. By doing so, we try to extract as much information from our data as possible.\n",
    "\n",
    "\n",
    "> **The type of variable transformation greatly depends on the type of model we plan to use for modeling.**\n",
    "\n",
    "\n",
    "Transformation methods are classified in two broad class:\n",
    "\n",
    "\n",
    "* **Numeric Variable Transformation** - is turning a numeric variable to another numeric variable. Typically it is meant to change the scale of values and/or to adjust the skewed data distribution to Gaussian-like distribution through some `monotonic transformation`\n",
    "\n",
    "\n",
    "* **Categorical Variable Transformation** - is turning a categorical variable to a numeric variable. Categorical variable transformation is mandatory for most of the machine learning models because they can handle only numeric values."
   ]
  },
  {
   "cell_type": "markdown",
   "metadata": {},
   "source": [
    " "
   ]
  },
  {
   "cell_type": "markdown",
   "metadata": {},
   "source": [
    "### Numerical Variable Transformations\n",
    "\n",
    "---\n",
    "\n",
    "\n",
    "* **Standardization**\n",
    "\n",
    "\n",
    "* **Min-max scaling**\n",
    "\n",
    "\n",
    "* **Logarithmic transformation**"
   ]
  },
  {
   "cell_type": "code",
   "execution_count": 122,
   "metadata": {
    "ExecuteTime": {
     "end_time": "2021-02-04T16:55:02.876692Z",
     "start_time": "2021-02-04T16:55:02.862287Z"
    }
   },
   "outputs": [
    {
     "data": {
      "text/html": [
       "<div>\n",
       "<style scoped>\n",
       "    .dataframe tbody tr th:only-of-type {\n",
       "        vertical-align: middle;\n",
       "    }\n",
       "\n",
       "    .dataframe tbody tr th {\n",
       "        vertical-align: top;\n",
       "    }\n",
       "\n",
       "    .dataframe thead th {\n",
       "        text-align: right;\n",
       "    }\n",
       "</style>\n",
       "<table border=\"1\" class=\"dataframe\">\n",
       "  <thead>\n",
       "    <tr style=\"text-align: right;\">\n",
       "      <th></th>\n",
       "      <th>id</th>\n",
       "      <th>nationality</th>\n",
       "      <th>sex</th>\n",
       "      <th>height</th>\n",
       "      <th>weight</th>\n",
       "      <th>sport</th>\n",
       "      <th>gold</th>\n",
       "      <th>silver</th>\n",
       "      <th>bronze</th>\n",
       "      <th>bmi</th>\n",
       "      <th>new_weight</th>\n",
       "    </tr>\n",
       "  </thead>\n",
       "  <tbody>\n",
       "    <tr>\n",
       "      <th>0</th>\n",
       "      <td>736041664</td>\n",
       "      <td>ESP</td>\n",
       "      <td>male</td>\n",
       "      <td>1.72</td>\n",
       "      <td>64.0</td>\n",
       "      <td>athletics</td>\n",
       "      <td>0</td>\n",
       "      <td>0</td>\n",
       "      <td>0</td>\n",
       "      <td>21.633315</td>\n",
       "      <td>normal_weight</td>\n",
       "    </tr>\n",
       "    <tr>\n",
       "      <th>1</th>\n",
       "      <td>532037425</td>\n",
       "      <td>KOR</td>\n",
       "      <td>female</td>\n",
       "      <td>1.68</td>\n",
       "      <td>56.0</td>\n",
       "      <td>fencing</td>\n",
       "      <td>0</td>\n",
       "      <td>0</td>\n",
       "      <td>0</td>\n",
       "      <td>19.841270</td>\n",
       "      <td>normal_weight</td>\n",
       "    </tr>\n",
       "    <tr>\n",
       "      <th>2</th>\n",
       "      <td>435962603</td>\n",
       "      <td>CAN</td>\n",
       "      <td>male</td>\n",
       "      <td>1.98</td>\n",
       "      <td>79.0</td>\n",
       "      <td>athletics</td>\n",
       "      <td>0</td>\n",
       "      <td>0</td>\n",
       "      <td>1</td>\n",
       "      <td>20.151005</td>\n",
       "      <td>normal_weight</td>\n",
       "    </tr>\n",
       "    <tr>\n",
       "      <th>3</th>\n",
       "      <td>521041435</td>\n",
       "      <td>MDA</td>\n",
       "      <td>male</td>\n",
       "      <td>1.83</td>\n",
       "      <td>80.0</td>\n",
       "      <td>taekwondo</td>\n",
       "      <td>0</td>\n",
       "      <td>0</td>\n",
       "      <td>0</td>\n",
       "      <td>23.888441</td>\n",
       "      <td>normal_weight</td>\n",
       "    </tr>\n",
       "    <tr>\n",
       "      <th>4</th>\n",
       "      <td>33922579</td>\n",
       "      <td>NZL</td>\n",
       "      <td>male</td>\n",
       "      <td>1.81</td>\n",
       "      <td>71.0</td>\n",
       "      <td>cycling</td>\n",
       "      <td>0</td>\n",
       "      <td>0</td>\n",
       "      <td>0</td>\n",
       "      <td>21.672110</td>\n",
       "      <td>normal_weight</td>\n",
       "    </tr>\n",
       "  </tbody>\n",
       "</table>\n",
       "</div>"
      ],
      "text/plain": [
       "          id nationality     sex  height  weight      sport gold silver  \\\n",
       "0  736041664         ESP    male    1.72    64.0  athletics    0      0   \n",
       "1  532037425         KOR  female    1.68    56.0    fencing    0      0   \n",
       "2  435962603         CAN    male    1.98    79.0  athletics    0      0   \n",
       "3  521041435         MDA    male    1.83    80.0  taekwondo    0      0   \n",
       "4   33922579         NZL    male    1.81    71.0    cycling    0      0   \n",
       "\n",
       "  bronze        bmi     new_weight  \n",
       "0      0  21.633315  normal_weight  \n",
       "1      0  19.841270  normal_weight  \n",
       "2      1  20.151005  normal_weight  \n",
       "3      0  23.888441  normal_weight  \n",
       "4      0  21.672110  normal_weight  "
      ]
     },
     "execution_count": 122,
     "metadata": {},
     "output_type": "execute_result"
    }
   ],
   "source": [
    "athletes.head()"
   ]
  },
  {
   "cell_type": "markdown",
   "metadata": {},
   "source": [
    "Standardization happens using the following formula:\n",
    "\n",
    "$$\n",
    "X'_{i} = \\frac{X_{i} - \\bar{X_{n}}}{s}\n",
    "$$\n",
    "\n",
    "where, $\\bar{X_{n}}$ is an arithmetic average and $s$ is standard deviation."
   ]
  },
  {
   "cell_type": "code",
   "execution_count": 123,
   "metadata": {
    "ExecuteTime": {
     "end_time": "2021-02-04T16:56:00.749792Z",
     "start_time": "2021-02-04T16:56:00.741834Z"
    }
   },
   "outputs": [
    {
     "data": {
      "text/plain": [
       "0       -0.498826\n",
       "1       -0.993425\n",
       "2        0.428548\n",
       "3        0.490373\n",
       "4       -0.066051\n",
       "           ...   \n",
       "11538   -0.869775\n",
       "11539   -0.560651\n",
       "11540    1.726872\n",
       "11541   -0.993425\n",
       "11542   -0.127876\n",
       "Name: weight, Length: 11543, dtype: float64"
      ]
     },
     "execution_count": 123,
     "metadata": {},
     "output_type": "execute_result"
    }
   ],
   "source": [
    "(athletes['weight'] - athletes[\"weight\"].mean()) / athletes[\"weight\"].std()"
   ]
  },
  {
   "cell_type": "markdown",
   "metadata": {},
   "source": [
    " "
   ]
  },
  {
   "cell_type": "markdown",
   "metadata": {},
   "source": [
    "Min-Max Scaling happens using the following formula:\n",
    "\n",
    "$$\n",
    "X'_{i} = \\frac{X_{i} - min(X)}{max(X) - min(X)}\n",
    "$$"
   ]
  },
  {
   "cell_type": "code",
   "execution_count": 124,
   "metadata": {
    "ExecuteTime": {
     "end_time": "2021-02-04T16:56:38.967112Z",
     "start_time": "2021-02-04T16:56:38.959047Z"
    }
   },
   "outputs": [
    {
     "data": {
      "text/plain": [
       "0        0.237410\n",
       "1        0.179856\n",
       "2        0.345324\n",
       "3        0.352518\n",
       "4        0.287770\n",
       "           ...   \n",
       "11538    0.194245\n",
       "11539    0.230216\n",
       "11540    0.496403\n",
       "11541    0.179856\n",
       "11542    0.280576\n",
       "Name: weight, Length: 11543, dtype: float64"
      ]
     },
     "execution_count": 124,
     "metadata": {},
     "output_type": "execute_result"
    }
   ],
   "source": [
    "((athletes['weight'] - athletes[\"weight\"].min()) / (athletes[\"weight\"].max() - athletes[\"weight\"].min()))"
   ]
  },
  {
   "cell_type": "code",
   "execution_count": 125,
   "metadata": {
    "ExecuteTime": {
     "end_time": "2021-02-04T16:57:14.698981Z",
     "start_time": "2021-02-04T16:57:14.691544Z"
    }
   },
   "outputs": [
    {
     "data": {
      "text/plain": [
       "count    10884.000000\n",
       "mean         0.295456\n",
       "std          0.116365\n",
       "min          0.000000\n",
       "25%          0.208633\n",
       "50%          0.280576\n",
       "75%          0.359712\n",
       "max          1.000000\n",
       "Name: weight, dtype: float64"
      ]
     },
     "execution_count": 125,
     "metadata": {},
     "output_type": "execute_result"
    }
   ],
   "source": [
    "((athletes['weight'] - athletes[\"weight\"].min()) / (athletes[\"weight\"].max() - athletes[\"weight\"].min())).describe()"
   ]
  },
  {
   "cell_type": "markdown",
   "metadata": {},
   "source": [
    " "
   ]
  },
  {
   "cell_type": "markdown",
   "metadata": {},
   "source": [
    "Logarithmic transformation happens using by natural logarithm. However, we can use logarithm with any base. Also, note that in order to have successful logarithmic transformation the data should not contain zeros or values less than zeros."
   ]
  },
  {
   "cell_type": "code",
   "execution_count": 126,
   "metadata": {
    "ExecuteTime": {
     "end_time": "2021-02-04T16:58:11.820354Z",
     "start_time": "2021-02-04T16:58:11.813610Z"
    }
   },
   "outputs": [
    {
     "data": {
      "text/plain": [
       "0        4.158883\n",
       "1        4.025352\n",
       "2        4.369448\n",
       "3        4.382027\n",
       "4        4.262680\n",
       "           ...   \n",
       "11538    4.060443\n",
       "11539    4.143135\n",
       "11540    4.605170\n",
       "11541    4.025352\n",
       "11542    4.248495\n",
       "Name: weight, Length: 11543, dtype: float64"
      ]
     },
     "execution_count": 126,
     "metadata": {},
     "output_type": "execute_result"
    }
   ],
   "source": [
    "np.log(athletes[\"weight\"]) # Natural logarithm"
   ]
  },
  {
   "cell_type": "code",
   "execution_count": 128,
   "metadata": {
    "ExecuteTime": {
     "end_time": "2021-02-04T16:58:51.365246Z",
     "start_time": "2021-02-04T16:58:51.229702Z"
    }
   },
   "outputs": [
    {
     "data": {
      "text/plain": [
       "<AxesSubplot:ylabel='Frequency'>"
      ]
     },
     "execution_count": 128,
     "metadata": {},
     "output_type": "execute_result"
    },
    {
     "data": {
      "image/png": "[encoded data removed]",
      "text/plain": [
       "<Figure size 432x288 with 1 Axes>"
      ]
     },
     "metadata": {
      "needs_background": "light"
     },
     "output_type": "display_data"
    }
   ],
   "source": [
    "athletes[\"weight\"].plot.hist() # Raw numbers"
   ]
  },
  {
   "cell_type": "code",
   "execution_count": 127,
   "metadata": {
    "ExecuteTime": {
     "end_time": "2021-02-04T16:58:38.401825Z",
     "start_time": "2021-02-04T16:58:38.050682Z"
    }
   },
   "outputs": [
    {
     "data": {
      "text/plain": [
       "<AxesSubplot:ylabel='Frequency'>"
      ]
     },
     "execution_count": 127,
     "metadata": {},
     "output_type": "execute_result"
    },
    {
     "data": {
      "image/png": "[encoded data removed]",
      "text/plain": [
       "<Figure size 432x288 with 1 Axes>"
      ]
     },
     "metadata": {
      "needs_background": "light"
     },
     "output_type": "display_data"
    }
   ],
   "source": [
    "np.log(athletes[\"weight\"]).plot.hist() # Natural logarithm"
   ]
  },
  {
   "cell_type": "markdown",
   "metadata": {},
   "source": [
    "### Categorical Variable Transformations\n",
    "\n",
    "---\n",
    "\n",
    "* **One-hot encoding**"
   ]
  },
  {
   "cell_type": "markdown",
   "metadata": {},
   "source": [
    "One-hot encoding is also known as dummy variable, meaning that we create indicator or binary variable containing only zeros and ones. Pandas has built in functionality for dummy variable generation. The best candidate for dummy variable is column `sex`."
   ]
  },
  {
   "cell_type": "code",
   "execution_count": 129,
   "metadata": {
    "ExecuteTime": {
     "end_time": "2021-02-04T17:00:03.567455Z",
     "start_time": "2021-02-04T17:00:03.552741Z"
    }
   },
   "outputs": [
    {
     "data": {
      "text/html": [
       "<div>\n",
       "<style scoped>\n",
       "    .dataframe tbody tr th:only-of-type {\n",
       "        vertical-align: middle;\n",
       "    }\n",
       "\n",
       "    .dataframe tbody tr th {\n",
       "        vertical-align: top;\n",
       "    }\n",
       "\n",
       "    .dataframe thead th {\n",
       "        text-align: right;\n",
       "    }\n",
       "</style>\n",
       "<table border=\"1\" class=\"dataframe\">\n",
       "  <thead>\n",
       "    <tr style=\"text-align: right;\">\n",
       "      <th></th>\n",
       "      <th>id</th>\n",
       "      <th>nationality</th>\n",
       "      <th>sex</th>\n",
       "      <th>height</th>\n",
       "      <th>weight</th>\n",
       "      <th>sport</th>\n",
       "      <th>gold</th>\n",
       "      <th>silver</th>\n",
       "      <th>bronze</th>\n",
       "      <th>bmi</th>\n",
       "      <th>new_weight</th>\n",
       "    </tr>\n",
       "  </thead>\n",
       "  <tbody>\n",
       "    <tr>\n",
       "      <th>0</th>\n",
       "      <td>736041664</td>\n",
       "      <td>ESP</td>\n",
       "      <td>male</td>\n",
       "      <td>1.72</td>\n",
       "      <td>64.0</td>\n",
       "      <td>athletics</td>\n",
       "      <td>0</td>\n",
       "      <td>0</td>\n",
       "      <td>0</td>\n",
       "      <td>21.633315</td>\n",
       "      <td>normal_weight</td>\n",
       "    </tr>\n",
       "    <tr>\n",
       "      <th>1</th>\n",
       "      <td>532037425</td>\n",
       "      <td>KOR</td>\n",
       "      <td>female</td>\n",
       "      <td>1.68</td>\n",
       "      <td>56.0</td>\n",
       "      <td>fencing</td>\n",
       "      <td>0</td>\n",
       "      <td>0</td>\n",
       "      <td>0</td>\n",
       "      <td>19.841270</td>\n",
       "      <td>normal_weight</td>\n",
       "    </tr>\n",
       "    <tr>\n",
       "      <th>2</th>\n",
       "      <td>435962603</td>\n",
       "      <td>CAN</td>\n",
       "      <td>male</td>\n",
       "      <td>1.98</td>\n",
       "      <td>79.0</td>\n",
       "      <td>athletics</td>\n",
       "      <td>0</td>\n",
       "      <td>0</td>\n",
       "      <td>1</td>\n",
       "      <td>20.151005</td>\n",
       "      <td>normal_weight</td>\n",
       "    </tr>\n",
       "    <tr>\n",
       "      <th>3</th>\n",
       "      <td>521041435</td>\n",
       "      <td>MDA</td>\n",
       "      <td>male</td>\n",
       "      <td>1.83</td>\n",
       "      <td>80.0</td>\n",
       "      <td>taekwondo</td>\n",
       "      <td>0</td>\n",
       "      <td>0</td>\n",
       "      <td>0</td>\n",
       "      <td>23.888441</td>\n",
       "      <td>normal_weight</td>\n",
       "    </tr>\n",
       "    <tr>\n",
       "      <th>4</th>\n",
       "      <td>33922579</td>\n",
       "      <td>NZL</td>\n",
       "      <td>male</td>\n",
       "      <td>1.81</td>\n",
       "      <td>71.0</td>\n",
       "      <td>cycling</td>\n",
       "      <td>0</td>\n",
       "      <td>0</td>\n",
       "      <td>0</td>\n",
       "      <td>21.672110</td>\n",
       "      <td>normal_weight</td>\n",
       "    </tr>\n",
       "  </tbody>\n",
       "</table>\n",
       "</div>"
      ],
      "text/plain": [
       "          id nationality     sex  height  weight      sport gold silver  \\\n",
       "0  736041664         ESP    male    1.72    64.0  athletics    0      0   \n",
       "1  532037425         KOR  female    1.68    56.0    fencing    0      0   \n",
       "2  435962603         CAN    male    1.98    79.0  athletics    0      0   \n",
       "3  521041435         MDA    male    1.83    80.0  taekwondo    0      0   \n",
       "4   33922579         NZL    male    1.81    71.0    cycling    0      0   \n",
       "\n",
       "  bronze        bmi     new_weight  \n",
       "0      0  21.633315  normal_weight  \n",
       "1      0  19.841270  normal_weight  \n",
       "2      1  20.151005  normal_weight  \n",
       "3      0  23.888441  normal_weight  \n",
       "4      0  21.672110  normal_weight  "
      ]
     },
     "execution_count": 129,
     "metadata": {},
     "output_type": "execute_result"
    }
   ],
   "source": [
    "athletes.head()"
   ]
  },
  {
   "cell_type": "code",
   "execution_count": 130,
   "metadata": {
    "ExecuteTime": {
     "end_time": "2021-02-04T17:00:44.642504Z",
     "start_time": "2021-02-04T17:00:44.634062Z"
    }
   },
   "outputs": [
    {
     "data": {
      "text/html": [
       "<div>\n",
       "<style scoped>\n",
       "    .dataframe tbody tr th:only-of-type {\n",
       "        vertical-align: middle;\n",
       "    }\n",
       "\n",
       "    .dataframe tbody tr th {\n",
       "        vertical-align: top;\n",
       "    }\n",
       "\n",
       "    .dataframe thead th {\n",
       "        text-align: right;\n",
       "    }\n",
       "</style>\n",
       "<table border=\"1\" class=\"dataframe\">\n",
       "  <thead>\n",
       "    <tr style=\"text-align: right;\">\n",
       "      <th></th>\n",
       "      <th>female</th>\n",
       "      <th>male</th>\n",
       "    </tr>\n",
       "  </thead>\n",
       "  <tbody>\n",
       "    <tr>\n",
       "      <th>0</th>\n",
       "      <td>0</td>\n",
       "      <td>1</td>\n",
       "    </tr>\n",
       "    <tr>\n",
       "      <th>1</th>\n",
       "      <td>1</td>\n",
       "      <td>0</td>\n",
       "    </tr>\n",
       "    <tr>\n",
       "      <th>2</th>\n",
       "      <td>0</td>\n",
       "      <td>1</td>\n",
       "    </tr>\n",
       "    <tr>\n",
       "      <th>3</th>\n",
       "      <td>0</td>\n",
       "      <td>1</td>\n",
       "    </tr>\n",
       "    <tr>\n",
       "      <th>4</th>\n",
       "      <td>0</td>\n",
       "      <td>1</td>\n",
       "    </tr>\n",
       "    <tr>\n",
       "      <th>...</th>\n",
       "      <td>...</td>\n",
       "      <td>...</td>\n",
       "    </tr>\n",
       "    <tr>\n",
       "      <th>11538</th>\n",
       "      <td>1</td>\n",
       "      <td>0</td>\n",
       "    </tr>\n",
       "    <tr>\n",
       "      <th>11539</th>\n",
       "      <td>1</td>\n",
       "      <td>0</td>\n",
       "    </tr>\n",
       "    <tr>\n",
       "      <th>11540</th>\n",
       "      <td>0</td>\n",
       "      <td>1</td>\n",
       "    </tr>\n",
       "    <tr>\n",
       "      <th>11541</th>\n",
       "      <td>0</td>\n",
       "      <td>1</td>\n",
       "    </tr>\n",
       "    <tr>\n",
       "      <th>11542</th>\n",
       "      <td>0</td>\n",
       "      <td>1</td>\n",
       "    </tr>\n",
       "  </tbody>\n",
       "</table>\n",
       "<p>11543 rows × 2 columns</p>\n",
       "</div>"
      ],
      "text/plain": [
       "       female  male\n",
       "0           0     1\n",
       "1           1     0\n",
       "2           0     1\n",
       "3           0     1\n",
       "4           0     1\n",
       "...       ...   ...\n",
       "11538       1     0\n",
       "11539       1     0\n",
       "11540       0     1\n",
       "11541       0     1\n",
       "11542       0     1\n",
       "\n",
       "[11543 rows x 2 columns]"
      ]
     },
     "execution_count": 130,
     "metadata": {},
     "output_type": "execute_result"
    }
   ],
   "source": [
    "pd.get_dummies(athletes[\"sex\"]) # Returns dummy variable for any categorical variable"
   ]
  },
  {
   "cell_type": "markdown",
   "metadata": {},
   "source": [
    "In column `sex` we have two values, `female` and `male`. Have a look at dummy variables above. **They are same**. In the `female` column, 0 denotes male and 1 denotes female, while in `male` column everything is in opposite direction. We conclude that we need to drop one dummy variable, since we have duplicate values."
   ]
  },
  {
   "cell_type": "code",
   "execution_count": 131,
   "metadata": {
    "ExecuteTime": {
     "end_time": "2021-02-04T17:02:05.276408Z",
     "start_time": "2021-02-04T17:02:05.260655Z"
    }
   },
   "outputs": [
    {
     "data": {
      "text/html": [
       "<div>\n",
       "<style scoped>\n",
       "    .dataframe tbody tr th:only-of-type {\n",
       "        vertical-align: middle;\n",
       "    }\n",
       "\n",
       "    .dataframe tbody tr th {\n",
       "        vertical-align: top;\n",
       "    }\n",
       "\n",
       "    .dataframe thead th {\n",
       "        text-align: right;\n",
       "    }\n",
       "</style>\n",
       "<table border=\"1\" class=\"dataframe\">\n",
       "  <thead>\n",
       "    <tr style=\"text-align: right;\">\n",
       "      <th></th>\n",
       "      <th>male</th>\n",
       "    </tr>\n",
       "  </thead>\n",
       "  <tbody>\n",
       "    <tr>\n",
       "      <th>0</th>\n",
       "      <td>1</td>\n",
       "    </tr>\n",
       "    <tr>\n",
       "      <th>1</th>\n",
       "      <td>0</td>\n",
       "    </tr>\n",
       "    <tr>\n",
       "      <th>2</th>\n",
       "      <td>1</td>\n",
       "    </tr>\n",
       "    <tr>\n",
       "      <th>3</th>\n",
       "      <td>1</td>\n",
       "    </tr>\n",
       "    <tr>\n",
       "      <th>4</th>\n",
       "      <td>1</td>\n",
       "    </tr>\n",
       "    <tr>\n",
       "      <th>...</th>\n",
       "      <td>...</td>\n",
       "    </tr>\n",
       "    <tr>\n",
       "      <th>11538</th>\n",
       "      <td>0</td>\n",
       "    </tr>\n",
       "    <tr>\n",
       "      <th>11539</th>\n",
       "      <td>0</td>\n",
       "    </tr>\n",
       "    <tr>\n",
       "      <th>11540</th>\n",
       "      <td>1</td>\n",
       "    </tr>\n",
       "    <tr>\n",
       "      <th>11541</th>\n",
       "      <td>1</td>\n",
       "    </tr>\n",
       "    <tr>\n",
       "      <th>11542</th>\n",
       "      <td>1</td>\n",
       "    </tr>\n",
       "  </tbody>\n",
       "</table>\n",
       "<p>11543 rows × 1 columns</p>\n",
       "</div>"
      ],
      "text/plain": [
       "       male\n",
       "0         1\n",
       "1         0\n",
       "2         1\n",
       "3         1\n",
       "4         1\n",
       "...     ...\n",
       "11538     0\n",
       "11539     0\n",
       "11540     1\n",
       "11541     1\n",
       "11542     1\n",
       "\n",
       "[11543 rows x 1 columns]"
      ]
     },
     "execution_count": 131,
     "metadata": {},
     "output_type": "execute_result"
    }
   ],
   "source": [
    "pd.get_dummies(athletes[\"sex\"], drop_first=True) # Drops one dummy variable"
   ]
  },
  {
   "cell_type": "markdown",
   "metadata": {},
   "source": [
    "This is not an exhaustive list of variable transformations. We will cover them throughout the course."
   ]
  },
  {
   "cell_type": "markdown",
   "metadata": {},
   "source": [
    "# Summary\n",
    "\n",
    "---\n",
    "\n",
    "In this lecture, we saw how to deal with missing data, duplicate data, and how to do string manipulation, and some other analytical data transformations. In the next lecture, we focus on combining and rearranging datasets in various ways."
   ]
  }
 ],
 "metadata": {
  "kernelspec": {
   "display_name": "('learning': conda)",
   "language": "python",
   "name": "python37764bitlearningcondadead39b8b5cb441aa05edba06d4d913f"
  },
  "language_info": {
   "codemirror_mode": {
    "name": "ipython",
    "version": 3
   },
   "file_extension": ".py",
   "mimetype": "text/x-python",
   "name": "python",
   "nbconvert_exporter": "python",
   "pygments_lexer": "ipython3",
   "version": "3.7.7"
  },
  "varInspector": {
   "cols": {
    "lenName": 16,
    "lenType": 16,
    "lenVar": 40
   },
   "kernels_config": {
    "python": {
     "delete_cmd_postfix": "",
     "delete_cmd_prefix": "del ",
     "library": "var_list.py",
     "varRefreshCmd": "print(var_dic_list())"
    },
    "r": {
     "delete_cmd_postfix": ") ",
     "delete_cmd_prefix": "rm(",
     "library": "var_list.r",
     "varRefreshCmd": "cat(var_dic_list()) "
    }
   },
   "types_to_exclude": [
    "module",
    "function",
    "builtin_function_or_method",
    "instance",
    "_Feature"
   ],
   "window_display": false
  }
 },
 "nbformat": 4,
 "nbformat_minor": 2
}
