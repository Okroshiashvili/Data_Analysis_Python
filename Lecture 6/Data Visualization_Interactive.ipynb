{
 "cells": [
  {
   "cell_type": "markdown",
   "metadata": {
    "heading_collapsed": true
   },
   "source": [
    "# Interactive Data Visualization\n",
    "\n",
    "---\n",
    "\n",
    "\n",
    "[`Plotly`](https://plotly.com/python/) is a Python library specialized in interactive visualization. It has a sub-module, called [`Plotly-Express`](https://plotly.com/python/plotly-express/) with higher level of abstraction. In other words, `Plotly` offers wide variety of chart types - all interactive but not minimal coding, whereas `Plotly-Express` has relatively fewer chart types but offers minimal coding. "
   ]
  },
  {
   "cell_type": "code",
   "execution_count": null,
   "metadata": {
    "ExecuteTime": {
     "end_time": "2021-01-05T14:29:11.859079Z",
     "start_time": "2021-01-05T14:29:11.856450Z"
    },
    "hidden": true
   },
   "outputs": [],
   "source": [
    "import pandas as pd\n",
    "import numpy as np\n",
    "\n",
    "import plotly.express as px"
   ]
  },
  {
   "cell_type": "markdown",
   "metadata": {
    "hidden": true
   },
   "source": [
    "Like `Seaborn`, `Plotly-Express` have builtin datasets. Let use `tips` dataset in order to replicate all static charts we made in previous notebook. After that we can extend Plotly-Express functionality to produce higher quality plots."
   ]
  },
  {
   "cell_type": "code",
   "execution_count": null,
   "metadata": {
    "ExecuteTime": {
     "end_time": "2021-01-05T15:08:29.538887Z",
     "start_time": "2021-01-05T15:08:29.515420Z"
    },
    "hidden": true
   },
   "outputs": [],
   "source": [
    "df = px.data.tips()\n",
    "\n",
    "df"
   ]
  },
  {
   "cell_type": "markdown",
   "metadata": {
    "heading_collapsed": true,
    "hidden": true
   },
   "source": [
    "## Line Plots"
   ]
  },
  {
   "cell_type": "code",
   "execution_count": null,
   "metadata": {
    "ExecuteTime": {
     "end_time": "2021-01-05T14:29:32.469099Z",
     "start_time": "2021-01-05T14:29:32.466775Z"
    },
    "hidden": true
   },
   "outputs": [],
   "source": [
    "x1 = np.linspace(0.0, 5.0)\n",
    "\n",
    "y1 = np.cos(2 * np.pi * x1) * np.exp(-x1)"
   ]
  },
  {
   "cell_type": "code",
   "execution_count": null,
   "metadata": {
    "ExecuteTime": {
     "end_time": "2021-01-05T14:31:44.574997Z",
     "start_time": "2021-01-05T14:31:44.504933Z"
    },
    "hidden": true
   },
   "outputs": [],
   "source": [
    "fig = px.line(x=x1, y=y1)\n",
    "\n",
    "fig.show(renderer=\"notebook\")"
   ]
  },
  {
   "cell_type": "markdown",
   "metadata": {
    "heading_collapsed": true,
    "hidden": true
   },
   "source": [
    "## Bar Charts"
   ]
  },
  {
   "cell_type": "code",
   "execution_count": null,
   "metadata": {
    "ExecuteTime": {
     "end_time": "2021-01-05T14:21:57.646254Z",
     "start_time": "2021-01-05T14:21:57.548086Z"
    },
    "hidden": true
   },
   "outputs": [],
   "source": [
    "fig = px.bar(data_frame=df, x=\"day\", y=\"total_bill\", color=\"sex\")\n",
    "\n",
    "fig.show(renderer=\"notebook\")"
   ]
  },
  {
   "cell_type": "code",
   "execution_count": null,
   "metadata": {
    "ExecuteTime": {
     "end_time": "2021-01-05T14:22:00.524971Z",
     "start_time": "2021-01-05T14:22:00.452897Z"
    },
    "hidden": true
   },
   "outputs": [],
   "source": [
    "fig = px.bar(data_frame=df, x=\"day\", y=\"total_bill\", color=\"sex\", barmode=\"group\")\n",
    "\n",
    "fig.show(renderer=\"notebook\")"
   ]
  },
  {
   "cell_type": "markdown",
   "metadata": {
    "heading_collapsed": true,
    "hidden": true
   },
   "source": [
    "## Scatter Plots"
   ]
  },
  {
   "cell_type": "code",
   "execution_count": null,
   "metadata": {
    "ExecuteTime": {
     "end_time": "2021-01-05T14:23:28.782739Z",
     "start_time": "2021-01-05T14:23:28.698131Z"
    },
    "hidden": true
   },
   "outputs": [],
   "source": [
    "fig = px.scatter(data_frame=df, x=\"total_bill\", y=\"tip\")\n",
    "\n",
    "fig.show(renderer=\"notebook\")"
   ]
  },
  {
   "cell_type": "code",
   "execution_count": null,
   "metadata": {
    "ExecuteTime": {
     "end_time": "2021-01-05T14:25:54.318489Z",
     "start_time": "2021-01-05T14:25:54.243802Z"
    },
    "hidden": true
   },
   "outputs": [],
   "source": [
    "fig = px.scatter(data_frame=df,\n",
    "                 x=\"total_bill\",\n",
    "                 y=\"tip\",\n",
    "                 color=\"time\",\n",
    "                 size=\"size\")\n",
    "\n",
    "\n",
    "\n",
    "fig.show(renderer=\"notebook\")"
   ]
  },
  {
   "cell_type": "code",
   "execution_count": null,
   "metadata": {
    "ExecuteTime": {
     "end_time": "2021-01-05T15:08:36.298831Z",
     "start_time": "2021-01-05T15:08:36.172236Z"
    },
    "hidden": true
   },
   "outputs": [],
   "source": [
    "fig = px.scatter(data_frame=df,\n",
    "                 x=\"total_bill\",\n",
    "                 y=\"tip\",\n",
    "                 color=\"time\",\n",
    "                 size=\"size\",\n",
    "                 marginal_y=\"violin\",\n",
    "                 marginal_x=\"box\")\n",
    "\n",
    "\n",
    "\n",
    "fig.show(renderer=\"notebook\")"
   ]
  },
  {
   "cell_type": "markdown",
   "metadata": {
    "heading_collapsed": true,
    "hidden": true
   },
   "source": [
    "## Histogram"
   ]
  },
  {
   "cell_type": "code",
   "execution_count": null,
   "metadata": {
    "ExecuteTime": {
     "end_time": "2021-01-05T15:09:32.484084Z",
     "start_time": "2021-01-05T15:09:32.411497Z"
    },
    "hidden": true
   },
   "outputs": [],
   "source": [
    "fig = px.histogram(data_frame=df,\n",
    "                   x=\"total_bill\",\n",
    "                   nbins=20)\n",
    "\n",
    "\n",
    "fig.show(renderer=\"notebook\")"
   ]
  },
  {
   "cell_type": "code",
   "execution_count": null,
   "metadata": {
    "ExecuteTime": {
     "end_time": "2021-01-05T15:10:45.024534Z",
     "start_time": "2021-01-05T15:10:44.934661Z"
    },
    "hidden": true
   },
   "outputs": [],
   "source": [
    "fig = px.histogram(data_frame=df,\n",
    "                   x=\"total_bill\",\n",
    "                   color=\"sex\")\n",
    "\n",
    "\n",
    "fig.show(renderer=\"notebook\")"
   ]
  },
  {
   "cell_type": "markdown",
   "metadata": {
    "heading_collapsed": true,
    "hidden": true
   },
   "source": [
    "## Pie Chart"
   ]
  },
  {
   "cell_type": "code",
   "execution_count": null,
   "metadata": {
    "ExecuteTime": {
     "end_time": "2021-01-05T15:12:49.244570Z",
     "start_time": "2021-01-05T15:12:49.160317Z"
    },
    "hidden": true
   },
   "outputs": [],
   "source": [
    "fig = px.pie(data_frame=df,\n",
    "             values=\"tip\",\n",
    "             names=\"day\")\n",
    "\n",
    "\n",
    "fig.show(renderer=\"notebook\")"
   ]
  },
  {
   "cell_type": "code",
   "execution_count": null,
   "metadata": {
    "ExecuteTime": {
     "end_time": "2021-01-05T15:15:15.363843Z",
     "start_time": "2021-01-05T15:15:15.287056Z"
    },
    "hidden": true
   },
   "outputs": [],
   "source": [
    "fig = px.pie(data_frame=df,\n",
    "             values=\"tip\",\n",
    "             names=\"day\",\n",
    "             hole=0.5)\n",
    "\n",
    "\n",
    "fig.show(renderer=\"notebook\")"
   ]
  },
  {
   "cell_type": "markdown",
   "metadata": {
    "heading_collapsed": true,
    "hidden": true
   },
   "source": [
    "## Box Plot"
   ]
  },
  {
   "cell_type": "code",
   "execution_count": null,
   "metadata": {
    "ExecuteTime": {
     "end_time": "2021-01-05T15:24:00.694652Z",
     "start_time": "2021-01-05T15:24:00.620005Z"
    },
    "hidden": true
   },
   "outputs": [],
   "source": [
    "fig = px.box(data_frame=df, y=\"total_bill\")\n",
    "\n",
    "fig.show(renderer=\"notebook\")"
   ]
  },
  {
   "cell_type": "code",
   "execution_count": null,
   "metadata": {
    "ExecuteTime": {
     "end_time": "2021-01-05T15:24:41.810236Z",
     "start_time": "2021-01-05T15:24:41.741459Z"
    },
    "hidden": true
   },
   "outputs": [],
   "source": [
    "fig = px.box(data_frame=df, x=\"day\", y=\"total_bill\")\n",
    "\n",
    "fig.show(renderer=\"notebook\")"
   ]
  },
  {
   "cell_type": "code",
   "execution_count": null,
   "metadata": {
    "ExecuteTime": {
     "end_time": "2021-01-05T15:25:33.922683Z",
     "start_time": "2021-01-05T15:25:33.835598Z"
    },
    "hidden": true
   },
   "outputs": [],
   "source": [
    "fig = px.box(data_frame=df, x=\"day\", y=\"total_bill\", color=\"smoker\")\n",
    "\n",
    "fig.show(renderer=\"notebook\")"
   ]
  },
  {
   "cell_type": "markdown",
   "metadata": {
    "heading_collapsed": true,
    "hidden": true
   },
   "source": [
    "## Violin Plot"
   ]
  },
  {
   "cell_type": "code",
   "execution_count": null,
   "metadata": {
    "ExecuteTime": {
     "end_time": "2021-01-05T15:27:11.064354Z",
     "start_time": "2021-01-05T15:27:10.989097Z"
    },
    "hidden": true
   },
   "outputs": [],
   "source": [
    "fig = px.violin(data_frame=df, y=\"total_bill\")\n",
    "\n",
    "fig.show(renderer=\"notebook\")"
   ]
  },
  {
   "cell_type": "code",
   "execution_count": null,
   "metadata": {
    "ExecuteTime": {
     "end_time": "2021-01-05T15:29:21.822486Z",
     "start_time": "2021-01-05T15:29:21.735324Z"
    },
    "hidden": true
   },
   "outputs": [],
   "source": [
    "fig = px.violin(data_frame=df,\n",
    "                x=\"smoker\",\n",
    "                y=\"tip\",\n",
    "                color=\"sex\",\n",
    "                box=True,\n",
    "                points=\"all\")\n",
    "\n",
    "\n",
    "\n",
    "fig.show(renderer=\"notebook\")"
   ]
  },
  {
   "cell_type": "markdown",
   "metadata": {
    "heading_collapsed": true,
    "hidden": true
   },
   "source": [
    "## Parallel Category Diagram"
   ]
  },
  {
   "cell_type": "code",
   "execution_count": null,
   "metadata": {
    "ExecuteTime": {
     "end_time": "2021-01-05T14:41:25.608286Z",
     "start_time": "2021-01-05T14:41:25.538288Z"
    },
    "hidden": true
   },
   "outputs": [],
   "source": [
    "fig = px.parallel_categories(data_frame=df, dimensions=[\"sex\", \"smoker\", \"day\", \"time\"])\n",
    "\n",
    "fig.show(renderer=\"notebook\")"
   ]
  },
  {
   "cell_type": "markdown",
   "metadata": {
    "hidden": true
   },
   "source": [
    " "
   ]
  },
  {
   "cell_type": "markdown",
   "metadata": {
    "heading_collapsed": true,
    "hidden": true
   },
   "source": [
    "## TreeMap"
   ]
  },
  {
   "cell_type": "code",
   "execution_count": null,
   "metadata": {
    "ExecuteTime": {
     "end_time": "2021-01-05T14:46:48.390533Z",
     "start_time": "2021-01-05T14:46:48.356093Z"
    },
    "hidden": true
   },
   "outputs": [],
   "source": [
    "df = px.data.gapminder().query(\"year == 2007\")\n",
    "\n",
    "df.head()"
   ]
  },
  {
   "cell_type": "code",
   "execution_count": null,
   "metadata": {
    "ExecuteTime": {
     "end_time": "2021-01-05T14:48:22.279643Z",
     "start_time": "2021-01-05T14:48:22.117825Z"
    },
    "hidden": true
   },
   "outputs": [],
   "source": [
    "fig = px.treemap(data_frame=df,\n",
    "                 path=[px.Constant(\"world\"), \"continent\", \"country\"],\n",
    "                 values=\"pop\",\n",
    "                 color=\"lifeExp\")\n",
    "\n",
    "\n",
    "\n",
    "fig.show(renderer=\"notebook\")"
   ]
  },
  {
   "cell_type": "markdown",
   "metadata": {
    "heading_collapsed": true,
    "hidden": true
   },
   "source": [
    "## Map"
   ]
  },
  {
   "cell_type": "code",
   "execution_count": null,
   "metadata": {
    "ExecuteTime": {
     "end_time": "2021-01-05T14:53:54.199552Z",
     "start_time": "2021-01-05T14:53:54.179603Z"
    },
    "hidden": true
   },
   "outputs": [],
   "source": [
    "df = px.data.carshare()\n",
    "\n",
    "\n",
    "df"
   ]
  },
  {
   "cell_type": "code",
   "execution_count": null,
   "metadata": {
    "ExecuteTime": {
     "end_time": "2021-01-05T14:54:40.134026Z",
     "start_time": "2021-01-05T14:54:40.030344Z"
    },
    "hidden": true
   },
   "outputs": [],
   "source": [
    "fig = px.scatter_mapbox(data_frame=df,\n",
    "                        lat=\"centroid_lat\",\n",
    "                        lon=\"centroid_lon\",\n",
    "                        color=\"peak_hour\",\n",
    "                        size=\"car_hours\",\n",
    "                        color_continuous_scale=px.colors.cyclical.IceFire,\n",
    "                        size_max=15,\n",
    "                        zoom=10,\n",
    "                        mapbox_style=\"carto-positron\")\n",
    "\n",
    "\n",
    "\n",
    "\n",
    "fig.show(renderer=\"notebook\")"
   ]
  },
  {
   "cell_type": "markdown",
   "metadata": {
    "heading_collapsed": true,
    "hidden": true
   },
   "source": [
    "## Animations"
   ]
  },
  {
   "cell_type": "code",
   "execution_count": null,
   "metadata": {
    "ExecuteTime": {
     "end_time": "2021-01-05T14:56:42.367415Z",
     "start_time": "2021-01-05T14:56:42.329793Z"
    },
    "hidden": true
   },
   "outputs": [],
   "source": [
    "df = px.data.gapminder()\n",
    "\n",
    "df"
   ]
  },
  {
   "cell_type": "code",
   "execution_count": null,
   "metadata": {
    "ExecuteTime": {
     "end_time": "2021-01-05T14:59:05.685593Z",
     "start_time": "2021-01-05T14:59:05.310896Z"
    },
    "hidden": true
   },
   "outputs": [],
   "source": [
    "fig = px.scatter(data_frame=df,\n",
    "                 x=\"gdpPercap\",\n",
    "                 y=\"lifeExp\",\n",
    "                 color=\"continent\",\n",
    "                 size=\"pop\",\n",
    "                 size_max=60,\n",
    "                 hover_name=\"country\",\n",
    "                 animation_frame=\"year\",\n",
    "                 animation_group=\"country\",\n",
    "                 log_x = True,\n",
    "                 range_x = [100, 100000],\n",
    "                 range_y = [25, 90], \n",
    "                 labels={\"gdpPercap\": \"GDP Per Capita\", \"lifeExp\": \"Life Expectancy\", \"pop\": \"Population\"})\n",
    "\n",
    "\n",
    "fig.show(renderer=\"notebook\")"
   ]
  },
  {
   "cell_type": "code",
   "execution_count": null,
   "metadata": {
    "ExecuteTime": {
     "end_time": "2021-01-05T15:01:25.218676Z",
     "start_time": "2021-01-05T15:01:25.100151Z"
    },
    "hidden": true
   },
   "outputs": [],
   "source": [
    "fig = px.choropleth(data_frame=df,\n",
    "                    locations=\"iso_alpha\",\n",
    "                    color=\"lifeExp\",\n",
    "                    hover_name=\"country\",\n",
    "                    animation_frame=\"year\",\n",
    "                    color_continuous_scale = px.colors.sequential.Plasma,\n",
    "                    projection=\"natural earth\",\n",
    "                    labels={\"lifeExp\": \"Life Expectancy\"})\n",
    "\n",
    "\n",
    "\n",
    "\n",
    "fig.show(renderer=\"notebook\")"
   ]
  },
  {
   "cell_type": "markdown",
   "metadata": {},
   "source": [
    "# Summary\n",
    "\n",
    "---\n",
    "\n",
    "In this notebook we've covered interactive visualizations. Particularly, we saw how `Plotly-Express` makes it easy to plot complex visualizations with minimal coding required. On the other hand, `Plotly` is even more powerful, but requires more coding. The decision is up to you, which one to use.\n",
    "\n",
    "\n",
    "$$\n",
    "$$\n",
    "\n",
    "\n",
    "> Plotly ecosystem contains one more library - famous and magnificent [`Dash`](https://plotly.com/dash/) for enterprise level dashboard applications."
   ]
  }
 ],
 "metadata": {
  "kernelspec": {
   "display_name": "Python 3.7.7 64-bit ('learning': conda)",
   "language": "python",
   "name": "python37764bitlearningcondadead39b8b5cb441aa05edba06d4d913f"
  },
  "language_info": {
   "codemirror_mode": {
    "name": "ipython",
    "version": 3
   },
   "file_extension": ".py",
   "mimetype": "text/x-python",
   "name": "python",
   "nbconvert_exporter": "python",
   "pygments_lexer": "ipython3",
   "version": "3.7.7"
  },
  "varInspector": {
   "cols": {
    "lenName": 16,
    "lenType": 16,
    "lenVar": 40
   },
   "kernels_config": {
    "python": {
     "delete_cmd_postfix": "",
     "delete_cmd_prefix": "del ",
     "library": "var_list.py",
     "varRefreshCmd": "print(var_dic_list())"
    },
    "r": {
     "delete_cmd_postfix": ") ",
     "delete_cmd_prefix": "rm(",
     "library": "var_list.r",
     "varRefreshCmd": "cat(var_dic_list()) "
    }
   },
   "types_to_exclude": [
    "module",
    "function",
    "builtin_function_or_method",
    "instance",
    "_Feature"
   ],
   "window_display": false
  }
 },
 "nbformat": 4,
 "nbformat_minor": 4
}
