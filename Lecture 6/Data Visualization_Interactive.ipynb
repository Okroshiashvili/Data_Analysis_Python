{
 "cells": [
  {
   "cell_type": "markdown",
   "metadata": {},
   "source": [
    "# Interactive Data Visualization\n",
    "\n",
    "---\n",
    "\n",
    "\n",
    "[`Plotly`](https://plotly.com/python/) is a Python library specialized in interactive visualization. It has a sub-module, called [`Plotly-Express`](https://plotly.com/python/plotly-express/) with higher level of abstraction. In other words, `Plotly` offers wide variety of chart types - all interactive but not minimal coding, whereas `Plotly-Express` has relatively fewer chart types but offers minimal coding. "
   ]
  },
  {
   "cell_type": "code",
   "execution_count": null,
   "metadata": {
    "ExecuteTime": {
     "end_time": "2021-02-11T15:14:07.755975Z",
     "start_time": "2021-02-11T15:14:07.201295Z"
    }
   },
   "outputs": [],
   "source": [
    "import pandas as pd\n",
    "import numpy as np\n",
    "\n",
    "import plotly.express as px"
   ]
  },
  {
   "cell_type": "markdown",
   "metadata": {},
   "source": [
    "Like `Seaborn`, `Plotly-Express` have builtin datasets. Let use `tips` dataset in order to replicate all static charts we made in previous notebook. After that we can extend Plotly-Express functionality to produce higher quality plots."
   ]
  },
  {
   "cell_type": "code",
   "execution_count": null,
   "metadata": {
    "ExecuteTime": {
     "end_time": "2021-02-11T15:14:17.442977Z",
     "start_time": "2021-02-11T15:14:17.398878Z"
    }
   },
   "outputs": [],
   "source": [
    "df = px.data.tips()\n",
    "\n",
    "df"
   ]
  },
  {
   "cell_type": "markdown",
   "metadata": {},
   "source": [
    "## Line Plots"
   ]
  },
  {
   "cell_type": "code",
   "execution_count": null,
   "metadata": {
    "ExecuteTime": {
     "end_time": "2021-02-11T15:15:26.454126Z",
     "start_time": "2021-02-11T15:15:26.450356Z"
    }
   },
   "outputs": [],
   "source": [
    "x1 = np.linspace(0.0, 5.0)\n",
    "\n",
    "y1 = np.cos(2 * np.pi * x1) * np.exp(-x1)"
   ]
  },
  {
   "cell_type": "code",
   "execution_count": null,
   "metadata": {
    "ExecuteTime": {
     "end_time": "2021-02-11T15:15:32.115920Z",
     "start_time": "2021-02-11T15:15:31.611205Z"
    }
   },
   "outputs": [],
   "source": [
    "fig = px.line(x=x1, y=y1)\n",
    "\n",
    "fig.show(renderer=\"notebook\")"
   ]
  },
  {
   "cell_type": "markdown",
   "metadata": {},
   "source": [
    "## Bar Charts"
   ]
  },
  {
   "cell_type": "code",
   "execution_count": null,
   "metadata": {
    "ExecuteTime": {
     "end_time": "2021-02-11T15:16:38.786307Z",
     "start_time": "2021-02-11T15:16:38.684598Z"
    }
   },
   "outputs": [],
   "source": [
    "fig = px.bar(data_frame=df, x=\"day\", y=\"total_bill\", color=\"sex\")\n",
    "\n",
    "fig.show(renderer=\"notebook\")"
   ]
  },
  {
   "cell_type": "code",
   "execution_count": null,
   "metadata": {
    "ExecuteTime": {
     "end_time": "2021-02-11T15:17:12.888888Z",
     "start_time": "2021-02-11T15:17:12.801616Z"
    }
   },
   "outputs": [],
   "source": [
    "fig = px.bar(data_frame=df, x=\"day\", y=\"total_bill\", color=\"sex\", barmode=\"group\")\n",
    "\n",
    "fig.show(renderer=\"notebook\")"
   ]
  },
  {
   "cell_type": "markdown",
   "metadata": {},
   "source": [
    "## Scatter Plots"
   ]
  },
  {
   "cell_type": "code",
   "execution_count": null,
   "metadata": {
    "ExecuteTime": {
     "end_time": "2021-02-11T15:19:31.204061Z",
     "start_time": "2021-02-11T15:19:31.126628Z"
    }
   },
   "outputs": [],
   "source": [
    "fig = px.scatter(data_frame=df, x=\"total_bill\", y=\"tip\")\n",
    "\n",
    "fig.show(renderer=\"notebook\")"
   ]
  },
  {
   "cell_type": "code",
   "execution_count": null,
   "metadata": {
    "ExecuteTime": {
     "end_time": "2021-02-11T15:20:52.482255Z",
     "start_time": "2021-02-11T15:20:52.367247Z"
    }
   },
   "outputs": [],
   "source": [
    "fig = px.scatter(data_frame=df,\n",
    "                 x=\"total_bill\",\n",
    "                 y=\"tip\",\n",
    "                 color=\"time\",\n",
    "                 size=\"size\")\n",
    "\n",
    "\n",
    "\n",
    "fig.show(renderer=\"notebook\")"
   ]
  },
  {
   "cell_type": "code",
   "execution_count": null,
   "metadata": {
    "ExecuteTime": {
     "end_time": "2021-02-11T15:22:12.334623Z",
     "start_time": "2021-02-11T15:22:12.171326Z"
    }
   },
   "outputs": [],
   "source": [
    "fig = px.scatter(data_frame=df,\n",
    "                 x=\"total_bill\",\n",
    "                 y=\"tip\",\n",
    "                 color=\"time\",\n",
    "                 size=\"size\",\n",
    "                 marginal_y=\"violin\",\n",
    "                 marginal_x=\"box\")\n",
    "\n",
    "\n",
    "\n",
    "fig.show(renderer=\"notebook\")"
   ]
  },
  {
   "cell_type": "markdown",
   "metadata": {},
   "source": [
    "## Histogram"
   ]
  },
  {
   "cell_type": "code",
   "execution_count": null,
   "metadata": {
    "ExecuteTime": {
     "end_time": "2021-02-11T15:24:07.630068Z",
     "start_time": "2021-02-11T15:24:07.539185Z"
    }
   },
   "outputs": [],
   "source": [
    "fig = px.histogram(data_frame=df,\n",
    "                   x=\"total_bill\",\n",
    "                   nbins=20)\n",
    "\n",
    "\n",
    "fig.show(renderer=\"notebook\")"
   ]
  },
  {
   "cell_type": "code",
   "execution_count": null,
   "metadata": {
    "ExecuteTime": {
     "end_time": "2021-02-11T15:24:14.102704Z",
     "start_time": "2021-02-11T15:24:13.971694Z"
    }
   },
   "outputs": [],
   "source": [
    "fig = px.histogram(data_frame=df,\n",
    "                   x=\"total_bill\",\n",
    "                   color=\"sex\")\n",
    "\n",
    "\n",
    "fig.show(renderer=\"notebook\")"
   ]
  },
  {
   "cell_type": "markdown",
   "metadata": {},
   "source": [
    "## Pie Chart"
   ]
  },
  {
   "cell_type": "code",
   "execution_count": null,
   "metadata": {
    "ExecuteTime": {
     "end_time": "2021-02-11T15:24:43.426776Z",
     "start_time": "2021-02-11T15:24:43.339311Z"
    }
   },
   "outputs": [],
   "source": [
    "fig = px.pie(data_frame=df,\n",
    "             values=\"tip\",\n",
    "             names=\"day\")\n",
    "\n",
    "\n",
    "fig.show(renderer=\"notebook\")"
   ]
  },
  {
   "cell_type": "code",
   "execution_count": null,
   "metadata": {
    "ExecuteTime": {
     "end_time": "2021-02-11T15:25:18.990799Z",
     "start_time": "2021-02-11T15:25:18.911008Z"
    }
   },
   "outputs": [],
   "source": [
    "fig = px.pie(data_frame=df,\n",
    "             values=\"tip\",\n",
    "             names=\"day\",\n",
    "             hole=0.5)\n",
    "\n",
    "\n",
    "fig.show(renderer=\"notebook\")"
   ]
  },
  {
   "cell_type": "markdown",
   "metadata": {},
   "source": [
    "## Box Plot"
   ]
  },
  {
   "cell_type": "code",
   "execution_count": null,
   "metadata": {
    "ExecuteTime": {
     "end_time": "2021-02-11T15:26:11.516645Z",
     "start_time": "2021-02-11T15:26:11.423027Z"
    }
   },
   "outputs": [],
   "source": [
    "fig = px.box(data_frame=df, y=\"total_bill\")\n",
    "\n",
    "fig.show(renderer=\"notebook\")"
   ]
  },
  {
   "cell_type": "code",
   "execution_count": null,
   "metadata": {
    "ExecuteTime": {
     "end_time": "2021-02-11T15:26:50.303432Z",
     "start_time": "2021-02-11T15:26:50.225105Z"
    }
   },
   "outputs": [],
   "source": [
    "fig = px.box(data_frame=df, x=\"day\", y=\"total_bill\")\n",
    "\n",
    "fig.show(renderer=\"notebook\")"
   ]
  },
  {
   "cell_type": "code",
   "execution_count": null,
   "metadata": {
    "ExecuteTime": {
     "end_time": "2021-02-11T15:27:01.935785Z",
     "start_time": "2021-02-11T15:27:01.850842Z"
    }
   },
   "outputs": [],
   "source": [
    "fig = px.box(data_frame=df, x=\"day\", y=\"total_bill\", color=\"smoker\")\n",
    "\n",
    "fig.show(renderer=\"notebook\")"
   ]
  },
  {
   "cell_type": "markdown",
   "metadata": {},
   "source": [
    "## Violin Plot"
   ]
  },
  {
   "cell_type": "code",
   "execution_count": null,
   "metadata": {
    "ExecuteTime": {
     "end_time": "2021-02-11T15:27:26.973656Z",
     "start_time": "2021-02-11T15:27:26.875848Z"
    }
   },
   "outputs": [],
   "source": [
    "fig = px.violin(data_frame=df, y=\"total_bill\")\n",
    "\n",
    "fig.show(renderer=\"notebook\")"
   ]
  },
  {
   "cell_type": "code",
   "execution_count": null,
   "metadata": {
    "ExecuteTime": {
     "end_time": "2021-02-11T15:27:48.017475Z",
     "start_time": "2021-02-11T15:27:47.930147Z"
    }
   },
   "outputs": [],
   "source": [
    "fig = px.violin(data_frame=df,\n",
    "                x=\"smoker\",\n",
    "                y=\"tip\",\n",
    "                color=\"sex\",\n",
    "                box=True,\n",
    "                points=\"all\")\n",
    "\n",
    "\n",
    "\n",
    "fig.show(renderer=\"notebook\")"
   ]
  },
  {
   "cell_type": "markdown",
   "metadata": {},
   "source": [
    "## Parallel Category Diagram"
   ]
  },
  {
   "cell_type": "code",
   "execution_count": null,
   "metadata": {
    "ExecuteTime": {
     "end_time": "2021-02-11T15:44:10.034212Z",
     "start_time": "2021-02-11T15:44:10.011180Z"
    }
   },
   "outputs": [],
   "source": [
    "fig = px.parallel_categories(data_frame=df, dimensions=[\"sex\", \"smoker\", \"day\", \"time\"])\n",
    "\n",
    "fig.show(renderer=\"notebook\")"
   ]
  },
  {
   "cell_type": "markdown",
   "metadata": {},
   "source": [
    " "
   ]
  },
  {
   "cell_type": "markdown",
   "metadata": {},
   "source": [
    "## TreeMap"
   ]
  },
  {
   "cell_type": "code",
   "execution_count": null,
   "metadata": {
    "ExecuteTime": {
     "end_time": "2021-02-11T15:34:18.999501Z",
     "start_time": "2021-02-11T15:34:18.965924Z"
    }
   },
   "outputs": [],
   "source": [
    "df = px.data.gapminder().query(\"year == 2007\")\n",
    "\n",
    "df.head()"
   ]
  },
  {
   "cell_type": "code",
   "execution_count": null,
   "metadata": {
    "ExecuteTime": {
     "end_time": "2021-02-11T15:34:50.965727Z",
     "start_time": "2021-02-11T15:34:50.769307Z"
    }
   },
   "outputs": [],
   "source": [
    "fig = px.treemap(data_frame=df,\n",
    "                 path=[px.Constant(\"world\"), \"continent\", \"country\"],\n",
    "                 values=\"pop\",\n",
    "                 color=\"lifeExp\")\n",
    "\n",
    "\n",
    "\n",
    "fig.show(renderer=\"notebook\")"
   ]
  },
  {
   "cell_type": "markdown",
   "metadata": {},
   "source": [
    "## Map"
   ]
  },
  {
   "cell_type": "code",
   "execution_count": null,
   "metadata": {
    "ExecuteTime": {
     "end_time": "2021-02-11T15:36:06.194633Z",
     "start_time": "2021-02-11T15:36:06.182876Z"
    }
   },
   "outputs": [],
   "source": [
    "df = px.data.carshare()\n",
    "\n",
    "\n",
    "df"
   ]
  },
  {
   "cell_type": "code",
   "execution_count": null,
   "metadata": {
    "ExecuteTime": {
     "end_time": "2021-02-11T15:36:18.576460Z",
     "start_time": "2021-02-11T15:36:18.493388Z"
    }
   },
   "outputs": [],
   "source": [
    "fig = px.scatter_mapbox(data_frame=df,\n",
    "                        lat=\"centroid_lat\",\n",
    "                        lon=\"centroid_lon\",\n",
    "                        color=\"peak_hour\",\n",
    "                        size=\"car_hours\",\n",
    "                        color_continuous_scale=px.colors.cyclical.IceFire,\n",
    "                        size_max=15,\n",
    "                        zoom=10,\n",
    "                        mapbox_style=\"carto-positron\")\n",
    "\n",
    "\n",
    "\n",
    "\n",
    "fig.show(renderer=\"notebook\")"
   ]
  },
  {
   "cell_type": "markdown",
   "metadata": {},
   "source": [
    "## Animations"
   ]
  },
  {
   "cell_type": "code",
   "execution_count": null,
   "metadata": {
    "ExecuteTime": {
     "end_time": "2021-02-11T15:41:37.121137Z",
     "start_time": "2021-02-11T15:41:37.096864Z"
    }
   },
   "outputs": [],
   "source": [
    "df = px.data.gapminder()\n",
    "\n",
    "df"
   ]
  },
  {
   "cell_type": "code",
   "execution_count": null,
   "metadata": {
    "ExecuteTime": {
     "end_time": "2021-02-11T15:41:41.882571Z",
     "start_time": "2021-02-11T15:41:41.582730Z"
    }
   },
   "outputs": [],
   "source": [
    "fig = px.scatter(data_frame=df,\n",
    "                 x=\"gdpPercap\",\n",
    "                 y=\"lifeExp\",\n",
    "                 color=\"continent\",\n",
    "                 size=\"pop\",\n",
    "                 size_max=60,\n",
    "                 hover_name=\"country\",\n",
    "                 animation_frame=\"year\",\n",
    "                 animation_group=\"country\",\n",
    "                 log_x = True,\n",
    "                 range_x = [100, 100000],\n",
    "                 range_y = [25, 90], \n",
    "                 labels={\"gdpPercap\": \"GDP Per Capita\", \"lifeExp\": \"Life Expectancy\", \"pop\": \"Population\"})\n",
    "\n",
    "\n",
    "fig.show(renderer=\"notebook\")"
   ]
  },
  {
   "cell_type": "code",
   "execution_count": null,
   "metadata": {
    "ExecuteTime": {
     "end_time": "2021-02-11T15:43:20.960803Z",
     "start_time": "2021-02-11T15:43:20.857616Z"
    }
   },
   "outputs": [],
   "source": [
    "fig = px.choropleth(data_frame=df,\n",
    "                    locations=\"iso_alpha\",\n",
    "                    color=\"lifeExp\",\n",
    "                    hover_name=\"country\",\n",
    "                    animation_frame=\"year\",\n",
    "                    color_continuous_scale = px.colors.sequential.Viridis,\n",
    "                    projection=\"natural earth\",\n",
    "                    labels={\"lifeExp\": \"Life Expectancy\"})\n",
    "\n",
    "\n",
    "\n",
    "\n",
    "fig.show(renderer=\"notebook\")"
   ]
  },
  {
   "cell_type": "markdown",
   "metadata": {},
   "source": [
    "# Summary\n",
    "\n",
    "---\n",
    "\n",
    "In this notebook we've covered interactive visualizations. Particularly, we saw how `Plotly-Express` makes it easy to plot complex visualizations with minimal coding required. On the other hand, `Plotly` is even more powerful, but requires more coding. The decision is up to you, which one to use.\n",
    "\n",
    "\n",
    "$$\n",
    "$$\n",
    "\n",
    "\n",
    "> Plotly ecosystem contains one more library - famous and magnificent [`Dash`](https://plotly.com/dash/) for enterprise level dashboard applications."
   ]
  }
 ],
 "metadata": {
  "kernelspec": {
   "display_name": "('learning': conda)",
   "language": "python",
   "name": "python37764bitlearningcondadead39b8b5cb441aa05edba06d4d913f"
  },
  "language_info": {
   "codemirror_mode": {
    "name": "ipython",
    "version": 3
   },
   "file_extension": ".py",
   "mimetype": "text/x-python",
   "name": "python",
   "nbconvert_exporter": "python",
   "pygments_lexer": "ipython3",
   "version": "3.7.7"
  },
  "varInspector": {
   "cols": {
    "lenName": 16,
    "lenType": 16,
    "lenVar": 40
   },
   "kernels_config": {
    "python": {
     "delete_cmd_postfix": "",
     "delete_cmd_prefix": "del ",
     "library": "var_list.py",
     "varRefreshCmd": "print(var_dic_list())"
    },
    "r": {
     "delete_cmd_postfix": ") ",
     "delete_cmd_prefix": "rm(",
     "library": "var_list.r",
     "varRefreshCmd": "cat(var_dic_list()) "
    }
   },
   "types_to_exclude": [
    "module",
    "function",
    "builtin_function_or_method",
    "instance",
    "_Feature"
   ],
   "window_display": false
  }
 },
 "nbformat": 4,
 "nbformat_minor": 4
}
