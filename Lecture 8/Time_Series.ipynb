{
 "cells": [
  {
   "cell_type": "markdown",
   "metadata": {},
   "source": [
    "# Time Series\n",
    "\n",
    "---\n",
    "\n",
    "Time series data is an important form of structured data in many different fields, such as finance, economics, ecology, neuroscience, and physics. Anything that is observed or measured at many points in time forms a `Time Series`. Many time series are fixed frequency. However we may have time series with irregular frequency. **We will not deal with irregular frequency time series**.\n",
    "\n",
    "In today's lecture, where we'll be looking at the time series and date functionally in Pandas. Manipulating dates and time is quite flexible in Pandas and thus allows us to conduct more analysis. Actually, Pandas was originally created by Wes McKinney to handle date and time data when he worked as a consultant for hedge funds.\n",
    "\n",
    "\n",
    "### Lecture outline\n",
    "\n",
    "---\n",
    "\n",
    "* Date and Time data types\n",
    "\n",
    "\n",
    "* Dealing with Datetime Objects\n",
    "\n",
    "\n",
    "* Indexing, Selection, Sub-setting\n",
    "\n",
    "\n",
    "* Periods and Period Arithmetic\n",
    "\n",
    "\n",
    "* Date and Time Conversion\n",
    "\n",
    "\n",
    "* Time Shifting\n",
    "\n",
    "\n",
    "* Resampling\n",
    "\n",
    "\n",
    "* Moving Window Functions"
   ]
  },
  {
   "cell_type": "markdown",
   "metadata": {},
   "source": [
    "#### Reference\n",
    "\n",
    "\n",
    "[Timeseries](https://pandas.pydata.org/pandas-docs/stable/user_guide/cookbook.html#timeseries)\n",
    "\n",
    "\n",
    "[Time series / date functionality](https://pandas.pydata.org/pandas-docs/stable/user_guide/timeseries.html)\n",
    "\n",
    "\n",
    "[Time deltas](https://pandas.pydata.org/pandas-docs/stable/user_guide/timedeltas.html)\n",
    "\n",
    "\n",
    "[Windowing Operations](https://pandas.pydata.org/pandas-docs/stable/user_guide/window.html)\n",
    "\n",
    "\n",
    "[datetime — Basic date and time types](https://docs.python.org/3/library/datetime.html)\n",
    "\n",
    "\n",
    "[Python Datetime](https://www.w3schools.com/python/python_datetime.asp)"
   ]
  },
  {
   "cell_type": "code",
   "execution_count": 1,
   "metadata": {
    "ExecuteTime": {
     "end_time": "2021-02-13T08:19:43.871260Z",
     "start_time": "2021-02-13T08:19:43.588859Z"
    }
   },
   "outputs": [],
   "source": [
    "import pandas as pd\n",
    "\n",
    "import numpy as np\n",
    "\n",
    "import datetime"
   ]
  },
  {
   "cell_type": "markdown",
   "metadata": {},
   "source": [
    "## Date and Time data types\n",
    "\n",
    "---\n",
    "\n",
    "Pandas has four main time related classes:\n",
    "\n",
    "* `Timestamp`\n",
    "\n",
    "\n",
    "* `DatetimeIndex`\n",
    "\n",
    "\n",
    "* `Period`\n",
    "\n",
    "\n",
    "* `PeriodIndex`\n",
    "\n",
    "\n",
    "Before we investigate what are those time classes, we have to know what is `datetime` object at all."
   ]
  },
  {
   "cell_type": "markdown",
   "metadata": {},
   "source": [
    "### datetime\n",
    "\n",
    "---\n",
    "\n",
    "Python has builtin module `Datetime` to work with date and time objects. Data and time are objects containing date and time specific characteristics and when we manipulate them, we manipulate objects and not strings.\n",
    "\n",
    "\n",
    "`datetime` module consists of the following type:\n",
    "\n",
    "\n",
    "* `date` - Store calendar date (year, month, day) using the Gregorian calendar\n",
    "\n",
    "\n",
    "* `time` - Store time of day as hours, minutes, seconds, and microseconds\n",
    "\n",
    "\n",
    "* `datetime` - Stores both date and time\n",
    "\n",
    "\n",
    "* `timedelta` - Represents the difference between two datetime values (as days, seconds, and microseconds)\n",
    "\n",
    "\n",
    "* `tzinfo` - Base type for storing time zone information"
   ]
  },
  {
   "cell_type": "code",
   "execution_count": 6,
   "metadata": {
    "ExecuteTime": {
     "end_time": "2021-02-13T08:23:53.932226Z",
     "start_time": "2021-02-13T08:23:53.928111Z"
    }
   },
   "outputs": [
    {
     "data": {
      "text/plain": [
       "datetime.datetime(2021, 2, 13, 12, 23, 53, 929280)"
      ]
     },
     "execution_count": 6,
     "metadata": {},
     "output_type": "execute_result"
    }
   ],
   "source": [
    "now = datetime.datetime.now()\n",
    "\n",
    "now"
   ]
  },
  {
   "cell_type": "code",
   "execution_count": 7,
   "metadata": {
    "ExecuteTime": {
     "end_time": "2021-02-13T08:24:02.949271Z",
     "start_time": "2021-02-13T08:24:02.945721Z"
    }
   },
   "outputs": [
    {
     "data": {
      "text/plain": [
       "datetime.datetime"
      ]
     },
     "execution_count": 7,
     "metadata": {},
     "output_type": "execute_result"
    }
   ],
   "source": [
    "type(now) # datetime object"
   ]
  },
  {
   "cell_type": "markdown",
   "metadata": {},
   "source": [
    "We can extract those different characteristics from datetime object by using appropriate methods or attributes."
   ]
  },
  {
   "cell_type": "code",
   "execution_count": 11,
   "metadata": {
    "ExecuteTime": {
     "end_time": "2021-02-13T08:25:33.584655Z",
     "start_time": "2021-02-13T08:25:33.572729Z"
    }
   },
   "outputs": [
    {
     "data": {
      "text/plain": [
       "929280"
      ]
     },
     "execution_count": 11,
     "metadata": {},
     "output_type": "execute_result"
    }
   ],
   "source": [
    "now.date() # Extract data\n",
    "\n",
    "now.time() # Extract time\n",
    "\n",
    "now.year # Extract year\n",
    "\n",
    "now.month # Extract month\n",
    "\n",
    "now.day # Extract day\n",
    "\n",
    "now.hour # Extract hour\n",
    "\n",
    "now.minute # Extract minute\n",
    "\n",
    "now.second # Extract second\n",
    "\n",
    "now.microsecond # Extract microsecond"
   ]
  },
  {
   "cell_type": "code",
   "execution_count": 12,
   "metadata": {
    "ExecuteTime": {
     "end_time": "2021-02-13T08:25:59.952236Z",
     "start_time": "2021-02-13T08:25:59.947932Z"
    }
   },
   "outputs": [
    {
     "data": {
      "text/plain": [
       "(53, 929280)"
      ]
     },
     "execution_count": 12,
     "metadata": {},
     "output_type": "execute_result"
    }
   ],
   "source": [
    "(now.second, now.microsecond)"
   ]
  },
  {
   "cell_type": "markdown",
   "metadata": {},
   "source": [
    "### Timestamp\n",
    "\n",
    "---\n",
    "\n",
    "`Timestamp` represents a single timestamp and associates values with points in time. In other words, it's a specific instants in time.\n",
    "\n",
    "\n",
    "For example, let's create a timestamp using a string `1/5/2021 10:05AM`, and here we have our timestamp.\n",
    "Timestamp is interchangeable with Python's `datetime` in most cases."
   ]
  },
  {
   "cell_type": "code",
   "execution_count": 21,
   "metadata": {
    "ExecuteTime": {
     "end_time": "2021-02-13T08:29:40.012275Z",
     "start_time": "2021-02-13T08:29:40.006718Z"
    }
   },
   "outputs": [
    {
     "data": {
      "text/plain": [
       "Timestamp('2021-01-05 10:05:55')"
      ]
     },
     "execution_count": 21,
     "metadata": {},
     "output_type": "execute_result"
    }
   ],
   "source": [
    "pd.Timestamp('1/5/2021 10:05:55AM')"
   ]
  },
  {
   "cell_type": "markdown",
   "metadata": {},
   "source": [
    "We can also create a timestamp by passing multiple parameters such as year, month, date, hour, minute, separately."
   ]
  },
  {
   "cell_type": "code",
   "execution_count": 22,
   "metadata": {
    "ExecuteTime": {
     "end_time": "2021-02-13T08:29:53.476381Z",
     "start_time": "2021-02-13T08:29:53.472220Z"
    }
   },
   "outputs": [
    {
     "data": {
      "text/plain": [
       "Timestamp('2021-01-05 10:15:00')"
      ]
     },
     "execution_count": 22,
     "metadata": {},
     "output_type": "execute_result"
    }
   ],
   "source": [
    "pd.Timestamp(2021, 1, 5, 10, 15)"
   ]
  },
  {
   "cell_type": "code",
   "execution_count": 23,
   "metadata": {
    "ExecuteTime": {
     "end_time": "2021-02-13T08:31:10.163652Z",
     "start_time": "2021-02-13T08:31:10.159800Z"
    }
   },
   "outputs": [
    {
     "data": {
      "text/plain": [
       "2"
      ]
     },
     "execution_count": 23,
     "metadata": {},
     "output_type": "execute_result"
    }
   ],
   "source": [
    "pd.Timestamp(2021, 1, 5, 10, 15).isoweekday() # Return the day of the week represented by the date. Monday == 1 … Sunday == 7"
   ]
  },
  {
   "cell_type": "markdown",
   "metadata": {},
   "source": [
    "As it was in case of Python's builtin `datetime` module, we can extract different parts of timestamp object by using appropriate methods and/or attributes"
   ]
  },
  {
   "cell_type": "code",
   "execution_count": 24,
   "metadata": {
    "ExecuteTime": {
     "end_time": "2021-02-13T08:33:54.099427Z",
     "start_time": "2021-02-13T08:33:54.095184Z"
    }
   },
   "outputs": [
    {
     "data": {
      "text/plain": [
       "Timestamp('2021-01-05 10:15:23.000158450')"
      ]
     },
     "execution_count": 24,
     "metadata": {},
     "output_type": "execute_result"
    }
   ],
   "source": [
    "single_timestamp = pd.Timestamp(2021, 1, 5, 10, 15, 23, 154, 4450)\n",
    "\n",
    "single_timestamp"
   ]
  },
  {
   "cell_type": "code",
   "execution_count": 33,
   "metadata": {
    "ExecuteTime": {
     "end_time": "2021-02-13T08:36:45.874407Z",
     "start_time": "2021-02-13T08:36:45.870528Z"
    }
   },
   "outputs": [
    {
     "data": {
      "text/plain": [
       "4450"
      ]
     },
     "execution_count": 33,
     "metadata": {},
     "output_type": "execute_result"
    }
   ],
   "source": [
    "single_timestamp.date() # Extract date\n",
    "\n",
    "single_timestamp.time() # Extract time\n",
    "\n",
    "single_timestamp.year # Extract year\n",
    "\n",
    "single_timestamp.month # Extract month as a number January == 1...December == 12\n",
    "\n",
    "single_timestamp.month_name() # Return actual name of the month\n",
    "\n",
    "single_timestamp.week # Return week number\n",
    "\n",
    "single_timestamp.weekday() # Return weekday as a number Monday == 0 … Sunday == 6\n",
    "\n",
    "single_timestamp.day_name() # Return actual name of the weekday\n",
    "\n",
    "single_timestamp.hour # Extract hour\n",
    "\n",
    "single_timestamp.minute # Extract minute\n",
    "\n",
    "single_timestamp.second # Extract second\n",
    "\n",
    "single_timestamp.microsecond # Extract microsecond\n",
    "\n",
    "single_timestamp.nanosecond # Extract nanosecond"
   ]
  },
  {
   "cell_type": "markdown",
   "metadata": {},
   "source": [
    "### Period\n",
    "\n",
    "---\n",
    "\n",
    "If we are interested in a span of a time, we have to use the `Period` object instead of datetime or anything else. `Period` represents fixed period of time. For example: January 2021, etc."
   ]
  },
  {
   "cell_type": "code",
   "execution_count": 34,
   "metadata": {
    "ExecuteTime": {
     "end_time": "2021-02-13T08:39:14.298584Z",
     "start_time": "2021-02-13T08:39:14.290190Z"
    }
   },
   "outputs": [
    {
     "data": {
      "text/plain": [
       "Period('2021-01', 'M')"
      ]
     },
     "execution_count": 34,
     "metadata": {},
     "output_type": "execute_result"
    }
   ],
   "source": [
    "pd.Period(value=\"1/2021\", freq=\"M\") # A period object, that is January 2021,"
   ]
  },
  {
   "cell_type": "code",
   "execution_count": 35,
   "metadata": {
    "ExecuteTime": {
     "end_time": "2021-02-13T08:39:36.813111Z",
     "start_time": "2021-02-13T08:39:36.808619Z"
    }
   },
   "outputs": [
    {
     "data": {
      "text/plain": [
       "Period('2021-01-05', 'D')"
      ]
     },
     "execution_count": 35,
     "metadata": {},
     "output_type": "execute_result"
    }
   ],
   "source": [
    "pd.Period(value='1/5/2021', freq=\"D\") # More granular period object - January 5th, 2021"
   ]
  },
  {
   "cell_type": "markdown",
   "metadata": {},
   "source": [
    " "
   ]
  },
  {
   "cell_type": "markdown",
   "metadata": {},
   "source": [
    "<div class=\"alert alert-info\">\n",
    "\n",
    "**Note:** We can extract date and time characteristics from a `Period` object as we did in case of `Timestamp`\n",
    "    \n",
    "\n",
    "> [**pandas.Period**](https://pandas.pydata.org/pandas-docs/stable/reference/api/pandas.Period.html)\n",
    "\n",
    "</div>"
   ]
  },
  {
   "cell_type": "markdown",
   "metadata": {},
   "source": [
    "### DatetimeIndex and PeriodIndex\n",
    "\n",
    "---\n",
    "\n",
    "The `PeriodIndex` class stores a sequence of `Periods` and can serve as an axis index in any Pandas data structure. The `DatetimeIndex` class stores sequence of `Datetime` and it also can serve as an index for an axis.\n",
    "\n",
    "\n",
    "\n",
    "[pandas.DatetimeIndex](https://pandas.pydata.org/docs/reference/api/pandas.DatetimeIndex.html)\n",
    "\n",
    "\n",
    "[pandas.PeriodIndex](https://pandas.pydata.org/pandas-docs/stable/reference/api/pandas.PeriodIndex.html)"
   ]
  },
  {
   "cell_type": "markdown",
   "metadata": {},
   "source": [
    "The index of a Timestamp is `DatetimeIndex`. When we look at the series, each Timestamp is the index and has a value associated with it, in this case, `a`, `b`, `c`, `d`, and `e`."
   ]
  },
  {
   "cell_type": "code",
   "execution_count": 36,
   "metadata": {
    "ExecuteTime": {
     "end_time": "2021-02-13T08:40:40.701002Z",
     "start_time": "2021-02-13T08:40:40.691217Z"
    }
   },
   "outputs": [
    {
     "data": {
      "text/plain": [
       "2021-01-05    a\n",
       "2021-01-06    b\n",
       "2021-01-07    c\n",
       "2021-01-08    d\n",
       "2021-01-09    e\n",
       "dtype: object"
      ]
     },
     "execution_count": 36,
     "metadata": {},
     "output_type": "execute_result"
    }
   ],
   "source": [
    "t1 = pd.Series(list(\"abcde\"), [pd.Timestamp('2021-01-05'),\n",
    "                               pd.Timestamp('2021-01-06'),\n",
    "                               pd.Timestamp('2021-01-07'),\n",
    "                               pd.Timestamp('2021-01-08'),\n",
    "                               pd.Timestamp('2021-01-09')])\n",
    "\n",
    "\n",
    "t1"
   ]
  },
  {
   "cell_type": "code",
   "execution_count": 37,
   "metadata": {
    "ExecuteTime": {
     "end_time": "2021-02-13T08:41:03.299463Z",
     "start_time": "2021-02-13T08:41:03.295143Z"
    }
   },
   "outputs": [
    {
     "data": {
      "text/plain": [
       "DatetimeIndex(['2021-01-05', '2021-01-06', '2021-01-07', '2021-01-08',\n",
       "               '2021-01-09'],\n",
       "              dtype='datetime64[ns]', freq=None)"
      ]
     },
     "execution_count": 37,
     "metadata": {},
     "output_type": "execute_result"
    }
   ],
   "source": [
    "t1.index"
   ]
  },
  {
   "cell_type": "code",
   "execution_count": 38,
   "metadata": {
    "ExecuteTime": {
     "end_time": "2021-02-13T08:41:27.920728Z",
     "start_time": "2021-02-13T08:41:27.918150Z"
    }
   },
   "outputs": [
    {
     "data": {
      "text/plain": [
       "pandas.core.indexes.datetimes.DatetimeIndex"
      ]
     },
     "execution_count": 38,
     "metadata": {},
     "output_type": "execute_result"
    }
   ],
   "source": [
    "type(t1.index) # Looking at the type of our series index, we see that it's DatetimeIndex"
   ]
  },
  {
   "cell_type": "markdown",
   "metadata": {},
   "source": [
    "Similarly, we can create a `Period-based` index as well."
   ]
  },
  {
   "cell_type": "code",
   "execution_count": 39,
   "metadata": {
    "ExecuteTime": {
     "end_time": "2021-02-13T08:41:51.711194Z",
     "start_time": "2021-02-13T08:41:51.704664Z"
    }
   },
   "outputs": [
    {
     "data": {
      "text/plain": [
       "2021-01    a\n",
       "2021-02    b\n",
       "2021-03    c\n",
       "2021-04    d\n",
       "2021-05    e\n",
       "Freq: M, dtype: object"
      ]
     },
     "execution_count": 39,
     "metadata": {},
     "output_type": "execute_result"
    }
   ],
   "source": [
    "t2 = pd.Series(list(\"abcde\"), [pd.Period('2021-01'),\n",
    "                               pd.Period('2021-02'),\n",
    "                               pd.Period('2021-03'),\n",
    "                               pd.Period('2021-04'),\n",
    "                               pd.Period('2021-05')])\n",
    "\n",
    "\n",
    "\n",
    "t2"
   ]
  },
  {
   "cell_type": "code",
   "execution_count": 40,
   "metadata": {
    "ExecuteTime": {
     "end_time": "2021-02-13T08:41:59.839775Z",
     "start_time": "2021-02-13T08:41:59.836537Z"
    }
   },
   "outputs": [
    {
     "data": {
      "text/plain": [
       "PeriodIndex(['2021-01', '2021-02', '2021-03', '2021-04', '2021-05'], dtype='period[M]', freq='M')"
      ]
     },
     "execution_count": 40,
     "metadata": {},
     "output_type": "execute_result"
    }
   ],
   "source": [
    "t2.index"
   ]
  },
  {
   "cell_type": "code",
   "execution_count": 41,
   "metadata": {
    "ExecuteTime": {
     "end_time": "2021-02-13T08:42:02.770320Z",
     "start_time": "2021-02-13T08:42:02.764874Z"
    }
   },
   "outputs": [
    {
     "data": {
      "text/plain": [
       "pandas.core.indexes.period.PeriodIndex"
      ]
     },
     "execution_count": 41,
     "metadata": {},
     "output_type": "execute_result"
    }
   ],
   "source": [
    "type(t2.index) # Looking at the type of the ts2.index, we can see that it's PeriodIndex."
   ]
  },
  {
   "cell_type": "markdown",
   "metadata": {},
   "source": [
    "### Timedelta\n",
    "\n",
    "---\n",
    "\n",
    "Timedeltas are differences in times, expressed in difference units, e.g. days, hours, minutes, seconds. They can be both positive and negative. This is not the same as a a period, but conceptually similar. For instance, if we want to take the difference between January 11th and  January 10th, we get a Timedelta of one days."
   ]
  },
  {
   "cell_type": "code",
   "execution_count": 42,
   "metadata": {
    "ExecuteTime": {
     "end_time": "2021-02-13T08:43:40.205602Z",
     "start_time": "2021-02-13T08:43:40.200957Z"
    }
   },
   "outputs": [
    {
     "data": {
      "text/plain": [
       "Timedelta('1 days 00:00:00')"
      ]
     },
     "execution_count": 42,
     "metadata": {},
     "output_type": "execute_result"
    }
   ],
   "source": [
    "pd.Timestamp('01/11/2021') - pd.Timestamp('01/10/2021')"
   ]
  },
  {
   "cell_type": "markdown",
   "metadata": {},
   "source": [
    "We can also find what the date and time is for 12 days and 3 hours past January 2nd, at 8:10 AM."
   ]
  },
  {
   "cell_type": "code",
   "execution_count": 44,
   "metadata": {
    "ExecuteTime": {
     "end_time": "2021-02-13T08:45:22.979962Z",
     "start_time": "2021-02-13T08:45:22.975844Z"
    }
   },
   "outputs": [
    {
     "data": {
      "text/plain": [
       "Timestamp('2021-01-02 11:10:00')"
      ]
     },
     "execution_count": 44,
     "metadata": {},
     "output_type": "execute_result"
    }
   ],
   "source": [
    "pd.Timestamp('01/2/2021 8:10AM') + pd.Timedelta('12D 3H')"
   ]
  },
  {
   "cell_type": "markdown",
   "metadata": {},
   "source": [
    "## Dealing with Datetime Objects\n",
    "\n",
    "---\n",
    "\n",
    "Next, let's look at a few tricks for working with dates in a DataFrame. Suppose we want to look at nine measurements, taken bi-weekly, every Sunday, starting in October 2020. Using `date_range()` method, we can create this DatetimeIndex. In `data_range()`, we have to either specify the `start` or `end` date. If it is not explicitly specified, by default, the date is considered the start date. Then we have to specify the number of periods, and a frequency. Here, we set it to `2W-SUN`, which means biweekly on Sunday."
   ]
  },
  {
   "cell_type": "code",
   "execution_count": 45,
   "metadata": {
    "ExecuteTime": {
     "end_time": "2021-02-13T08:46:34.516084Z",
     "start_time": "2021-02-13T08:46:34.510453Z"
    }
   },
   "outputs": [
    {
     "data": {
      "text/plain": [
       "DatetimeIndex(['2020-10-04', '2020-10-18', '2020-11-01', '2020-11-15',\n",
       "               '2020-11-29', '2020-12-13', '2020-12-27', '2021-01-10',\n",
       "               '2021-01-24'],\n",
       "              dtype='datetime64[ns]', freq='2W-SUN')"
      ]
     },
     "execution_count": 45,
     "metadata": {},
     "output_type": "execute_result"
    }
   ],
   "source": [
    "dates = pd.date_range(start=\"10-01-2020\", periods=9, freq=\"2W-SUN\")\n",
    "\n",
    "\n",
    "dates"
   ]
  },
  {
   "cell_type": "markdown",
   "metadata": {},
   "source": [
    "There are many other frequencies that you can specify. For example, you can do business day."
   ]
  },
  {
   "cell_type": "code",
   "execution_count": 46,
   "metadata": {
    "ExecuteTime": {
     "end_time": "2021-02-13T08:47:32.428599Z",
     "start_time": "2021-02-13T08:47:32.425475Z"
    }
   },
   "outputs": [
    {
     "data": {
      "text/plain": [
       "DatetimeIndex(['2020-10-01', '2020-10-02', '2020-10-05', '2020-10-06',\n",
       "               '2020-10-07', '2020-10-08', '2020-10-09', '2020-10-12',\n",
       "               '2020-10-13'],\n",
       "              dtype='datetime64[ns]', freq='B')"
      ]
     },
     "execution_count": 46,
     "metadata": {},
     "output_type": "execute_result"
    }
   ],
   "source": [
    "pd.date_range(start=\"10-01-2020\", periods=9, freq=\"B\")"
   ]
  },
  {
   "cell_type": "markdown",
   "metadata": {},
   "source": [
    "We can do quarterly as well, with the quarter start in June"
   ]
  },
  {
   "cell_type": "code",
   "execution_count": 47,
   "metadata": {
    "ExecuteTime": {
     "end_time": "2021-02-13T08:48:10.305298Z",
     "start_time": "2021-02-13T08:48:10.299169Z"
    }
   },
   "outputs": [
    {
     "data": {
      "text/plain": [
       "DatetimeIndex(['2020-06-01', '2020-09-01', '2020-12-01', '2021-03-01',\n",
       "               '2021-06-01', '2021-09-01', '2021-12-01', '2022-03-01',\n",
       "               '2022-06-01', '2022-09-01', '2022-12-01', '2023-03-01'],\n",
       "              dtype='datetime64[ns]', freq='QS-JUN')"
      ]
     },
     "execution_count": 47,
     "metadata": {},
     "output_type": "execute_result"
    }
   ],
   "source": [
    "pd.date_range(start=\"04-01-2020\", periods=12, freq=\"QS-JUN\")"
   ]
  },
  {
   "cell_type": "markdown",
   "metadata": {},
   "source": [
    "Now, let's go back to our weekly on Sunday example and create a DataFrame using these dates, and some random data, and see what we can do with it."
   ]
  },
  {
   "cell_type": "code",
   "execution_count": 48,
   "metadata": {
    "ExecuteTime": {
     "end_time": "2021-02-13T08:48:18.344178Z",
     "start_time": "2021-02-13T08:48:18.340850Z"
    }
   },
   "outputs": [
    {
     "data": {
      "text/plain": [
       "DatetimeIndex(['2020-10-04', '2020-10-18', '2020-11-01', '2020-11-15',\n",
       "               '2020-11-29', '2020-12-13', '2020-12-27', '2021-01-10',\n",
       "               '2021-01-24'],\n",
       "              dtype='datetime64[ns]', freq='2W-SUN')"
      ]
     },
     "execution_count": 48,
     "metadata": {},
     "output_type": "execute_result"
    }
   ],
   "source": [
    "dates"
   ]
  },
  {
   "cell_type": "code",
   "execution_count": 49,
   "metadata": {
    "ExecuteTime": {
     "end_time": "2021-02-13T08:49:20.842317Z",
     "start_time": "2021-02-13T08:49:20.827559Z"
    }
   },
   "outputs": [
    {
     "data": {
      "text/html": [
       "<div>\n",
       "<style scoped>\n",
       "    .dataframe tbody tr th:only-of-type {\n",
       "        vertical-align: middle;\n",
       "    }\n",
       "\n",
       "    .dataframe tbody tr th {\n",
       "        vertical-align: top;\n",
       "    }\n",
       "\n",
       "    .dataframe thead th {\n",
       "        text-align: right;\n",
       "    }\n",
       "</style>\n",
       "<table border=\"1\" class=\"dataframe\">\n",
       "  <thead>\n",
       "    <tr style=\"text-align: right;\">\n",
       "      <th></th>\n",
       "      <th>count_1</th>\n",
       "      <th>count_2</th>\n",
       "    </tr>\n",
       "  </thead>\n",
       "  <tbody>\n",
       "    <tr>\n",
       "      <th>2020-10-11</th>\n",
       "      <td>3</td>\n",
       "      <td>1</td>\n",
       "    </tr>\n",
       "    <tr>\n",
       "      <th>2020-10-25</th>\n",
       "      <td>1</td>\n",
       "      <td>7</td>\n",
       "    </tr>\n",
       "    <tr>\n",
       "      <th>2020-11-08</th>\n",
       "      <td>3</td>\n",
       "      <td>5</td>\n",
       "    </tr>\n",
       "    <tr>\n",
       "      <th>2020-11-22</th>\n",
       "      <td>4</td>\n",
       "      <td>6</td>\n",
       "    </tr>\n",
       "    <tr>\n",
       "      <th>2020-12-06</th>\n",
       "      <td>8</td>\n",
       "      <td>1</td>\n",
       "    </tr>\n",
       "    <tr>\n",
       "      <th>2020-12-20</th>\n",
       "      <td>5</td>\n",
       "      <td>2</td>\n",
       "    </tr>\n",
       "    <tr>\n",
       "      <th>2021-01-03</th>\n",
       "      <td>8</td>\n",
       "      <td>9</td>\n",
       "    </tr>\n",
       "    <tr>\n",
       "      <th>2021-01-17</th>\n",
       "      <td>5</td>\n",
       "      <td>5</td>\n",
       "    </tr>\n",
       "    <tr>\n",
       "      <th>2021-01-31</th>\n",
       "      <td>5</td>\n",
       "      <td>5</td>\n",
       "    </tr>\n",
       "    <tr>\n",
       "      <th>2021-02-14</th>\n",
       "      <td>8</td>\n",
       "      <td>9</td>\n",
       "    </tr>\n",
       "    <tr>\n",
       "      <th>2021-02-28</th>\n",
       "      <td>8</td>\n",
       "      <td>3</td>\n",
       "    </tr>\n",
       "    <tr>\n",
       "      <th>2021-03-14</th>\n",
       "      <td>1</td>\n",
       "      <td>3</td>\n",
       "    </tr>\n",
       "    <tr>\n",
       "      <th>2021-03-28</th>\n",
       "      <td>5</td>\n",
       "      <td>7</td>\n",
       "    </tr>\n",
       "    <tr>\n",
       "      <th>2021-04-11</th>\n",
       "      <td>3</td>\n",
       "      <td>1</td>\n",
       "    </tr>\n",
       "    <tr>\n",
       "      <th>2021-04-25</th>\n",
       "      <td>2</td>\n",
       "      <td>3</td>\n",
       "    </tr>\n",
       "    <tr>\n",
       "      <th>2021-05-09</th>\n",
       "      <td>5</td>\n",
       "      <td>2</td>\n",
       "    </tr>\n",
       "    <tr>\n",
       "      <th>2021-05-23</th>\n",
       "      <td>2</td>\n",
       "      <td>8</td>\n",
       "    </tr>\n",
       "    <tr>\n",
       "      <th>2021-06-06</th>\n",
       "      <td>6</td>\n",
       "      <td>3</td>\n",
       "    </tr>\n",
       "    <tr>\n",
       "      <th>2021-06-20</th>\n",
       "      <td>1</td>\n",
       "      <td>8</td>\n",
       "    </tr>\n",
       "    <tr>\n",
       "      <th>2021-07-04</th>\n",
       "      <td>7</td>\n",
       "      <td>7</td>\n",
       "    </tr>\n",
       "  </tbody>\n",
       "</table>\n",
       "</div>"
      ],
      "text/plain": [
       "            count_1  count_2\n",
       "2020-10-11        3        1\n",
       "2020-10-25        1        7\n",
       "2020-11-08        3        5\n",
       "2020-11-22        4        6\n",
       "2020-12-06        8        1\n",
       "2020-12-20        5        2\n",
       "2021-01-03        8        9\n",
       "2021-01-17        5        5\n",
       "2021-01-31        5        5\n",
       "2021-02-14        8        9\n",
       "2021-02-28        8        3\n",
       "2021-03-14        1        3\n",
       "2021-03-28        5        7\n",
       "2021-04-11        3        1\n",
       "2021-04-25        2        3\n",
       "2021-05-09        5        2\n",
       "2021-05-23        2        8\n",
       "2021-06-06        6        3\n",
       "2021-06-20        1        8\n",
       "2021-07-04        7        7"
      ]
     },
     "execution_count": 49,
     "metadata": {},
     "output_type": "execute_result"
    }
   ],
   "source": [
    "np.random.seed(425)\n",
    "\n",
    "\n",
    "\n",
    "dates = pd.date_range(start=\"10-11-2020\", periods=20, freq=\"2W-SUN\")\n",
    "\n",
    "\n",
    "df = pd.DataFrame({\"count_1\": np.random.randint(1, 10, 20),\n",
    "                   \"count_2\": np.random.randint(1, 10, 20)},\n",
    "                  index=dates)\n",
    "\n",
    "\n",
    "df"
   ]
  },
  {
   "cell_type": "markdown",
   "metadata": {},
   "source": [
    "Here, we can see that all the dates in our index are on a Sunday, which matches the frequency that we set."
   ]
  },
  {
   "cell_type": "code",
   "execution_count": 50,
   "metadata": {
    "ExecuteTime": {
     "end_time": "2021-02-13T08:50:42.275433Z",
     "start_time": "2021-02-13T08:50:42.272449Z"
    }
   },
   "outputs": [
    {
     "data": {
      "text/plain": [
       "Index(['Sunday', 'Sunday', 'Sunday', 'Sunday', 'Sunday', 'Sunday', 'Sunday',\n",
       "       'Sunday', 'Sunday', 'Sunday', 'Sunday', 'Sunday', 'Sunday', 'Sunday',\n",
       "       'Sunday', 'Sunday', 'Sunday', 'Sunday', 'Sunday', 'Sunday'],\n",
       "      dtype='object')"
      ]
     },
     "execution_count": 50,
     "metadata": {},
     "output_type": "execute_result"
    }
   ],
   "source": [
    "df.index.day_name()"
   ]
  },
  {
   "cell_type": "markdown",
   "metadata": {},
   "source": [
    "We can also use `diff()` to find the first discrete difference between each date's value. We will talk about the `diff()` method later on."
   ]
  },
  {
   "cell_type": "code",
   "execution_count": 51,
   "metadata": {
    "ExecuteTime": {
     "end_time": "2021-02-13T08:51:02.071545Z",
     "start_time": "2021-02-13T08:51:02.059838Z"
    }
   },
   "outputs": [
    {
     "data": {
      "text/html": [
       "<div>\n",
       "<style scoped>\n",
       "    .dataframe tbody tr th:only-of-type {\n",
       "        vertical-align: middle;\n",
       "    }\n",
       "\n",
       "    .dataframe tbody tr th {\n",
       "        vertical-align: top;\n",
       "    }\n",
       "\n",
       "    .dataframe thead th {\n",
       "        text-align: right;\n",
       "    }\n",
       "</style>\n",
       "<table border=\"1\" class=\"dataframe\">\n",
       "  <thead>\n",
       "    <tr style=\"text-align: right;\">\n",
       "      <th></th>\n",
       "      <th>count_1</th>\n",
       "      <th>count_2</th>\n",
       "    </tr>\n",
       "  </thead>\n",
       "  <tbody>\n",
       "    <tr>\n",
       "      <th>2020-10-11</th>\n",
       "      <td>NaN</td>\n",
       "      <td>NaN</td>\n",
       "    </tr>\n",
       "    <tr>\n",
       "      <th>2020-10-25</th>\n",
       "      <td>-2.0</td>\n",
       "      <td>6.0</td>\n",
       "    </tr>\n",
       "    <tr>\n",
       "      <th>2020-11-08</th>\n",
       "      <td>2.0</td>\n",
       "      <td>-2.0</td>\n",
       "    </tr>\n",
       "    <tr>\n",
       "      <th>2020-11-22</th>\n",
       "      <td>1.0</td>\n",
       "      <td>1.0</td>\n",
       "    </tr>\n",
       "    <tr>\n",
       "      <th>2020-12-06</th>\n",
       "      <td>4.0</td>\n",
       "      <td>-5.0</td>\n",
       "    </tr>\n",
       "    <tr>\n",
       "      <th>2020-12-20</th>\n",
       "      <td>-3.0</td>\n",
       "      <td>1.0</td>\n",
       "    </tr>\n",
       "    <tr>\n",
       "      <th>2021-01-03</th>\n",
       "      <td>3.0</td>\n",
       "      <td>7.0</td>\n",
       "    </tr>\n",
       "    <tr>\n",
       "      <th>2021-01-17</th>\n",
       "      <td>-3.0</td>\n",
       "      <td>-4.0</td>\n",
       "    </tr>\n",
       "    <tr>\n",
       "      <th>2021-01-31</th>\n",
       "      <td>0.0</td>\n",
       "      <td>0.0</td>\n",
       "    </tr>\n",
       "    <tr>\n",
       "      <th>2021-02-14</th>\n",
       "      <td>3.0</td>\n",
       "      <td>4.0</td>\n",
       "    </tr>\n",
       "    <tr>\n",
       "      <th>2021-02-28</th>\n",
       "      <td>0.0</td>\n",
       "      <td>-6.0</td>\n",
       "    </tr>\n",
       "    <tr>\n",
       "      <th>2021-03-14</th>\n",
       "      <td>-7.0</td>\n",
       "      <td>0.0</td>\n",
       "    </tr>\n",
       "    <tr>\n",
       "      <th>2021-03-28</th>\n",
       "      <td>4.0</td>\n",
       "      <td>4.0</td>\n",
       "    </tr>\n",
       "    <tr>\n",
       "      <th>2021-04-11</th>\n",
       "      <td>-2.0</td>\n",
       "      <td>-6.0</td>\n",
       "    </tr>\n",
       "    <tr>\n",
       "      <th>2021-04-25</th>\n",
       "      <td>-1.0</td>\n",
       "      <td>2.0</td>\n",
       "    </tr>\n",
       "    <tr>\n",
       "      <th>2021-05-09</th>\n",
       "      <td>3.0</td>\n",
       "      <td>-1.0</td>\n",
       "    </tr>\n",
       "    <tr>\n",
       "      <th>2021-05-23</th>\n",
       "      <td>-3.0</td>\n",
       "      <td>6.0</td>\n",
       "    </tr>\n",
       "    <tr>\n",
       "      <th>2021-06-06</th>\n",
       "      <td>4.0</td>\n",
       "      <td>-5.0</td>\n",
       "    </tr>\n",
       "    <tr>\n",
       "      <th>2021-06-20</th>\n",
       "      <td>-5.0</td>\n",
       "      <td>5.0</td>\n",
       "    </tr>\n",
       "    <tr>\n",
       "      <th>2021-07-04</th>\n",
       "      <td>6.0</td>\n",
       "      <td>-1.0</td>\n",
       "    </tr>\n",
       "  </tbody>\n",
       "</table>\n",
       "</div>"
      ],
      "text/plain": [
       "            count_1  count_2\n",
       "2020-10-11      NaN      NaN\n",
       "2020-10-25     -2.0      6.0\n",
       "2020-11-08      2.0     -2.0\n",
       "2020-11-22      1.0      1.0\n",
       "2020-12-06      4.0     -5.0\n",
       "2020-12-20     -3.0      1.0\n",
       "2021-01-03      3.0      7.0\n",
       "2021-01-17     -3.0     -4.0\n",
       "2021-01-31      0.0      0.0\n",
       "2021-02-14      3.0      4.0\n",
       "2021-02-28      0.0     -6.0\n",
       "2021-03-14     -7.0      0.0\n",
       "2021-03-28      4.0      4.0\n",
       "2021-04-11     -2.0     -6.0\n",
       "2021-04-25     -1.0      2.0\n",
       "2021-05-09      3.0     -1.0\n",
       "2021-05-23     -3.0      6.0\n",
       "2021-06-06      4.0     -5.0\n",
       "2021-06-20     -5.0      5.0\n",
       "2021-07-04      6.0     -1.0"
      ]
     },
     "execution_count": 51,
     "metadata": {},
     "output_type": "execute_result"
    }
   ],
   "source": [
    "df.diff()"
   ]
  },
  {
   "cell_type": "markdown",
   "metadata": {},
   "source": [
    "Suppose we want to know what is the mean count for each month in our DataFrame. We can do this using\n",
    "`resample()`. Converting from a higher frequency from a lower frequency is called `downsampling` (we'll talk about this in a moment)"
   ]
  },
  {
   "cell_type": "code",
   "execution_count": 52,
   "metadata": {
    "ExecuteTime": {
     "end_time": "2021-02-13T08:55:23.216940Z",
     "start_time": "2021-02-13T08:55:23.204370Z"
    }
   },
   "outputs": [
    {
     "data": {
      "text/html": [
       "<div>\n",
       "<style scoped>\n",
       "    .dataframe tbody tr th:only-of-type {\n",
       "        vertical-align: middle;\n",
       "    }\n",
       "\n",
       "    .dataframe tbody tr th {\n",
       "        vertical-align: top;\n",
       "    }\n",
       "\n",
       "    .dataframe thead th {\n",
       "        text-align: right;\n",
       "    }\n",
       "</style>\n",
       "<table border=\"1\" class=\"dataframe\">\n",
       "  <thead>\n",
       "    <tr style=\"text-align: right;\">\n",
       "      <th></th>\n",
       "      <th>count_1</th>\n",
       "      <th>count_2</th>\n",
       "    </tr>\n",
       "  </thead>\n",
       "  <tbody>\n",
       "    <tr>\n",
       "      <th>2020-10-31</th>\n",
       "      <td>2.0</td>\n",
       "      <td>4.000000</td>\n",
       "    </tr>\n",
       "    <tr>\n",
       "      <th>2020-11-30</th>\n",
       "      <td>3.5</td>\n",
       "      <td>5.500000</td>\n",
       "    </tr>\n",
       "    <tr>\n",
       "      <th>2020-12-31</th>\n",
       "      <td>6.5</td>\n",
       "      <td>1.500000</td>\n",
       "    </tr>\n",
       "    <tr>\n",
       "      <th>2021-01-31</th>\n",
       "      <td>6.0</td>\n",
       "      <td>6.333333</td>\n",
       "    </tr>\n",
       "    <tr>\n",
       "      <th>2021-02-28</th>\n",
       "      <td>8.0</td>\n",
       "      <td>6.000000</td>\n",
       "    </tr>\n",
       "    <tr>\n",
       "      <th>2021-03-31</th>\n",
       "      <td>3.0</td>\n",
       "      <td>5.000000</td>\n",
       "    </tr>\n",
       "    <tr>\n",
       "      <th>2021-04-30</th>\n",
       "      <td>2.5</td>\n",
       "      <td>2.000000</td>\n",
       "    </tr>\n",
       "    <tr>\n",
       "      <th>2021-05-31</th>\n",
       "      <td>3.5</td>\n",
       "      <td>5.000000</td>\n",
       "    </tr>\n",
       "    <tr>\n",
       "      <th>2021-06-30</th>\n",
       "      <td>3.5</td>\n",
       "      <td>5.500000</td>\n",
       "    </tr>\n",
       "    <tr>\n",
       "      <th>2021-07-31</th>\n",
       "      <td>7.0</td>\n",
       "      <td>7.000000</td>\n",
       "    </tr>\n",
       "  </tbody>\n",
       "</table>\n",
       "</div>"
      ],
      "text/plain": [
       "            count_1   count_2\n",
       "2020-10-31      2.0  4.000000\n",
       "2020-11-30      3.5  5.500000\n",
       "2020-12-31      6.5  1.500000\n",
       "2021-01-31      6.0  6.333333\n",
       "2021-02-28      8.0  6.000000\n",
       "2021-03-31      3.0  5.000000\n",
       "2021-04-30      2.5  2.000000\n",
       "2021-05-31      3.5  5.000000\n",
       "2021-06-30      3.5  5.500000\n",
       "2021-07-31      7.0  7.000000"
      ]
     },
     "execution_count": 52,
     "metadata": {},
     "output_type": "execute_result"
    }
   ],
   "source": [
    "df.resample(\"M\").mean()"
   ]
  },
  {
   "cell_type": "markdown",
   "metadata": {},
   "source": [
    "Now let's talk about datetime indexing and slicing, which is a wonderful feature of the pandas DataFrame.For instance, we can use partial string indexing to find values from a particular year."
   ]
  },
  {
   "cell_type": "code",
   "execution_count": 56,
   "metadata": {
    "ExecuteTime": {
     "end_time": "2021-02-13T08:57:54.582713Z",
     "start_time": "2021-02-13T08:57:54.572545Z"
    }
   },
   "outputs": [
    {
     "data": {
      "text/html": [
       "<div>\n",
       "<style scoped>\n",
       "    .dataframe tbody tr th:only-of-type {\n",
       "        vertical-align: middle;\n",
       "    }\n",
       "\n",
       "    .dataframe tbody tr th {\n",
       "        vertical-align: top;\n",
       "    }\n",
       "\n",
       "    .dataframe thead th {\n",
       "        text-align: right;\n",
       "    }\n",
       "</style>\n",
       "<table border=\"1\" class=\"dataframe\">\n",
       "  <thead>\n",
       "    <tr style=\"text-align: right;\">\n",
       "      <th></th>\n",
       "      <th>count_1</th>\n",
       "      <th>count_2</th>\n",
       "    </tr>\n",
       "  </thead>\n",
       "  <tbody>\n",
       "    <tr>\n",
       "      <th>2020-12-06</th>\n",
       "      <td>8</td>\n",
       "      <td>1</td>\n",
       "    </tr>\n",
       "    <tr>\n",
       "      <th>2020-12-20</th>\n",
       "      <td>5</td>\n",
       "      <td>2</td>\n",
       "    </tr>\n",
       "    <tr>\n",
       "      <th>2021-01-03</th>\n",
       "      <td>8</td>\n",
       "      <td>9</td>\n",
       "    </tr>\n",
       "    <tr>\n",
       "      <th>2021-01-17</th>\n",
       "      <td>5</td>\n",
       "      <td>5</td>\n",
       "    </tr>\n",
       "    <tr>\n",
       "      <th>2021-01-31</th>\n",
       "      <td>5</td>\n",
       "      <td>5</td>\n",
       "    </tr>\n",
       "    <tr>\n",
       "      <th>2021-02-14</th>\n",
       "      <td>8</td>\n",
       "      <td>9</td>\n",
       "    </tr>\n",
       "    <tr>\n",
       "      <th>2021-02-28</th>\n",
       "      <td>8</td>\n",
       "      <td>3</td>\n",
       "    </tr>\n",
       "    <tr>\n",
       "      <th>2021-03-14</th>\n",
       "      <td>1</td>\n",
       "      <td>3</td>\n",
       "    </tr>\n",
       "    <tr>\n",
       "      <th>2021-03-28</th>\n",
       "      <td>5</td>\n",
       "      <td>7</td>\n",
       "    </tr>\n",
       "    <tr>\n",
       "      <th>2021-04-11</th>\n",
       "      <td>3</td>\n",
       "      <td>1</td>\n",
       "    </tr>\n",
       "    <tr>\n",
       "      <th>2021-04-25</th>\n",
       "      <td>2</td>\n",
       "      <td>3</td>\n",
       "    </tr>\n",
       "    <tr>\n",
       "      <th>2021-05-09</th>\n",
       "      <td>5</td>\n",
       "      <td>2</td>\n",
       "    </tr>\n",
       "    <tr>\n",
       "      <th>2021-05-23</th>\n",
       "      <td>2</td>\n",
       "      <td>8</td>\n",
       "    </tr>\n",
       "    <tr>\n",
       "      <th>2021-06-06</th>\n",
       "      <td>6</td>\n",
       "      <td>3</td>\n",
       "    </tr>\n",
       "    <tr>\n",
       "      <th>2021-06-20</th>\n",
       "      <td>1</td>\n",
       "      <td>8</td>\n",
       "    </tr>\n",
       "    <tr>\n",
       "      <th>2021-07-04</th>\n",
       "      <td>7</td>\n",
       "      <td>7</td>\n",
       "    </tr>\n",
       "  </tbody>\n",
       "</table>\n",
       "</div>"
      ],
      "text/plain": [
       "            count_1  count_2\n",
       "2020-12-06        8        1\n",
       "2020-12-20        5        2\n",
       "2021-01-03        8        9\n",
       "2021-01-17        5        5\n",
       "2021-01-31        5        5\n",
       "2021-02-14        8        9\n",
       "2021-02-28        8        3\n",
       "2021-03-14        1        3\n",
       "2021-03-28        5        7\n",
       "2021-04-11        3        1\n",
       "2021-04-25        2        3\n",
       "2021-05-09        5        2\n",
       "2021-05-23        2        8\n",
       "2021-06-06        6        3\n",
       "2021-06-20        1        8\n",
       "2021-07-04        7        7"
      ]
     },
     "execution_count": 56,
     "metadata": {},
     "output_type": "execute_result"
    }
   ],
   "source": [
    "df.loc[\"2020\"] # Select only 2020 year\n",
    "\n",
    "df.loc[\"2021\"] # Select only 2021 year\n",
    "\n",
    "df.loc[\"2020-12\"] # Select particular year and month\n",
    "\n",
    "df.loc[\"2020-12\":] # Select range"
   ]
  },
  {
   "cell_type": "markdown",
   "metadata": {},
   "source": [
    "## Indexing, Selection, Sub-setting\n",
    "\n",
    "---\n",
    "\n",
    "Time series behaves like any other Pandas Series when you are indexing and selecting data based on label.\n",
    "\n",
    "\n",
    "> **While pandas does not force you to have a sorted date index, some of these methods may have unexpected or incorrect behavior if the dates are unsorted.**"
   ]
  },
  {
   "cell_type": "code",
   "execution_count": 57,
   "metadata": {
    "ExecuteTime": {
     "end_time": "2021-02-13T08:58:16.007435Z",
     "start_time": "2021-02-13T08:58:16.000519Z"
    },
    "scrolled": false
   },
   "outputs": [
    {
     "data": {
      "text/html": [
       "<div>\n",
       "<style scoped>\n",
       "    .dataframe tbody tr th:only-of-type {\n",
       "        vertical-align: middle;\n",
       "    }\n",
       "\n",
       "    .dataframe tbody tr th {\n",
       "        vertical-align: top;\n",
       "    }\n",
       "\n",
       "    .dataframe thead th {\n",
       "        text-align: right;\n",
       "    }\n",
       "</style>\n",
       "<table border=\"1\" class=\"dataframe\">\n",
       "  <thead>\n",
       "    <tr style=\"text-align: right;\">\n",
       "      <th></th>\n",
       "      <th>count_1</th>\n",
       "      <th>count_2</th>\n",
       "    </tr>\n",
       "  </thead>\n",
       "  <tbody>\n",
       "    <tr>\n",
       "      <th>2020-10-11</th>\n",
       "      <td>3</td>\n",
       "      <td>1</td>\n",
       "    </tr>\n",
       "    <tr>\n",
       "      <th>2020-10-25</th>\n",
       "      <td>1</td>\n",
       "      <td>7</td>\n",
       "    </tr>\n",
       "    <tr>\n",
       "      <th>2020-11-08</th>\n",
       "      <td>3</td>\n",
       "      <td>5</td>\n",
       "    </tr>\n",
       "    <tr>\n",
       "      <th>2020-11-22</th>\n",
       "      <td>4</td>\n",
       "      <td>6</td>\n",
       "    </tr>\n",
       "    <tr>\n",
       "      <th>2020-12-06</th>\n",
       "      <td>8</td>\n",
       "      <td>1</td>\n",
       "    </tr>\n",
       "    <tr>\n",
       "      <th>2020-12-20</th>\n",
       "      <td>5</td>\n",
       "      <td>2</td>\n",
       "    </tr>\n",
       "    <tr>\n",
       "      <th>2021-01-03</th>\n",
       "      <td>8</td>\n",
       "      <td>9</td>\n",
       "    </tr>\n",
       "    <tr>\n",
       "      <th>2021-01-17</th>\n",
       "      <td>5</td>\n",
       "      <td>5</td>\n",
       "    </tr>\n",
       "    <tr>\n",
       "      <th>2021-01-31</th>\n",
       "      <td>5</td>\n",
       "      <td>5</td>\n",
       "    </tr>\n",
       "    <tr>\n",
       "      <th>2021-02-14</th>\n",
       "      <td>8</td>\n",
       "      <td>9</td>\n",
       "    </tr>\n",
       "    <tr>\n",
       "      <th>2021-02-28</th>\n",
       "      <td>8</td>\n",
       "      <td>3</td>\n",
       "    </tr>\n",
       "    <tr>\n",
       "      <th>2021-03-14</th>\n",
       "      <td>1</td>\n",
       "      <td>3</td>\n",
       "    </tr>\n",
       "    <tr>\n",
       "      <th>2021-03-28</th>\n",
       "      <td>5</td>\n",
       "      <td>7</td>\n",
       "    </tr>\n",
       "    <tr>\n",
       "      <th>2021-04-11</th>\n",
       "      <td>3</td>\n",
       "      <td>1</td>\n",
       "    </tr>\n",
       "    <tr>\n",
       "      <th>2021-04-25</th>\n",
       "      <td>2</td>\n",
       "      <td>3</td>\n",
       "    </tr>\n",
       "    <tr>\n",
       "      <th>2021-05-09</th>\n",
       "      <td>5</td>\n",
       "      <td>2</td>\n",
       "    </tr>\n",
       "    <tr>\n",
       "      <th>2021-05-23</th>\n",
       "      <td>2</td>\n",
       "      <td>8</td>\n",
       "    </tr>\n",
       "    <tr>\n",
       "      <th>2021-06-06</th>\n",
       "      <td>6</td>\n",
       "      <td>3</td>\n",
       "    </tr>\n",
       "    <tr>\n",
       "      <th>2021-06-20</th>\n",
       "      <td>1</td>\n",
       "      <td>8</td>\n",
       "    </tr>\n",
       "    <tr>\n",
       "      <th>2021-07-04</th>\n",
       "      <td>7</td>\n",
       "      <td>7</td>\n",
       "    </tr>\n",
       "  </tbody>\n",
       "</table>\n",
       "</div>"
      ],
      "text/plain": [
       "            count_1  count_2\n",
       "2020-10-11        3        1\n",
       "2020-10-25        1        7\n",
       "2020-11-08        3        5\n",
       "2020-11-22        4        6\n",
       "2020-12-06        8        1\n",
       "2020-12-20        5        2\n",
       "2021-01-03        8        9\n",
       "2021-01-17        5        5\n",
       "2021-01-31        5        5\n",
       "2021-02-14        8        9\n",
       "2021-02-28        8        3\n",
       "2021-03-14        1        3\n",
       "2021-03-28        5        7\n",
       "2021-04-11        3        1\n",
       "2021-04-25        2        3\n",
       "2021-05-09        5        2\n",
       "2021-05-23        2        8\n",
       "2021-06-06        6        3\n",
       "2021-06-20        1        8\n",
       "2021-07-04        7        7"
      ]
     },
     "execution_count": 57,
     "metadata": {},
     "output_type": "execute_result"
    }
   ],
   "source": [
    "df"
   ]
  },
  {
   "cell_type": "code",
   "execution_count": 58,
   "metadata": {
    "ExecuteTime": {
     "end_time": "2021-02-13T08:58:22.216474Z",
     "start_time": "2021-02-13T08:58:22.213374Z"
    }
   },
   "outputs": [
    {
     "data": {
      "text/plain": [
       "DatetimeIndex(['2020-10-11', '2020-10-25', '2020-11-08', '2020-11-22',\n",
       "               '2020-12-06', '2020-12-20', '2021-01-03', '2021-01-17',\n",
       "               '2021-01-31', '2021-02-14', '2021-02-28', '2021-03-14',\n",
       "               '2021-03-28', '2021-04-11', '2021-04-25', '2021-05-09',\n",
       "               '2021-05-23', '2021-06-06', '2021-06-20', '2021-07-04'],\n",
       "              dtype='datetime64[ns]', freq='2W-SUN')"
      ]
     },
     "execution_count": 58,
     "metadata": {},
     "output_type": "execute_result"
    }
   ],
   "source": [
    "df.index"
   ]
  },
  {
   "cell_type": "code",
   "execution_count": 59,
   "metadata": {
    "ExecuteTime": {
     "end_time": "2021-02-13T08:58:23.011886Z",
     "start_time": "2021-02-13T08:58:23.009359Z"
    }
   },
   "outputs": [
    {
     "data": {
      "text/plain": [
       "(20, 2)"
      ]
     },
     "execution_count": 59,
     "metadata": {},
     "output_type": "execute_result"
    }
   ],
   "source": [
    "df.shape"
   ]
  },
  {
   "cell_type": "code",
   "execution_count": 60,
   "metadata": {
    "ExecuteTime": {
     "end_time": "2021-02-13T08:58:47.967182Z",
     "start_time": "2021-02-13T08:58:47.959799Z"
    }
   },
   "outputs": [
    {
     "data": {
      "text/html": [
       "<div>\n",
       "<style scoped>\n",
       "    .dataframe tbody tr th:only-of-type {\n",
       "        vertical-align: middle;\n",
       "    }\n",
       "\n",
       "    .dataframe tbody tr th {\n",
       "        vertical-align: top;\n",
       "    }\n",
       "\n",
       "    .dataframe thead th {\n",
       "        text-align: right;\n",
       "    }\n",
       "</style>\n",
       "<table border=\"1\" class=\"dataframe\">\n",
       "  <thead>\n",
       "    <tr style=\"text-align: right;\">\n",
       "      <th></th>\n",
       "      <th>count_1</th>\n",
       "      <th>count_2</th>\n",
       "    </tr>\n",
       "  </thead>\n",
       "  <tbody>\n",
       "    <tr>\n",
       "      <th>2021-05-09</th>\n",
       "      <td>5</td>\n",
       "      <td>2</td>\n",
       "    </tr>\n",
       "    <tr>\n",
       "      <th>2021-05-23</th>\n",
       "      <td>2</td>\n",
       "      <td>8</td>\n",
       "    </tr>\n",
       "    <tr>\n",
       "      <th>2021-06-06</th>\n",
       "      <td>6</td>\n",
       "      <td>3</td>\n",
       "    </tr>\n",
       "    <tr>\n",
       "      <th>2021-06-20</th>\n",
       "      <td>1</td>\n",
       "      <td>8</td>\n",
       "    </tr>\n",
       "    <tr>\n",
       "      <th>2021-07-04</th>\n",
       "      <td>7</td>\n",
       "      <td>7</td>\n",
       "    </tr>\n",
       "  </tbody>\n",
       "</table>\n",
       "</div>"
      ],
      "text/plain": [
       "            count_1  count_2\n",
       "2021-05-09        5        2\n",
       "2021-05-23        2        8\n",
       "2021-06-06        6        3\n",
       "2021-06-20        1        8\n",
       "2021-07-04        7        7"
      ]
     },
     "execution_count": 60,
     "metadata": {},
     "output_type": "execute_result"
    }
   ],
   "source": [
    "df[:10] # Select first 10 rows\n",
    "\n",
    "df[10:15] # Select 5 rows\n",
    "\n",
    "df[15:] # Select last 5 rows"
   ]
  },
  {
   "cell_type": "code",
   "execution_count": 64,
   "metadata": {
    "ExecuteTime": {
     "end_time": "2021-02-13T09:00:35.052262Z",
     "start_time": "2021-02-13T09:00:35.041022Z"
    }
   },
   "outputs": [
    {
     "data": {
      "text/html": [
       "<div>\n",
       "<style scoped>\n",
       "    .dataframe tbody tr th:only-of-type {\n",
       "        vertical-align: middle;\n",
       "    }\n",
       "\n",
       "    .dataframe tbody tr th {\n",
       "        vertical-align: top;\n",
       "    }\n",
       "\n",
       "    .dataframe thead th {\n",
       "        text-align: right;\n",
       "    }\n",
       "</style>\n",
       "<table border=\"1\" class=\"dataframe\">\n",
       "  <thead>\n",
       "    <tr style=\"text-align: right;\">\n",
       "      <th></th>\n",
       "      <th>count_1</th>\n",
       "      <th>count_2</th>\n",
       "    </tr>\n",
       "  </thead>\n",
       "  <tbody>\n",
       "    <tr>\n",
       "      <th>2020-10-11</th>\n",
       "      <td>3</td>\n",
       "      <td>1</td>\n",
       "    </tr>\n",
       "    <tr>\n",
       "      <th>2020-10-25</th>\n",
       "      <td>1</td>\n",
       "      <td>7</td>\n",
       "    </tr>\n",
       "    <tr>\n",
       "      <th>2020-11-08</th>\n",
       "      <td>3</td>\n",
       "      <td>5</td>\n",
       "    </tr>\n",
       "    <tr>\n",
       "      <th>2020-11-22</th>\n",
       "      <td>4</td>\n",
       "      <td>6</td>\n",
       "    </tr>\n",
       "    <tr>\n",
       "      <th>2020-12-06</th>\n",
       "      <td>8</td>\n",
       "      <td>1</td>\n",
       "    </tr>\n",
       "    <tr>\n",
       "      <th>2020-12-20</th>\n",
       "      <td>5</td>\n",
       "      <td>2</td>\n",
       "    </tr>\n",
       "    <tr>\n",
       "      <th>2021-01-03</th>\n",
       "      <td>8</td>\n",
       "      <td>9</td>\n",
       "    </tr>\n",
       "    <tr>\n",
       "      <th>2021-01-17</th>\n",
       "      <td>5</td>\n",
       "      <td>5</td>\n",
       "    </tr>\n",
       "    <tr>\n",
       "      <th>2021-01-31</th>\n",
       "      <td>5</td>\n",
       "      <td>5</td>\n",
       "    </tr>\n",
       "    <tr>\n",
       "      <th>2021-02-14</th>\n",
       "      <td>8</td>\n",
       "      <td>9</td>\n",
       "    </tr>\n",
       "    <tr>\n",
       "      <th>2021-02-28</th>\n",
       "      <td>8</td>\n",
       "      <td>3</td>\n",
       "    </tr>\n",
       "  </tbody>\n",
       "</table>\n",
       "</div>"
      ],
      "text/plain": [
       "            count_1  count_2\n",
       "2020-10-11        3        1\n",
       "2020-10-25        1        7\n",
       "2020-11-08        3        5\n",
       "2020-11-22        4        6\n",
       "2020-12-06        8        1\n",
       "2020-12-20        5        2\n",
       "2021-01-03        8        9\n",
       "2021-01-17        5        5\n",
       "2021-01-31        5        5\n",
       "2021-02-14        8        9\n",
       "2021-02-28        8        3"
      ]
     },
     "execution_count": 64,
     "metadata": {},
     "output_type": "execute_result"
    }
   ],
   "source": [
    "df.loc[\"2020-10-11\"] # Select one row\n",
    "\n",
    "df.loc[datetime.datetime(2020, 10, 11)]\n",
    "\n",
    "\n",
    "df.loc[\"2020-10\"] # Select all row for a month\n",
    "\n",
    "df.loc[\"2020\"] # Select all rows for a year\n",
    "\n",
    "\n",
    "\n",
    "df.loc[:\"2020\"] # Select year range\n",
    "\n",
    "df.loc[\"2021\":] # Select year range\n",
    "\n",
    "\n",
    "df.loc[\"2021-01\":\"2021-05\"] # Select month range\n",
    "\n",
    "df.loc[datetime.datetime(2020, 10, 11): datetime.datetime(2021, 2, 28)]"
   ]
  },
  {
   "cell_type": "code",
   "execution_count": 66,
   "metadata": {
    "ExecuteTime": {
     "end_time": "2021-02-13T09:01:25.121913Z",
     "start_time": "2021-02-13T09:01:25.112229Z"
    }
   },
   "outputs": [
    {
     "data": {
      "text/html": [
       "<div>\n",
       "<style scoped>\n",
       "    .dataframe tbody tr th:only-of-type {\n",
       "        vertical-align: middle;\n",
       "    }\n",
       "\n",
       "    .dataframe tbody tr th {\n",
       "        vertical-align: top;\n",
       "    }\n",
       "\n",
       "    .dataframe thead th {\n",
       "        text-align: right;\n",
       "    }\n",
       "</style>\n",
       "<table border=\"1\" class=\"dataframe\">\n",
       "  <thead>\n",
       "    <tr style=\"text-align: right;\">\n",
       "      <th></th>\n",
       "      <th>count_1</th>\n",
       "      <th>count_2</th>\n",
       "    </tr>\n",
       "  </thead>\n",
       "  <tbody>\n",
       "    <tr>\n",
       "      <th>2020-10-11</th>\n",
       "      <td>3</td>\n",
       "      <td>1</td>\n",
       "    </tr>\n",
       "    <tr>\n",
       "      <th>2020-10-25</th>\n",
       "      <td>1</td>\n",
       "      <td>7</td>\n",
       "    </tr>\n",
       "    <tr>\n",
       "      <th>2020-11-08</th>\n",
       "      <td>3</td>\n",
       "      <td>5</td>\n",
       "    </tr>\n",
       "    <tr>\n",
       "      <th>2020-11-22</th>\n",
       "      <td>4</td>\n",
       "      <td>6</td>\n",
       "    </tr>\n",
       "    <tr>\n",
       "      <th>2020-12-06</th>\n",
       "      <td>8</td>\n",
       "      <td>1</td>\n",
       "    </tr>\n",
       "    <tr>\n",
       "      <th>2020-12-20</th>\n",
       "      <td>5</td>\n",
       "      <td>2</td>\n",
       "    </tr>\n",
       "    <tr>\n",
       "      <th>2021-01-03</th>\n",
       "      <td>8</td>\n",
       "      <td>9</td>\n",
       "    </tr>\n",
       "    <tr>\n",
       "      <th>2021-01-17</th>\n",
       "      <td>5</td>\n",
       "      <td>5</td>\n",
       "    </tr>\n",
       "    <tr>\n",
       "      <th>2021-01-31</th>\n",
       "      <td>5</td>\n",
       "      <td>5</td>\n",
       "    </tr>\n",
       "    <tr>\n",
       "      <th>2021-02-14</th>\n",
       "      <td>8</td>\n",
       "      <td>9</td>\n",
       "    </tr>\n",
       "    <tr>\n",
       "      <th>2021-02-28</th>\n",
       "      <td>8</td>\n",
       "      <td>3</td>\n",
       "    </tr>\n",
       "    <tr>\n",
       "      <th>2021-03-14</th>\n",
       "      <td>1</td>\n",
       "      <td>3</td>\n",
       "    </tr>\n",
       "    <tr>\n",
       "      <th>2021-03-28</th>\n",
       "      <td>5</td>\n",
       "      <td>7</td>\n",
       "    </tr>\n",
       "    <tr>\n",
       "      <th>2021-04-11</th>\n",
       "      <td>3</td>\n",
       "      <td>1</td>\n",
       "    </tr>\n",
       "    <tr>\n",
       "      <th>2021-04-25</th>\n",
       "      <td>2</td>\n",
       "      <td>3</td>\n",
       "    </tr>\n",
       "    <tr>\n",
       "      <th>2021-05-09</th>\n",
       "      <td>5</td>\n",
       "      <td>2</td>\n",
       "    </tr>\n",
       "    <tr>\n",
       "      <th>2021-05-23</th>\n",
       "      <td>2</td>\n",
       "      <td>8</td>\n",
       "    </tr>\n",
       "    <tr>\n",
       "      <th>2021-06-06</th>\n",
       "      <td>6</td>\n",
       "      <td>3</td>\n",
       "    </tr>\n",
       "    <tr>\n",
       "      <th>2021-06-20</th>\n",
       "      <td>1</td>\n",
       "      <td>8</td>\n",
       "    </tr>\n",
       "    <tr>\n",
       "      <th>2021-07-04</th>\n",
       "      <td>7</td>\n",
       "      <td>7</td>\n",
       "    </tr>\n",
       "  </tbody>\n",
       "</table>\n",
       "</div>"
      ],
      "text/plain": [
       "            count_1  count_2\n",
       "2020-10-11        3        1\n",
       "2020-10-25        1        7\n",
       "2020-11-08        3        5\n",
       "2020-11-22        4        6\n",
       "2020-12-06        8        1\n",
       "2020-12-20        5        2\n",
       "2021-01-03        8        9\n",
       "2021-01-17        5        5\n",
       "2021-01-31        5        5\n",
       "2021-02-14        8        9\n",
       "2021-02-28        8        3\n",
       "2021-03-14        1        3\n",
       "2021-03-28        5        7\n",
       "2021-04-11        3        1\n",
       "2021-04-25        2        3\n",
       "2021-05-09        5        2\n",
       "2021-05-23        2        8\n",
       "2021-06-06        6        3\n",
       "2021-06-20        1        8\n",
       "2021-07-04        7        7"
      ]
     },
     "execution_count": 66,
     "metadata": {},
     "output_type": "execute_result"
    }
   ],
   "source": [
    "df"
   ]
  },
  {
   "cell_type": "code",
   "execution_count": 67,
   "metadata": {
    "ExecuteTime": {
     "end_time": "2021-02-13T09:02:29.733808Z",
     "start_time": "2021-02-13T09:02:29.723434Z"
    }
   },
   "outputs": [
    {
     "data": {
      "text/html": [
       "<div>\n",
       "<style scoped>\n",
       "    .dataframe tbody tr th:only-of-type {\n",
       "        vertical-align: middle;\n",
       "    }\n",
       "\n",
       "    .dataframe tbody tr th {\n",
       "        vertical-align: top;\n",
       "    }\n",
       "\n",
       "    .dataframe thead th {\n",
       "        text-align: right;\n",
       "    }\n",
       "</style>\n",
       "<table border=\"1\" class=\"dataframe\">\n",
       "  <thead>\n",
       "    <tr style=\"text-align: right;\">\n",
       "      <th></th>\n",
       "      <th>count_1</th>\n",
       "      <th>count_2</th>\n",
       "    </tr>\n",
       "  </thead>\n",
       "  <tbody>\n",
       "    <tr>\n",
       "      <th>2021-01-03</th>\n",
       "      <td>8</td>\n",
       "      <td>9</td>\n",
       "    </tr>\n",
       "    <tr>\n",
       "      <th>2021-01-17</th>\n",
       "      <td>5</td>\n",
       "      <td>5</td>\n",
       "    </tr>\n",
       "    <tr>\n",
       "      <th>2021-01-31</th>\n",
       "      <td>5</td>\n",
       "      <td>5</td>\n",
       "    </tr>\n",
       "    <tr>\n",
       "      <th>2021-02-14</th>\n",
       "      <td>8</td>\n",
       "      <td>9</td>\n",
       "    </tr>\n",
       "    <tr>\n",
       "      <th>2021-02-28</th>\n",
       "      <td>8</td>\n",
       "      <td>3</td>\n",
       "    </tr>\n",
       "    <tr>\n",
       "      <th>2021-03-14</th>\n",
       "      <td>1</td>\n",
       "      <td>3</td>\n",
       "    </tr>\n",
       "    <tr>\n",
       "      <th>2021-03-28</th>\n",
       "      <td>5</td>\n",
       "      <td>7</td>\n",
       "    </tr>\n",
       "    <tr>\n",
       "      <th>2021-04-11</th>\n",
       "      <td>3</td>\n",
       "      <td>1</td>\n",
       "    </tr>\n",
       "  </tbody>\n",
       "</table>\n",
       "</div>"
      ],
      "text/plain": [
       "            count_1  count_2\n",
       "2021-01-03        8        9\n",
       "2021-01-17        5        5\n",
       "2021-01-31        5        5\n",
       "2021-02-14        8        9\n",
       "2021-02-28        8        3\n",
       "2021-03-14        1        3\n",
       "2021-03-28        5        7\n",
       "2021-04-11        3        1"
      ]
     },
     "execution_count": 67,
     "metadata": {},
     "output_type": "execute_result"
    }
   ],
   "source": [
    "df.truncate(before=\"2021-01-31\") # Truncate all rows before this index value\n",
    "\n",
    "df.truncate(after=\"2021-01-31\") # Truncate all rows after this index value\n",
    "\n",
    "df.truncate(before=\"2021-01-03\", after=\"2021-04-11\") # Truncate before and after these index values"
   ]
  },
  {
   "cell_type": "markdown",
   "metadata": {},
   "source": [
    "## Periods and Period Arithmetic\n",
    "\n",
    "---\n",
    "\n",
    "Periods represent timespans, like days, months, quarters, or years. The Period class represents this data type, requiring a string or integer and a frequency from the below table.\n",
    "\n",
    "\n",
    "![alt text](images/base_ts_frq.png \"Title\")"
   ]
  },
  {
   "cell_type": "markdown",
   "metadata": {},
   "source": [
    "Period object represents the full timespan from January 1, 2020, to December 31, 2020, inclusive."
   ]
  },
  {
   "cell_type": "code",
   "execution_count": 68,
   "metadata": {
    "ExecuteTime": {
     "end_time": "2021-02-13T09:11:36.034385Z",
     "start_time": "2021-02-13T09:11:36.030947Z"
    }
   },
   "outputs": [
    {
     "data": {
      "text/plain": [
       "Period('2020', 'A-DEC')"
      ]
     },
     "execution_count": 68,
     "metadata": {},
     "output_type": "execute_result"
    }
   ],
   "source": [
    "first_period = pd.Period(value=2020, freq=\"A-Dec\")\n",
    "\n",
    "\n",
    "first_period"
   ]
  },
  {
   "cell_type": "markdown",
   "metadata": {},
   "source": [
    "The frequency for our period object is `Annual`, hence adding and subtracting integers from this object has the effect of shifting by their frequency not actual dates."
   ]
  },
  {
   "cell_type": "code",
   "execution_count": 69,
   "metadata": {
    "ExecuteTime": {
     "end_time": "2021-02-13T09:11:57.571626Z",
     "start_time": "2021-02-13T09:11:57.568480Z"
    }
   },
   "outputs": [
    {
     "data": {
      "text/plain": [
       "Period('2015', 'A-DEC')"
      ]
     },
     "execution_count": 69,
     "metadata": {},
     "output_type": "execute_result"
    }
   ],
   "source": [
    "first_period - 5"
   ]
  },
  {
   "cell_type": "code",
   "execution_count": 70,
   "metadata": {
    "ExecuteTime": {
     "end_time": "2021-02-13T09:12:22.370715Z",
     "start_time": "2021-02-13T09:12:22.366631Z"
    }
   },
   "outputs": [
    {
     "data": {
      "text/plain": [
       "Period('2023', 'A-DEC')"
      ]
     },
     "execution_count": 70,
     "metadata": {},
     "output_type": "execute_result"
    }
   ],
   "source": [
    "first_period + 3"
   ]
  },
  {
   "cell_type": "markdown",
   "metadata": {},
   "source": [
    "If two periods have the same frequency, their difference is the number of units between them"
   ]
  },
  {
   "cell_type": "code",
   "execution_count": 72,
   "metadata": {
    "ExecuteTime": {
     "end_time": "2021-02-13T09:12:43.693558Z",
     "start_time": "2021-02-13T09:12:43.690676Z"
    }
   },
   "outputs": [],
   "source": [
    "second_period = pd.Period(value=\"2015\", freq=\"A-DEC\")"
   ]
  },
  {
   "cell_type": "code",
   "execution_count": 73,
   "metadata": {
    "ExecuteTime": {
     "end_time": "2021-02-13T09:12:44.475075Z",
     "start_time": "2021-02-13T09:12:44.472341Z"
    }
   },
   "outputs": [
    {
     "data": {
      "text/plain": [
       "<-5 * YearEnds: month=12>"
      ]
     },
     "execution_count": 73,
     "metadata": {},
     "output_type": "execute_result"
    }
   ],
   "source": [
    "second_period - first_period"
   ]
  },
  {
   "cell_type": "code",
   "execution_count": 74,
   "metadata": {
    "ExecuteTime": {
     "end_time": "2021-02-13T09:13:08.193763Z",
     "start_time": "2021-02-13T09:13:08.190792Z"
    }
   },
   "outputs": [
    {
     "data": {
      "text/plain": [
       "<5 * YearEnds: month=12>"
      ]
     },
     "execution_count": 74,
     "metadata": {},
     "output_type": "execute_result"
    }
   ],
   "source": [
    "first_period - second_period"
   ]
  },
  {
   "cell_type": "markdown",
   "metadata": {},
   "source": [
    "It's not possible to add two period object"
   ]
  },
  {
   "cell_type": "code",
   "execution_count": 75,
   "metadata": {
    "ExecuteTime": {
     "end_time": "2021-02-13T09:13:20.203323Z",
     "start_time": "2021-02-13T09:13:20.192493Z"
    }
   },
   "outputs": [
    {
     "ename": "TypeError",
     "evalue": "unsupported operand type(s) for +: 'Period' and 'Period'",
     "output_type": "error",
     "traceback": [
      "\u001b[0;31m---------------------------------------------------------------------------\u001b[0m",
      "\u001b[0;31mTypeError\u001b[0m                                 Traceback (most recent call last)",
      "\u001b[0;32m<ipython-input-75-1af6ff09fded>\u001b[0m in \u001b[0;36m<module>\u001b[0;34m\u001b[0m\n\u001b[0;32m----> 1\u001b[0;31m \u001b[0mfirst_period\u001b[0m \u001b[0;34m+\u001b[0m \u001b[0msecond_period\u001b[0m\u001b[0;34m\u001b[0m\u001b[0;34m\u001b[0m\u001b[0m\n\u001b[0m",
      "\u001b[0;32mpandas/_libs/tslibs/period.pyx\u001b[0m in \u001b[0;36mpandas._libs.tslibs.period._Period.__add__\u001b[0;34m()\u001b[0m\n",
      "\u001b[0;31mTypeError\u001b[0m: unsupported operand type(s) for +: 'Period' and 'Period'"
     ]
    }
   ],
   "source": [
    "first_period + second_period"
   ]
  },
  {
   "cell_type": "markdown",
   "metadata": {},
   "source": [
    "Also, it's not possible to do an arithmetic operations on period objects with different frequency."
   ]
  },
  {
   "cell_type": "code",
   "execution_count": 76,
   "metadata": {
    "ExecuteTime": {
     "end_time": "2021-02-13T09:13:34.908557Z",
     "start_time": "2021-02-13T09:13:34.906311Z"
    }
   },
   "outputs": [],
   "source": [
    "third_period = pd.Period(value=\"01-04-2021\", freq=\"D\")"
   ]
  },
  {
   "cell_type": "code",
   "execution_count": 77,
   "metadata": {
    "ExecuteTime": {
     "end_time": "2021-02-13T09:13:39.770216Z",
     "start_time": "2021-02-13T09:13:39.767374Z"
    }
   },
   "outputs": [
    {
     "data": {
      "text/plain": [
       "Period('2021-01-04', 'D')"
      ]
     },
     "execution_count": 77,
     "metadata": {},
     "output_type": "execute_result"
    }
   ],
   "source": [
    "third_period"
   ]
  },
  {
   "cell_type": "code",
   "execution_count": 78,
   "metadata": {
    "ExecuteTime": {
     "end_time": "2021-02-13T09:13:47.185298Z",
     "start_time": "2021-02-13T09:13:47.169014Z"
    }
   },
   "outputs": [
    {
     "ename": "IncompatibleFrequency",
     "evalue": "Input has different freq=D from Period(freq=A-DEC)",
     "output_type": "error",
     "traceback": [
      "\u001b[0;31m---------------------------------------------------------------------------\u001b[0m",
      "\u001b[0;31mIncompatibleFrequency\u001b[0m                     Traceback (most recent call last)",
      "\u001b[0;32m<ipython-input-78-4685300b77f7>\u001b[0m in \u001b[0;36m<module>\u001b[0;34m\u001b[0m\n\u001b[0;32m----> 1\u001b[0;31m \u001b[0mfirst_period\u001b[0m \u001b[0;34m-\u001b[0m \u001b[0mthird_period\u001b[0m\u001b[0;34m\u001b[0m\u001b[0;34m\u001b[0m\u001b[0m\n\u001b[0m",
      "\u001b[0;32mpandas/_libs/tslibs/period.pyx\u001b[0m in \u001b[0;36mpandas._libs.tslibs.period._Period.__sub__\u001b[0;34m()\u001b[0m\n",
      "\u001b[0;31mIncompatibleFrequency\u001b[0m: Input has different freq=D from Period(freq=A-DEC)"
     ]
    }
   ],
   "source": [
    "first_period - third_period"
   ]
  },
  {
   "cell_type": "code",
   "execution_count": 79,
   "metadata": {
    "ExecuteTime": {
     "end_time": "2021-02-13T09:13:57.232527Z",
     "start_time": "2021-02-13T09:13:57.225818Z"
    }
   },
   "outputs": [
    {
     "ename": "TypeError",
     "evalue": "unsupported operand type(s) for +: 'Period' and 'Period'",
     "output_type": "error",
     "traceback": [
      "\u001b[0;31m---------------------------------------------------------------------------\u001b[0m",
      "\u001b[0;31mTypeError\u001b[0m                                 Traceback (most recent call last)",
      "\u001b[0;32m<ipython-input-79-22962b042e68>\u001b[0m in \u001b[0;36m<module>\u001b[0;34m\u001b[0m\n\u001b[0;32m----> 1\u001b[0;31m \u001b[0mfirst_period\u001b[0m \u001b[0;34m+\u001b[0m \u001b[0mthird_period\u001b[0m\u001b[0;34m\u001b[0m\u001b[0;34m\u001b[0m\u001b[0m\n\u001b[0m",
      "\u001b[0;32mpandas/_libs/tslibs/period.pyx\u001b[0m in \u001b[0;36mpandas._libs.tslibs.period._Period.__add__\u001b[0;34m()\u001b[0m\n",
      "\u001b[0;31mTypeError\u001b[0m: unsupported operand type(s) for +: 'Period' and 'Period'"
     ]
    }
   ],
   "source": [
    "first_period + third_period"
   ]
  },
  {
   "cell_type": "markdown",
   "metadata": {},
   "source": [
    " "
   ]
  },
  {
   "cell_type": "markdown",
   "metadata": {},
   "source": [
    "The key here is that the `Period` object encapsulates the granularity for arithmetic."
   ]
  },
  {
   "cell_type": "markdown",
   "metadata": {},
   "source": [
    "### Period Frequency Conversion\n",
    "\n",
    "\n",
    "---\n",
    "\n",
    "If it's not possible to do operations on period objects with different frequency. However we can perform frequency conversion and then do different operations."
   ]
  },
  {
   "cell_type": "code",
   "execution_count": 80,
   "metadata": {
    "ExecuteTime": {
     "end_time": "2021-02-13T09:19:22.560127Z",
     "start_time": "2021-02-13T09:19:22.557164Z"
    }
   },
   "outputs": [
    {
     "data": {
      "text/plain": [
       "Period('2020', 'A-DEC')"
      ]
     },
     "execution_count": 80,
     "metadata": {},
     "output_type": "execute_result"
    }
   ],
   "source": [
    "first_period"
   ]
  },
  {
   "cell_type": "markdown",
   "metadata": {},
   "source": [
    "Convert annual period into monthly period!"
   ]
  },
  {
   "cell_type": "code",
   "execution_count": 81,
   "metadata": {
    "ExecuteTime": {
     "end_time": "2021-02-13T09:19:45.381311Z",
     "start_time": "2021-02-13T09:19:45.377821Z"
    }
   },
   "outputs": [
    {
     "data": {
      "text/plain": [
       "Period('2020-01', 'M')"
      ]
     },
     "execution_count": 81,
     "metadata": {},
     "output_type": "execute_result"
    }
   ],
   "source": [
    "first_period.asfreq(freq=\"M\", how=\"start\") # Annual period to Monthly period"
   ]
  },
  {
   "cell_type": "code",
   "execution_count": 82,
   "metadata": {
    "ExecuteTime": {
     "end_time": "2021-02-13T09:20:02.266759Z",
     "start_time": "2021-02-13T09:20:02.262712Z"
    }
   },
   "outputs": [
    {
     "data": {
      "text/plain": [
       "Period('2020-01-01', 'D')"
      ]
     },
     "execution_count": 82,
     "metadata": {},
     "output_type": "execute_result"
    }
   ],
   "source": [
    "first_period_daily = first_period.asfreq(freq=\"D\", how=\"start\")\n",
    "\n",
    "\n",
    "first_period_daily"
   ]
  },
  {
   "cell_type": "code",
   "execution_count": 84,
   "metadata": {
    "ExecuteTime": {
     "end_time": "2021-02-13T09:20:19.287549Z",
     "start_time": "2021-02-13T09:20:19.284471Z"
    }
   },
   "outputs": [
    {
     "data": {
      "text/plain": [
       "Period('2021-01-04', 'D')"
      ]
     },
     "execution_count": 84,
     "metadata": {},
     "output_type": "execute_result"
    }
   ],
   "source": [
    "third_period"
   ]
  },
  {
   "cell_type": "code",
   "execution_count": 83,
   "metadata": {
    "ExecuteTime": {
     "end_time": "2021-02-13T09:20:11.161922Z",
     "start_time": "2021-02-13T09:20:11.157916Z"
    }
   },
   "outputs": [
    {
     "data": {
      "text/plain": [
       "<369 * Days>"
      ]
     },
     "execution_count": 83,
     "metadata": {},
     "output_type": "execute_result"
    }
   ],
   "source": [
    "third_period - first_period_daily"
   ]
  },
  {
   "cell_type": "markdown",
   "metadata": {},
   "source": [
    "## Date and Time Conversion\n",
    "\n",
    "---\n",
    "\n",
    "Converting strings into proper date object or vice versa is a crucial operation in Time Series data. For some type of operation we need to have a string representation of date and in some cases we need proper date/time object."
   ]
  },
  {
   "cell_type": "markdown",
   "metadata": {},
   "source": [
    "### Converting Between String and Datetime\n",
    "\n",
    "---\n",
    "\n",
    "We can convert string representation of a date into proper date object and vice versa either by using Python builtin `datetime` module or Pandas."
   ]
  },
  {
   "cell_type": "markdown",
   "metadata": {},
   "source": [
    "![alt text](images/format_table.png \"Title\")\n",
    "\n",
    "\n",
    "$$\n",
    "$$\n",
    "\n",
    "\n",
    "[**See this link for full reference**](https://www.w3schools.com/python/python_datetime.asp)"
   ]
  },
  {
   "cell_type": "markdown",
   "metadata": {},
   "source": [
    "**Datetime to String**"
   ]
  },
  {
   "cell_type": "code",
   "execution_count": 85,
   "metadata": {
    "ExecuteTime": {
     "end_time": "2021-02-13T09:21:19.300014Z",
     "start_time": "2021-02-13T09:21:19.296618Z"
    }
   },
   "outputs": [
    {
     "data": {
      "text/plain": [
       "datetime.datetime(2021, 1, 5, 10, 45)"
      ]
     },
     "execution_count": 85,
     "metadata": {},
     "output_type": "execute_result"
    }
   ],
   "source": [
    "single_stamp = datetime.datetime(year=2021, month=1, day=5, hour=10, minute=45)\n",
    "\n",
    "\n",
    "single_stamp"
   ]
  },
  {
   "cell_type": "code",
   "execution_count": 86,
   "metadata": {
    "ExecuteTime": {
     "end_time": "2021-02-13T09:21:31.750808Z",
     "start_time": "2021-02-13T09:21:31.746535Z"
    }
   },
   "outputs": [
    {
     "data": {
      "text/plain": [
       "'2021-01-05 10:45:00'"
      ]
     },
     "execution_count": 86,
     "metadata": {},
     "output_type": "execute_result"
    }
   ],
   "source": [
    "str(single_stamp) # From datetime to string"
   ]
  },
  {
   "cell_type": "code",
   "execution_count": 90,
   "metadata": {
    "ExecuteTime": {
     "end_time": "2021-02-13T09:23:06.348612Z",
     "start_time": "2021-02-13T09:23:06.342438Z"
    }
   },
   "outputs": [
    {
     "data": {
      "text/plain": [
       "'21:01:05:10:45'"
      ]
     },
     "execution_count": 90,
     "metadata": {},
     "output_type": "execute_result"
    }
   ],
   "source": [
    "single_stamp.strftime(format=\"%Y-%m-%d\")\n",
    "\n",
    "single_stamp.strftime(format=\"%y-%m-%d\")\n",
    "\n",
    "single_stamp.strftime(format=\"%y:%m:%d:%H:%M\")"
   ]
  },
  {
   "cell_type": "code",
   "execution_count": 95,
   "metadata": {
    "ExecuteTime": {
     "end_time": "2021-02-13T09:23:48.505302Z",
     "start_time": "2021-02-13T09:23:48.502007Z"
    }
   },
   "outputs": [
    {
     "data": {
      "text/plain": [
       "'2021'"
      ]
     },
     "execution_count": 95,
     "metadata": {},
     "output_type": "execute_result"
    }
   ],
   "source": [
    "single_stamp.strftime(\"%b\")\n",
    "\n",
    "single_stamp.strftime(\"%B\")"
   ]
  },
  {
   "cell_type": "markdown",
   "metadata": {},
   "source": [
    "**String to Datetime**"
   ]
  },
  {
   "cell_type": "code",
   "execution_count": 104,
   "metadata": {
    "ExecuteTime": {
     "end_time": "2021-02-13T09:26:40.063952Z",
     "start_time": "2021-02-13T09:26:40.061618Z"
    }
   },
   "outputs": [],
   "source": [
    "value = \"2021-1-05\""
   ]
  },
  {
   "cell_type": "code",
   "execution_count": 106,
   "metadata": {
    "ExecuteTime": {
     "end_time": "2021-02-13T09:26:51.436665Z",
     "start_time": "2021-02-13T09:26:51.433386Z"
    }
   },
   "outputs": [
    {
     "data": {
      "text/plain": [
       "Timestamp('2021-01-05 00:00:00')"
      ]
     },
     "execution_count": 106,
     "metadata": {},
     "output_type": "execute_result"
    }
   ],
   "source": [
    "pd.to_datetime(value) # from string to datetime"
   ]
  },
  {
   "cell_type": "code",
   "execution_count": 105,
   "metadata": {
    "ExecuteTime": {
     "end_time": "2021-02-13T09:26:42.359649Z",
     "start_time": "2021-02-13T09:26:42.356056Z"
    }
   },
   "outputs": [
    {
     "data": {
      "text/plain": [
       "datetime.datetime(2021, 1, 5, 0, 0)"
      ]
     },
     "execution_count": 105,
     "metadata": {},
     "output_type": "execute_result"
    }
   ],
   "source": [
    "datetime.datetime.strptime(value, \"%Y-%m-%d\") # We need to indicate EXACT format. Otherwise conversion does not work"
   ]
  },
  {
   "cell_type": "code",
   "execution_count": 107,
   "metadata": {
    "ExecuteTime": {
     "end_time": "2021-02-13T09:27:25.172563Z",
     "start_time": "2021-02-13T09:27:25.167117Z"
    }
   },
   "outputs": [
    {
     "data": {
      "text/plain": [
       "[datetime.datetime(2011, 7, 6, 0, 0), datetime.datetime(2011, 8, 6, 0, 0)]"
      ]
     },
     "execution_count": 107,
     "metadata": {},
     "output_type": "execute_result"
    }
   ],
   "source": [
    "date_strings = [\"7/6/2011\", \"8/6/2011\"]\n",
    "\n",
    "\n",
    "[datetime.datetime.strptime(x, '%m/%d/%Y') for x in date_strings]"
   ]
  },
  {
   "cell_type": "markdown",
   "metadata": {},
   "source": [
    "$$\n",
    "$$\n",
    "\n",
    "Pandas `to_datetime()` is not such a picky compared to `datetime.strptime()` in terms of date formatting.\n",
    "\n",
    "$$\n",
    "$$"
   ]
  },
  {
   "cell_type": "code",
   "execution_count": 108,
   "metadata": {
    "ExecuteTime": {
     "end_time": "2021-02-13T09:28:18.936906Z",
     "start_time": "2021-02-13T09:28:18.928781Z"
    }
   },
   "outputs": [
    {
     "data": {
      "text/plain": [
       "[Timestamp('2013-06-02 00:00:00'),\n",
       " Timestamp('2014-08-29 00:00:00'),\n",
       " Timestamp('2015-06-26 00:00:00'),\n",
       " Timestamp('2016-07-12 00:00:00')]"
      ]
     },
     "execution_count": 108,
     "metadata": {},
     "output_type": "execute_result"
    }
   ],
   "source": [
    "new_dates = [\"2 June 2013\", \"Aug 29, 2014\", \"2015-06-26\", \"7/12/16\"]\n",
    "\n",
    "[pd.to_datetime(i) for i in new_dates]"
   ]
  },
  {
   "cell_type": "markdown",
   "metadata": {},
   "source": [
    "`to_datetime()` method has option to change the date parse order."
   ]
  },
  {
   "cell_type": "code",
   "execution_count": 109,
   "metadata": {
    "ExecuteTime": {
     "end_time": "2021-02-13T09:28:37.471610Z",
     "start_time": "2021-02-13T09:28:37.468171Z"
    }
   },
   "outputs": [
    {
     "data": {
      "text/plain": [
       "Timestamp('2012-07-04 00:00:00')"
      ]
     },
     "execution_count": 109,
     "metadata": {},
     "output_type": "execute_result"
    }
   ],
   "source": [
    "pd.to_datetime(\"4.7.12\", dayfirst=True)"
   ]
  },
  {
   "cell_type": "code",
   "execution_count": 110,
   "metadata": {
    "ExecuteTime": {
     "end_time": "2021-02-13T09:28:55.627402Z",
     "start_time": "2021-02-13T09:28:55.623487Z"
    }
   },
   "outputs": [
    {
     "data": {
      "text/plain": [
       "Timestamp('2010-11-12 00:00:00')"
      ]
     },
     "execution_count": 110,
     "metadata": {},
     "output_type": "execute_result"
    }
   ],
   "source": [
    "pd.to_datetime(\"2010/11/12\", format=\"%Y/%m/%d\") # We can even indicate format argument"
   ]
  },
  {
   "cell_type": "markdown",
   "metadata": {},
   "source": [
    "$$\n",
    "$$\n",
    "\n",
    "Missing values in Time Series is represented as `Not a Time` or `NaT`"
   ]
  },
  {
   "cell_type": "code",
   "execution_count": 111,
   "metadata": {
    "ExecuteTime": {
     "end_time": "2021-02-13T09:29:12.203861Z",
     "start_time": "2021-02-13T09:29:12.195629Z"
    }
   },
   "outputs": [
    {
     "data": {
      "text/plain": [
       "DatetimeIndex(['NaT'], dtype='datetime64[ns]', freq=None)"
      ]
     },
     "execution_count": 111,
     "metadata": {},
     "output_type": "execute_result"
    }
   ],
   "source": [
    "pd.to_datetime([None])"
   ]
  },
  {
   "cell_type": "markdown",
   "metadata": {},
   "source": [
    "### Converting Timestamps to Periods\n",
    "\n",
    "---\n",
    "\n",
    "Series and DataFrame objects indexed by Timestamps can be converted to Periods with the `to_period()` method."
   ]
  },
  {
   "cell_type": "code",
   "execution_count": 112,
   "metadata": {
    "ExecuteTime": {
     "end_time": "2021-02-13T09:33:50.366908Z",
     "start_time": "2021-02-13T09:33:50.360580Z"
    }
   },
   "outputs": [
    {
     "data": {
      "text/plain": [
       "2000-01-31    4\n",
       "2000-02-29    3\n",
       "2000-03-31    3\n",
       "Freq: M, dtype: int64"
      ]
     },
     "execution_count": 112,
     "metadata": {},
     "output_type": "execute_result"
    }
   ],
   "source": [
    "rng = pd.date_range(\"2000-01-01\", periods=3, freq=\"M\")\n",
    "\n",
    "\n",
    "ts = pd.Series(np.random.randint(low=1, high=10, size=3), index=rng)\n",
    "\n",
    "\n",
    "ts"
   ]
  },
  {
   "cell_type": "code",
   "execution_count": 113,
   "metadata": {
    "ExecuteTime": {
     "end_time": "2021-02-13T09:34:04.381013Z",
     "start_time": "2021-02-13T09:34:04.378155Z"
    }
   },
   "outputs": [
    {
     "data": {
      "text/plain": [
       "pandas.core.indexes.datetimes.DatetimeIndex"
      ]
     },
     "execution_count": 113,
     "metadata": {},
     "output_type": "execute_result"
    }
   ],
   "source": [
    "type(ts.index)"
   ]
  },
  {
   "cell_type": "code",
   "execution_count": 114,
   "metadata": {
    "ExecuteTime": {
     "end_time": "2021-02-13T09:34:18.995465Z",
     "start_time": "2021-02-13T09:34:18.990774Z"
    }
   },
   "outputs": [
    {
     "data": {
      "text/plain": [
       "2000-01    4\n",
       "2000-02    3\n",
       "2000-03    3\n",
       "Freq: M, dtype: int64"
      ]
     },
     "execution_count": 114,
     "metadata": {},
     "output_type": "execute_result"
    }
   ],
   "source": [
    "new_ts = ts.to_period() # Convert Series from DatetimeIndex to PeriodIndex.\n",
    "\n",
    "\n",
    "new_ts"
   ]
  },
  {
   "cell_type": "code",
   "execution_count": null,
   "metadata": {
    "ExecuteTime": {
     "end_time": "2021-01-11T17:46:25.488151Z",
     "start_time": "2021-01-11T17:46:25.478802Z"
    }
   },
   "outputs": [],
   "source": [
    "type(new_ts.index)"
   ]
  },
  {
   "cell_type": "markdown",
   "metadata": {},
   "source": [
    "### Converting Periods to Timestamps\n",
    "\n",
    "---\n",
    "\n",
    "Series and DataFrame objects indexed by Periods can be converted to Timestamps with the `to_timestamp()` method."
   ]
  },
  {
   "cell_type": "code",
   "execution_count": 115,
   "metadata": {
    "ExecuteTime": {
     "end_time": "2021-02-13T09:34:36.302938Z",
     "start_time": "2021-02-13T09:34:36.298306Z"
    }
   },
   "outputs": [
    {
     "data": {
      "text/plain": [
       "2000-01    4\n",
       "2000-02    3\n",
       "2000-03    3\n",
       "Freq: M, dtype: int64"
      ]
     },
     "execution_count": 115,
     "metadata": {},
     "output_type": "execute_result"
    }
   ],
   "source": [
    "new_ts"
   ]
  },
  {
   "cell_type": "code",
   "execution_count": 116,
   "metadata": {
    "ExecuteTime": {
     "end_time": "2021-02-13T09:34:50.942000Z",
     "start_time": "2021-02-13T09:34:50.934878Z"
    }
   },
   "outputs": [
    {
     "data": {
      "text/plain": [
       "2000-01-01    4\n",
       "2000-02-01    3\n",
       "2000-03-01    3\n",
       "Freq: MS, dtype: int64"
      ]
     },
     "execution_count": 116,
     "metadata": {},
     "output_type": "execute_result"
    }
   ],
   "source": [
    "new_ts.to_timestamp()"
   ]
  },
  {
   "cell_type": "code",
   "execution_count": 117,
   "metadata": {
    "ExecuteTime": {
     "end_time": "2021-02-13T09:35:03.502945Z",
     "start_time": "2021-02-13T09:35:03.498230Z"
    }
   },
   "outputs": [
    {
     "data": {
      "text/plain": [
       "pandas.core.indexes.datetimes.DatetimeIndex"
      ]
     },
     "execution_count": 117,
     "metadata": {},
     "output_type": "execute_result"
    }
   ],
   "source": [
    "type(new_ts.to_timestamp().index)"
   ]
  },
  {
   "cell_type": "markdown",
   "metadata": {},
   "source": [
    "## Time Shifting\n",
    "\n",
    "---\n",
    "\n",
    "Shifting (Leading and Lagging) data refers to moving data backward and forward through time. Both Series and DataFrame have a `shift()` method for doing naive shifts forward or backward, leaving the index unmodified.\n",
    "\n",
    "When we shift like this, missing data is introduced either at the start or the end of the time series."
   ]
  },
  {
   "cell_type": "code",
   "execution_count": 118,
   "metadata": {
    "ExecuteTime": {
     "end_time": "2021-02-13T09:35:39.385699Z",
     "start_time": "2021-02-13T09:35:39.378044Z"
    }
   },
   "outputs": [
    {
     "data": {
      "text/plain": [
       "2021-01-11    3\n",
       "2021-01-12    1\n",
       "2021-01-13    3\n",
       "2021-01-14    4\n",
       "2021-01-15    8\n",
       "2021-01-16    5\n",
       "2021-01-17    8\n",
       "Freq: D, dtype: int64"
      ]
     },
     "execution_count": 118,
     "metadata": {},
     "output_type": "execute_result"
    }
   ],
   "source": [
    "np.random.seed(425)\n",
    "\n",
    "ts = pd.Series(data=np.random.randint(low=1, high=10, size=7),\n",
    "               index=pd.date_range(start=\"2021-01-11\", periods=7))\n",
    "\n",
    "\n",
    "ts"
   ]
  },
  {
   "cell_type": "markdown",
   "metadata": {},
   "source": [
    "**Forward Shift**"
   ]
  },
  {
   "cell_type": "code",
   "execution_count": 122,
   "metadata": {
    "ExecuteTime": {
     "end_time": "2021-02-13T09:36:54.428079Z",
     "start_time": "2021-02-13T09:36:54.421584Z"
    }
   },
   "outputs": [
    {
     "data": {
      "text/html": [
       "<div>\n",
       "<style scoped>\n",
       "    .dataframe tbody tr th:only-of-type {\n",
       "        vertical-align: middle;\n",
       "    }\n",
       "\n",
       "    .dataframe tbody tr th {\n",
       "        vertical-align: top;\n",
       "    }\n",
       "\n",
       "    .dataframe thead th {\n",
       "        text-align: right;\n",
       "    }\n",
       "</style>\n",
       "<table border=\"1\" class=\"dataframe\">\n",
       "  <thead>\n",
       "    <tr style=\"text-align: right;\">\n",
       "      <th></th>\n",
       "      <th>0</th>\n",
       "    </tr>\n",
       "  </thead>\n",
       "  <tbody>\n",
       "    <tr>\n",
       "      <th>2021-01-11</th>\n",
       "      <td>NaN</td>\n",
       "    </tr>\n",
       "    <tr>\n",
       "      <th>2021-01-12</th>\n",
       "      <td>NaN</td>\n",
       "    </tr>\n",
       "    <tr>\n",
       "      <th>2021-01-13</th>\n",
       "      <td>3.0</td>\n",
       "    </tr>\n",
       "    <tr>\n",
       "      <th>2021-01-14</th>\n",
       "      <td>1.0</td>\n",
       "    </tr>\n",
       "    <tr>\n",
       "      <th>2021-01-15</th>\n",
       "      <td>3.0</td>\n",
       "    </tr>\n",
       "    <tr>\n",
       "      <th>2021-01-16</th>\n",
       "      <td>4.0</td>\n",
       "    </tr>\n",
       "    <tr>\n",
       "      <th>2021-01-17</th>\n",
       "      <td>8.0</td>\n",
       "    </tr>\n",
       "  </tbody>\n",
       "</table>\n",
       "</div>"
      ],
      "text/plain": [
       "              0\n",
       "2021-01-11  NaN\n",
       "2021-01-12  NaN\n",
       "2021-01-13  3.0\n",
       "2021-01-14  1.0\n",
       "2021-01-15  3.0\n",
       "2021-01-16  4.0\n",
       "2021-01-17  8.0"
      ]
     },
     "execution_count": 122,
     "metadata": {},
     "output_type": "execute_result"
    }
   ],
   "source": [
    "pd.DataFrame(ts).shift(periods=2) # Shift index by desired number of periods"
   ]
  },
  {
   "cell_type": "markdown",
   "metadata": {},
   "source": [
    "If `freq` argument is specified then the index values are shifted but the data is not realigned."
   ]
  },
  {
   "cell_type": "code",
   "execution_count": 123,
   "metadata": {
    "ExecuteTime": {
     "end_time": "2021-02-13T09:37:09.718125Z",
     "start_time": "2021-02-13T09:37:09.708015Z"
    }
   },
   "outputs": [
    {
     "data": {
      "text/html": [
       "<div>\n",
       "<style scoped>\n",
       "    .dataframe tbody tr th:only-of-type {\n",
       "        vertical-align: middle;\n",
       "    }\n",
       "\n",
       "    .dataframe tbody tr th {\n",
       "        vertical-align: top;\n",
       "    }\n",
       "\n",
       "    .dataframe thead th {\n",
       "        text-align: right;\n",
       "    }\n",
       "</style>\n",
       "<table border=\"1\" class=\"dataframe\">\n",
       "  <thead>\n",
       "    <tr style=\"text-align: right;\">\n",
       "      <th></th>\n",
       "      <th>0</th>\n",
       "    </tr>\n",
       "  </thead>\n",
       "  <tbody>\n",
       "    <tr>\n",
       "      <th>2021-01-13</th>\n",
       "      <td>3</td>\n",
       "    </tr>\n",
       "    <tr>\n",
       "      <th>2021-01-14</th>\n",
       "      <td>1</td>\n",
       "    </tr>\n",
       "    <tr>\n",
       "      <th>2021-01-15</th>\n",
       "      <td>3</td>\n",
       "    </tr>\n",
       "    <tr>\n",
       "      <th>2021-01-16</th>\n",
       "      <td>4</td>\n",
       "    </tr>\n",
       "    <tr>\n",
       "      <th>2021-01-17</th>\n",
       "      <td>8</td>\n",
       "    </tr>\n",
       "    <tr>\n",
       "      <th>2021-01-18</th>\n",
       "      <td>5</td>\n",
       "    </tr>\n",
       "    <tr>\n",
       "      <th>2021-01-19</th>\n",
       "      <td>8</td>\n",
       "    </tr>\n",
       "  </tbody>\n",
       "</table>\n",
       "</div>"
      ],
      "text/plain": [
       "            0\n",
       "2021-01-13  3\n",
       "2021-01-14  1\n",
       "2021-01-15  3\n",
       "2021-01-16  4\n",
       "2021-01-17  8\n",
       "2021-01-18  5\n",
       "2021-01-19  8"
      ]
     },
     "execution_count": 123,
     "metadata": {},
     "output_type": "execute_result"
    }
   ],
   "source": [
    "pd.DataFrame(ts).shift(periods=2, freq=\"D\")"
   ]
  },
  {
   "cell_type": "code",
   "execution_count": 124,
   "metadata": {
    "ExecuteTime": {
     "end_time": "2021-02-13T09:37:17.435236Z",
     "start_time": "2021-02-13T09:37:17.430798Z"
    }
   },
   "outputs": [
    {
     "data": {
      "text/html": [
       "<div>\n",
       "<style scoped>\n",
       "    .dataframe tbody tr th:only-of-type {\n",
       "        vertical-align: middle;\n",
       "    }\n",
       "\n",
       "    .dataframe tbody tr th {\n",
       "        vertical-align: top;\n",
       "    }\n",
       "\n",
       "    .dataframe thead th {\n",
       "        text-align: right;\n",
       "    }\n",
       "</style>\n",
       "<table border=\"1\" class=\"dataframe\">\n",
       "  <thead>\n",
       "    <tr style=\"text-align: right;\">\n",
       "      <th></th>\n",
       "      <th>0</th>\n",
       "    </tr>\n",
       "  </thead>\n",
       "  <tbody>\n",
       "    <tr>\n",
       "      <th>2021-01-11</th>\n",
       "      <td>3</td>\n",
       "    </tr>\n",
       "    <tr>\n",
       "      <th>2021-01-12</th>\n",
       "      <td>1</td>\n",
       "    </tr>\n",
       "    <tr>\n",
       "      <th>2021-01-13</th>\n",
       "      <td>3</td>\n",
       "    </tr>\n",
       "    <tr>\n",
       "      <th>2021-01-14</th>\n",
       "      <td>4</td>\n",
       "    </tr>\n",
       "    <tr>\n",
       "      <th>2021-01-15</th>\n",
       "      <td>8</td>\n",
       "    </tr>\n",
       "    <tr>\n",
       "      <th>2021-01-16</th>\n",
       "      <td>5</td>\n",
       "    </tr>\n",
       "    <tr>\n",
       "      <th>2021-01-17</th>\n",
       "      <td>8</td>\n",
       "    </tr>\n",
       "  </tbody>\n",
       "</table>\n",
       "</div>"
      ],
      "text/plain": [
       "            0\n",
       "2021-01-11  3\n",
       "2021-01-12  1\n",
       "2021-01-13  3\n",
       "2021-01-14  4\n",
       "2021-01-15  8\n",
       "2021-01-16  5\n",
       "2021-01-17  8"
      ]
     },
     "execution_count": 124,
     "metadata": {},
     "output_type": "execute_result"
    }
   ],
   "source": [
    "pd.DataFrame(ts)"
   ]
  },
  {
   "cell_type": "markdown",
   "metadata": {},
   "source": [
    "**Backward Shift**"
   ]
  },
  {
   "cell_type": "code",
   "execution_count": 125,
   "metadata": {
    "ExecuteTime": {
     "end_time": "2021-02-13T09:37:32.600958Z",
     "start_time": "2021-02-13T09:37:32.590740Z"
    }
   },
   "outputs": [
    {
     "data": {
      "text/html": [
       "<div>\n",
       "<style scoped>\n",
       "    .dataframe tbody tr th:only-of-type {\n",
       "        vertical-align: middle;\n",
       "    }\n",
       "\n",
       "    .dataframe tbody tr th {\n",
       "        vertical-align: top;\n",
       "    }\n",
       "\n",
       "    .dataframe thead th {\n",
       "        text-align: right;\n",
       "    }\n",
       "</style>\n",
       "<table border=\"1\" class=\"dataframe\">\n",
       "  <thead>\n",
       "    <tr style=\"text-align: right;\">\n",
       "      <th></th>\n",
       "      <th>0</th>\n",
       "    </tr>\n",
       "  </thead>\n",
       "  <tbody>\n",
       "    <tr>\n",
       "      <th>2021-01-11</th>\n",
       "      <td>3.0</td>\n",
       "    </tr>\n",
       "    <tr>\n",
       "      <th>2021-01-12</th>\n",
       "      <td>4.0</td>\n",
       "    </tr>\n",
       "    <tr>\n",
       "      <th>2021-01-13</th>\n",
       "      <td>8.0</td>\n",
       "    </tr>\n",
       "    <tr>\n",
       "      <th>2021-01-14</th>\n",
       "      <td>5.0</td>\n",
       "    </tr>\n",
       "    <tr>\n",
       "      <th>2021-01-15</th>\n",
       "      <td>8.0</td>\n",
       "    </tr>\n",
       "    <tr>\n",
       "      <th>2021-01-16</th>\n",
       "      <td>NaN</td>\n",
       "    </tr>\n",
       "    <tr>\n",
       "      <th>2021-01-17</th>\n",
       "      <td>NaN</td>\n",
       "    </tr>\n",
       "  </tbody>\n",
       "</table>\n",
       "</div>"
      ],
      "text/plain": [
       "              0\n",
       "2021-01-11  3.0\n",
       "2021-01-12  4.0\n",
       "2021-01-13  8.0\n",
       "2021-01-14  5.0\n",
       "2021-01-15  8.0\n",
       "2021-01-16  NaN\n",
       "2021-01-17  NaN"
      ]
     },
     "execution_count": 125,
     "metadata": {},
     "output_type": "execute_result"
    }
   ],
   "source": [
    "pd.DataFrame(ts).shift(periods=-2) # Shift index by desired number of periods"
   ]
  },
  {
   "cell_type": "code",
   "execution_count": 126,
   "metadata": {
    "ExecuteTime": {
     "end_time": "2021-02-13T09:37:42.810699Z",
     "start_time": "2021-02-13T09:37:42.802240Z"
    }
   },
   "outputs": [
    {
     "data": {
      "text/html": [
       "<div>\n",
       "<style scoped>\n",
       "    .dataframe tbody tr th:only-of-type {\n",
       "        vertical-align: middle;\n",
       "    }\n",
       "\n",
       "    .dataframe tbody tr th {\n",
       "        vertical-align: top;\n",
       "    }\n",
       "\n",
       "    .dataframe thead th {\n",
       "        text-align: right;\n",
       "    }\n",
       "</style>\n",
       "<table border=\"1\" class=\"dataframe\">\n",
       "  <thead>\n",
       "    <tr style=\"text-align: right;\">\n",
       "      <th></th>\n",
       "      <th>0</th>\n",
       "    </tr>\n",
       "  </thead>\n",
       "  <tbody>\n",
       "    <tr>\n",
       "      <th>2021-01-09</th>\n",
       "      <td>3</td>\n",
       "    </tr>\n",
       "    <tr>\n",
       "      <th>2021-01-10</th>\n",
       "      <td>1</td>\n",
       "    </tr>\n",
       "    <tr>\n",
       "      <th>2021-01-11</th>\n",
       "      <td>3</td>\n",
       "    </tr>\n",
       "    <tr>\n",
       "      <th>2021-01-12</th>\n",
       "      <td>4</td>\n",
       "    </tr>\n",
       "    <tr>\n",
       "      <th>2021-01-13</th>\n",
       "      <td>8</td>\n",
       "    </tr>\n",
       "    <tr>\n",
       "      <th>2021-01-14</th>\n",
       "      <td>5</td>\n",
       "    </tr>\n",
       "    <tr>\n",
       "      <th>2021-01-15</th>\n",
       "      <td>8</td>\n",
       "    </tr>\n",
       "  </tbody>\n",
       "</table>\n",
       "</div>"
      ],
      "text/plain": [
       "            0\n",
       "2021-01-09  3\n",
       "2021-01-10  1\n",
       "2021-01-11  3\n",
       "2021-01-12  4\n",
       "2021-01-13  8\n",
       "2021-01-14  5\n",
       "2021-01-15  8"
      ]
     },
     "execution_count": 126,
     "metadata": {},
     "output_type": "execute_result"
    }
   ],
   "source": [
    "pd.DataFrame(ts).shift(periods=-2, freq=\"D\") # Shift index by desired number of periods"
   ]
  },
  {
   "cell_type": "code",
   "execution_count": 127,
   "metadata": {
    "ExecuteTime": {
     "end_time": "2021-02-13T09:37:47.565803Z",
     "start_time": "2021-02-13T09:37:47.553041Z"
    }
   },
   "outputs": [
    {
     "data": {
      "text/html": [
       "<div>\n",
       "<style scoped>\n",
       "    .dataframe tbody tr th:only-of-type {\n",
       "        vertical-align: middle;\n",
       "    }\n",
       "\n",
       "    .dataframe tbody tr th {\n",
       "        vertical-align: top;\n",
       "    }\n",
       "\n",
       "    .dataframe thead th {\n",
       "        text-align: right;\n",
       "    }\n",
       "</style>\n",
       "<table border=\"1\" class=\"dataframe\">\n",
       "  <thead>\n",
       "    <tr style=\"text-align: right;\">\n",
       "      <th></th>\n",
       "      <th>0</th>\n",
       "    </tr>\n",
       "  </thead>\n",
       "  <tbody>\n",
       "    <tr>\n",
       "      <th>2021-01-11</th>\n",
       "      <td>3</td>\n",
       "    </tr>\n",
       "    <tr>\n",
       "      <th>2021-01-12</th>\n",
       "      <td>1</td>\n",
       "    </tr>\n",
       "    <tr>\n",
       "      <th>2021-01-13</th>\n",
       "      <td>3</td>\n",
       "    </tr>\n",
       "    <tr>\n",
       "      <th>2021-01-14</th>\n",
       "      <td>4</td>\n",
       "    </tr>\n",
       "    <tr>\n",
       "      <th>2021-01-15</th>\n",
       "      <td>8</td>\n",
       "    </tr>\n",
       "    <tr>\n",
       "      <th>2021-01-16</th>\n",
       "      <td>5</td>\n",
       "    </tr>\n",
       "    <tr>\n",
       "      <th>2021-01-17</th>\n",
       "      <td>8</td>\n",
       "    </tr>\n",
       "  </tbody>\n",
       "</table>\n",
       "</div>"
      ],
      "text/plain": [
       "            0\n",
       "2021-01-11  3\n",
       "2021-01-12  1\n",
       "2021-01-13  3\n",
       "2021-01-14  4\n",
       "2021-01-15  8\n",
       "2021-01-16  5\n",
       "2021-01-17  8"
      ]
     },
     "execution_count": 127,
     "metadata": {},
     "output_type": "execute_result"
    }
   ],
   "source": [
    "pd.DataFrame(ts)"
   ]
  },
  {
   "cell_type": "markdown",
   "metadata": {},
   "source": [
    "## Rasampling\n",
    "\n",
    "---\n",
    "\n",
    "Resampling refers to the process of converting a time series from one frequency to another. Aggregating higher frequency data to lower frequency is called `downsampling`, while converting lower frequency to higher frequency is called `upsampling`.\n",
    "\n",
    "\n",
    "`resample()` is a time-based `groupby()`, followed by a reduction method on each of its groups."
   ]
  },
  {
   "cell_type": "markdown",
   "metadata": {},
   "source": [
    "#### Reference\n",
    "\n",
    "\n",
    "[Resampling](https://pandas.pydata.org/pandas-docs/stable/user_guide/timeseries.html#timeseries-resampling)"
   ]
  },
  {
   "cell_type": "code",
   "execution_count": 128,
   "metadata": {
    "ExecuteTime": {
     "end_time": "2021-02-13T09:41:08.473606Z",
     "start_time": "2021-02-13T09:41:08.465044Z"
    }
   },
   "outputs": [
    {
     "data": {
      "text/plain": [
       "2021-01-01 12:00:00+00:00    10\n",
       "2021-01-02 12:00:00+00:00    13\n",
       "2021-01-03 12:00:00+00:00     5\n",
       "2021-01-04 12:00:00+00:00     8\n",
       "2021-01-05 12:00:00+00:00    16\n",
       "                             ..\n",
       "2021-04-26 12:00:00+00:00     1\n",
       "2021-04-27 12:00:00+00:00    14\n",
       "2021-04-28 12:00:00+00:00    14\n",
       "2021-04-29 12:00:00+00:00     7\n",
       "2021-04-30 12:00:00+00:00    18\n",
       "Freq: D, Length: 120, dtype: int64"
      ]
     },
     "execution_count": 128,
     "metadata": {},
     "output_type": "execute_result"
    }
   ],
   "source": [
    "date_range = pd.date_range(\"2021-01-01-12-00\", periods=120, freq=\"D\")\n",
    "\n",
    "df = pd.Series(data=np.random.randint(low=1, high=20, size=120),\n",
    "               index=date_range)\n",
    "\n",
    "\n",
    "df"
   ]
  },
  {
   "cell_type": "code",
   "execution_count": 129,
   "metadata": {
    "ExecuteTime": {
     "end_time": "2021-02-13T09:41:29.143015Z",
     "start_time": "2021-02-13T09:41:29.139226Z"
    }
   },
   "outputs": [
    {
     "data": {
      "text/plain": [
       "pandas.core.indexes.datetimes.DatetimeIndex"
      ]
     },
     "execution_count": 129,
     "metadata": {},
     "output_type": "execute_result"
    }
   ],
   "source": [
    "type(df.index)"
   ]
  },
  {
   "cell_type": "code",
   "execution_count": 130,
   "metadata": {
    "ExecuteTime": {
     "end_time": "2021-02-13T09:41:31.904973Z",
     "start_time": "2021-02-13T09:41:31.901812Z"
    }
   },
   "outputs": [
    {
     "data": {
      "text/plain": [
       "DatetimeIndex(['2021-01-01 12:00:00+00:00', '2021-01-02 12:00:00+00:00',\n",
       "               '2021-01-03 12:00:00+00:00', '2021-01-04 12:00:00+00:00',\n",
       "               '2021-01-05 12:00:00+00:00', '2021-01-06 12:00:00+00:00',\n",
       "               '2021-01-07 12:00:00+00:00', '2021-01-08 12:00:00+00:00',\n",
       "               '2021-01-09 12:00:00+00:00', '2021-01-10 12:00:00+00:00',\n",
       "               ...\n",
       "               '2021-04-21 12:00:00+00:00', '2021-04-22 12:00:00+00:00',\n",
       "               '2021-04-23 12:00:00+00:00', '2021-04-24 12:00:00+00:00',\n",
       "               '2021-04-25 12:00:00+00:00', '2021-04-26 12:00:00+00:00',\n",
       "               '2021-04-27 12:00:00+00:00', '2021-04-28 12:00:00+00:00',\n",
       "               '2021-04-29 12:00:00+00:00', '2021-04-30 12:00:00+00:00'],\n",
       "              dtype='datetime64[ns, tzutc()]', length=120, freq='D')"
      ]
     },
     "execution_count": 130,
     "metadata": {},
     "output_type": "execute_result"
    }
   ],
   "source": [
    "df.index"
   ]
  },
  {
   "cell_type": "markdown",
   "metadata": {},
   "source": [
    "### Downsampling"
   ]
  },
  {
   "cell_type": "code",
   "execution_count": 131,
   "metadata": {
    "ExecuteTime": {
     "end_time": "2021-02-13T09:41:46.622877Z",
     "start_time": "2021-02-13T09:41:46.619025Z"
    }
   },
   "outputs": [
    {
     "data": {
      "text/plain": [
       "2021-01-01 12:00:00+00:00    10\n",
       "2021-01-02 12:00:00+00:00    13\n",
       "2021-01-03 12:00:00+00:00     5\n",
       "2021-01-04 12:00:00+00:00     8\n",
       "2021-01-05 12:00:00+00:00    16\n",
       "                             ..\n",
       "2021-04-26 12:00:00+00:00     1\n",
       "2021-04-27 12:00:00+00:00    14\n",
       "2021-04-28 12:00:00+00:00    14\n",
       "2021-04-29 12:00:00+00:00     7\n",
       "2021-04-30 12:00:00+00:00    18\n",
       "Freq: D, Length: 120, dtype: int64"
      ]
     },
     "execution_count": 131,
     "metadata": {},
     "output_type": "execute_result"
    }
   ],
   "source": [
    "df"
   ]
  },
  {
   "cell_type": "markdown",
   "metadata": {},
   "source": [
    "Aggregate data into month chunks by taking the sum of each group."
   ]
  },
  {
   "cell_type": "code",
   "execution_count": 132,
   "metadata": {
    "ExecuteTime": {
     "end_time": "2021-02-13T09:42:19.264763Z",
     "start_time": "2021-02-13T09:42:19.259997Z"
    }
   },
   "outputs": [
    {
     "data": {
      "text/plain": [
       "2021-01-31 00:00:00+00:00    327\n",
       "2021-02-28 00:00:00+00:00    285\n",
       "2021-03-31 00:00:00+00:00    335\n",
       "2021-04-30 00:00:00+00:00    301\n",
       "Freq: M, dtype: int64"
      ]
     },
     "execution_count": 132,
     "metadata": {},
     "output_type": "execute_result"
    }
   ],
   "source": [
    "df.resample(rule=\"M\").sum()"
   ]
  },
  {
   "cell_type": "code",
   "execution_count": 133,
   "metadata": {
    "ExecuteTime": {
     "end_time": "2021-02-13T09:42:49.233777Z",
     "start_time": "2021-02-13T09:42:49.226063Z"
    }
   },
   "outputs": [
    {
     "data": {
      "text/plain": [
       "2021-01-31 00:00:00+00:00    10.548387\n",
       "2021-02-28 00:00:00+00:00    10.178571\n",
       "2021-03-31 00:00:00+00:00    10.806452\n",
       "2021-04-30 00:00:00+00:00    10.033333\n",
       "Freq: M, dtype: float64"
      ]
     },
     "execution_count": 133,
     "metadata": {},
     "output_type": "execute_result"
    }
   ],
   "source": [
    "df.resample(rule=\"M\").mean()"
   ]
  },
  {
   "cell_type": "code",
   "execution_count": 134,
   "metadata": {
    "ExecuteTime": {
     "end_time": "2021-02-13T09:43:15.287509Z",
     "start_time": "2021-02-13T09:43:15.280140Z"
    }
   },
   "outputs": [
    {
     "data": {
      "text/plain": [
       "2021-01    327\n",
       "2021-02    285\n",
       "2021-03    335\n",
       "2021-04    301\n",
       "Freq: M, dtype: int64"
      ]
     },
     "execution_count": 134,
     "metadata": {},
     "output_type": "execute_result"
    }
   ],
   "source": [
    "df.resample(rule=\"M\", kind=\"period\").sum() # Convert resulting index to \"PeriodIndex\""
   ]
  },
  {
   "cell_type": "markdown",
   "metadata": {},
   "source": [
    "#### Open-High-Low-Close (OHLC) resampling\n",
    "\n",
    "---\n",
    "\n",
    "In finance, a popular way to aggregate a time series is to compute four values for each bucket: the first (open), last (close), maximum (high), and minimal (low) values.\n",
    "\n",
    "\n",
    "\n",
    "\n",
    "\n",
    "* (open, first)\n",
    "\n",
    "\n",
    "* (high, max)\n",
    "\n",
    "\n",
    "* (low, min)\n",
    "\n",
    "\n",
    "* (close, last)"
   ]
  },
  {
   "cell_type": "code",
   "execution_count": 135,
   "metadata": {
    "ExecuteTime": {
     "end_time": "2021-02-13T09:45:07.798614Z",
     "start_time": "2021-02-13T09:45:07.793225Z"
    }
   },
   "outputs": [
    {
     "data": {
      "text/plain": [
       "2021-01-01 12:00:00+00:00    10\n",
       "2021-01-02 12:00:00+00:00    13\n",
       "2021-01-03 12:00:00+00:00     5\n",
       "2021-01-04 12:00:00+00:00     8\n",
       "2021-01-05 12:00:00+00:00    16\n",
       "                             ..\n",
       "2021-04-26 12:00:00+00:00     1\n",
       "2021-04-27 12:00:00+00:00    14\n",
       "2021-04-28 12:00:00+00:00    14\n",
       "2021-04-29 12:00:00+00:00     7\n",
       "2021-04-30 12:00:00+00:00    18\n",
       "Freq: D, Length: 120, dtype: int64"
      ]
     },
     "execution_count": 135,
     "metadata": {},
     "output_type": "execute_result"
    }
   ],
   "source": [
    "df"
   ]
  },
  {
   "cell_type": "code",
   "execution_count": 136,
   "metadata": {
    "ExecuteTime": {
     "end_time": "2021-02-13T09:45:33.266418Z",
     "start_time": "2021-02-13T09:45:33.254870Z"
    }
   },
   "outputs": [
    {
     "data": {
      "text/html": [
       "<div>\n",
       "<style scoped>\n",
       "    .dataframe tbody tr th:only-of-type {\n",
       "        vertical-align: middle;\n",
       "    }\n",
       "\n",
       "    .dataframe tbody tr th {\n",
       "        vertical-align: top;\n",
       "    }\n",
       "\n",
       "    .dataframe thead th {\n",
       "        text-align: right;\n",
       "    }\n",
       "</style>\n",
       "<table border=\"1\" class=\"dataframe\">\n",
       "  <thead>\n",
       "    <tr style=\"text-align: right;\">\n",
       "      <th></th>\n",
       "      <th>open</th>\n",
       "      <th>high</th>\n",
       "      <th>low</th>\n",
       "      <th>close</th>\n",
       "    </tr>\n",
       "  </thead>\n",
       "  <tbody>\n",
       "    <tr>\n",
       "      <th>2021-01-31 00:00:00+00:00</th>\n",
       "      <td>10</td>\n",
       "      <td>19</td>\n",
       "      <td>1</td>\n",
       "      <td>3</td>\n",
       "    </tr>\n",
       "    <tr>\n",
       "      <th>2021-02-28 00:00:00+00:00</th>\n",
       "      <td>8</td>\n",
       "      <td>19</td>\n",
       "      <td>1</td>\n",
       "      <td>19</td>\n",
       "    </tr>\n",
       "    <tr>\n",
       "      <th>2021-03-31 00:00:00+00:00</th>\n",
       "      <td>9</td>\n",
       "      <td>19</td>\n",
       "      <td>3</td>\n",
       "      <td>19</td>\n",
       "    </tr>\n",
       "    <tr>\n",
       "      <th>2021-04-30 00:00:00+00:00</th>\n",
       "      <td>12</td>\n",
       "      <td>19</td>\n",
       "      <td>1</td>\n",
       "      <td>18</td>\n",
       "    </tr>\n",
       "  </tbody>\n",
       "</table>\n",
       "</div>"
      ],
      "text/plain": [
       "                           open  high  low  close\n",
       "2021-01-31 00:00:00+00:00    10    19    1      3\n",
       "2021-02-28 00:00:00+00:00     8    19    1     19\n",
       "2021-03-31 00:00:00+00:00     9    19    3     19\n",
       "2021-04-30 00:00:00+00:00    12    19    1     18"
      ]
     },
     "execution_count": 136,
     "metadata": {},
     "output_type": "execute_result"
    }
   ],
   "source": [
    "df.resample(\"M\").ohlc()"
   ]
  },
  {
   "cell_type": "code",
   "execution_count": 137,
   "metadata": {
    "ExecuteTime": {
     "end_time": "2021-02-13T09:46:09.131273Z",
     "start_time": "2021-02-13T09:46:09.125697Z"
    }
   },
   "outputs": [
    {
     "data": {
      "text/plain": [
       "2021-01-03 00:00:00+00:00     9.333333\n",
       "2021-01-10 00:00:00+00:00    13.285714\n",
       "2021-01-17 00:00:00+00:00     9.428571\n",
       "2021-01-24 00:00:00+00:00     9.857143\n",
       "2021-01-31 00:00:00+00:00    10.142857\n",
       "2021-02-07 00:00:00+00:00     7.000000\n",
       "2021-02-14 00:00:00+00:00    10.571429\n",
       "2021-02-21 00:00:00+00:00    12.285714\n",
       "2021-02-28 00:00:00+00:00    10.857143\n",
       "2021-03-07 00:00:00+00:00    11.142857\n",
       "2021-03-14 00:00:00+00:00    13.142857\n",
       "2021-03-21 00:00:00+00:00     8.000000\n",
       "2021-03-28 00:00:00+00:00    10.714286\n",
       "2021-04-04 00:00:00+00:00     9.428571\n",
       "2021-04-11 00:00:00+00:00    13.428571\n",
       "2021-04-18 00:00:00+00:00     7.285714\n",
       "2021-04-25 00:00:00+00:00    10.000000\n",
       "2021-05-02 00:00:00+00:00    10.800000\n",
       "Freq: W-SUN, dtype: float64"
      ]
     },
     "execution_count": 137,
     "metadata": {},
     "output_type": "execute_result"
    }
   ],
   "source": [
    "df = df.resample(rule=\"W\").mean() # Week average\n",
    "\n",
    "df"
   ]
  },
  {
   "cell_type": "markdown",
   "metadata": {},
   "source": [
    "### Upsampling\n",
    "\n",
    "\n",
    "---\n",
    "\n",
    "Compared to downsampling, when doing upsampling we don't need an aggregation function. We use the asfreq method to convert to the higher frequency without any aggregation."
   ]
  },
  {
   "cell_type": "code",
   "execution_count": 138,
   "metadata": {
    "ExecuteTime": {
     "end_time": "2021-02-13T09:46:49.501283Z",
     "start_time": "2021-02-13T09:46:49.496457Z"
    }
   },
   "outputs": [
    {
     "data": {
      "text/plain": [
       "2021-01-03 00:00:00+00:00     9.333333\n",
       "2021-01-10 00:00:00+00:00    13.285714\n",
       "2021-01-17 00:00:00+00:00     9.428571\n",
       "2021-01-24 00:00:00+00:00     9.857143\n",
       "2021-01-31 00:00:00+00:00    10.142857\n",
       "2021-02-07 00:00:00+00:00     7.000000\n",
       "2021-02-14 00:00:00+00:00    10.571429\n",
       "2021-02-21 00:00:00+00:00    12.285714\n",
       "2021-02-28 00:00:00+00:00    10.857143\n",
       "2021-03-07 00:00:00+00:00    11.142857\n",
       "2021-03-14 00:00:00+00:00    13.142857\n",
       "2021-03-21 00:00:00+00:00     8.000000\n",
       "2021-03-28 00:00:00+00:00    10.714286\n",
       "2021-04-04 00:00:00+00:00     9.428571\n",
       "2021-04-11 00:00:00+00:00    13.428571\n",
       "2021-04-18 00:00:00+00:00     7.285714\n",
       "2021-04-25 00:00:00+00:00    10.000000\n",
       "2021-05-02 00:00:00+00:00    10.800000\n",
       "Freq: W-SUN, dtype: float64"
      ]
     },
     "execution_count": 138,
     "metadata": {},
     "output_type": "execute_result"
    }
   ],
   "source": [
    "df # Week average"
   ]
  },
  {
   "cell_type": "code",
   "execution_count": 139,
   "metadata": {
    "ExecuteTime": {
     "end_time": "2021-02-13T09:47:11.937614Z",
     "start_time": "2021-02-13T09:47:11.929959Z"
    }
   },
   "outputs": [
    {
     "data": {
      "text/plain": [
       "2021-01-03 00:00:00+00:00     9.333333\n",
       "2021-01-04 00:00:00+00:00          NaN\n",
       "2021-01-05 00:00:00+00:00          NaN\n",
       "2021-01-06 00:00:00+00:00          NaN\n",
       "2021-01-07 00:00:00+00:00          NaN\n",
       "                               ...    \n",
       "2021-04-28 00:00:00+00:00          NaN\n",
       "2021-04-29 00:00:00+00:00          NaN\n",
       "2021-04-30 00:00:00+00:00          NaN\n",
       "2021-05-01 00:00:00+00:00          NaN\n",
       "2021-05-02 00:00:00+00:00    10.800000\n",
       "Freq: D, Length: 120, dtype: float64"
      ]
     },
     "execution_count": 139,
     "metadata": {},
     "output_type": "execute_result"
    }
   ],
   "source": [
    "df.resample(rule=\"D\").asfreq()"
   ]
  },
  {
   "cell_type": "code",
   "execution_count": 140,
   "metadata": {
    "ExecuteTime": {
     "end_time": "2021-02-13T09:48:08.518060Z",
     "start_time": "2021-02-13T09:48:08.510143Z"
    }
   },
   "outputs": [
    {
     "data": {
      "text/plain": [
       "2021-01-03 00:00:00+00:00     9.333333\n",
       "2021-01-04 00:00:00+00:00     9.333333\n",
       "2021-01-05 00:00:00+00:00     9.333333\n",
       "2021-01-06 00:00:00+00:00     9.333333\n",
       "2021-01-07 00:00:00+00:00     9.333333\n",
       "                               ...    \n",
       "2021-04-28 00:00:00+00:00    10.000000\n",
       "2021-04-29 00:00:00+00:00    10.000000\n",
       "2021-04-30 00:00:00+00:00    10.000000\n",
       "2021-05-01 00:00:00+00:00    10.000000\n",
       "2021-05-02 00:00:00+00:00    10.800000\n",
       "Freq: D, Length: 120, dtype: float64"
      ]
     },
     "execution_count": 140,
     "metadata": {},
     "output_type": "execute_result"
    }
   ],
   "source": [
    "df.resample(rule=\"D\").ffill()"
   ]
  },
  {
   "cell_type": "markdown",
   "metadata": {},
   "source": [
    "$$\n",
    "$$\n",
    "\n",
    "\n",
    "We can resample our Series or DataFrame and then apply different functions"
   ]
  },
  {
   "cell_type": "code",
   "execution_count": 141,
   "metadata": {
    "ExecuteTime": {
     "end_time": "2021-02-13T09:48:25.252931Z",
     "start_time": "2021-02-13T09:48:25.250286Z"
    }
   },
   "outputs": [],
   "source": [
    "res = df.resample(rule=\"M\")"
   ]
  },
  {
   "cell_type": "code",
   "execution_count": 142,
   "metadata": {
    "ExecuteTime": {
     "end_time": "2021-02-13T09:48:30.434374Z",
     "start_time": "2021-02-13T09:48:30.427244Z"
    }
   },
   "outputs": [
    {
     "data": {
      "text/plain": [
       "<pandas.core.resample.DatetimeIndexResampler object at 0x7fcff9416090>"
      ]
     },
     "execution_count": 142,
     "metadata": {},
     "output_type": "execute_result"
    }
   ],
   "source": [
    "res"
   ]
  },
  {
   "cell_type": "code",
   "execution_count": 143,
   "metadata": {
    "ExecuteTime": {
     "end_time": "2021-02-13T09:49:09.468085Z",
     "start_time": "2021-02-13T09:49:09.453170Z"
    }
   },
   "outputs": [
    {
     "data": {
      "text/html": [
       "<div>\n",
       "<style scoped>\n",
       "    .dataframe tbody tr th:only-of-type {\n",
       "        vertical-align: middle;\n",
       "    }\n",
       "\n",
       "    .dataframe tbody tr th {\n",
       "        vertical-align: top;\n",
       "    }\n",
       "\n",
       "    .dataframe thead th {\n",
       "        text-align: right;\n",
       "    }\n",
       "</style>\n",
       "<table border=\"1\" class=\"dataframe\">\n",
       "  <thead>\n",
       "    <tr style=\"text-align: right;\">\n",
       "      <th></th>\n",
       "      <th>sum</th>\n",
       "      <th>mean</th>\n",
       "      <th>std</th>\n",
       "    </tr>\n",
       "  </thead>\n",
       "  <tbody>\n",
       "    <tr>\n",
       "      <th>2021-01-31 00:00:00+00:00</th>\n",
       "      <td>52.047619</td>\n",
       "      <td>10.409524</td>\n",
       "      <td>1.640820</td>\n",
       "    </tr>\n",
       "    <tr>\n",
       "      <th>2021-02-28 00:00:00+00:00</th>\n",
       "      <td>40.714286</td>\n",
       "      <td>10.178571</td>\n",
       "      <td>2.247826</td>\n",
       "    </tr>\n",
       "    <tr>\n",
       "      <th>2021-03-31 00:00:00+00:00</th>\n",
       "      <td>43.000000</td>\n",
       "      <td>10.750000</td>\n",
       "      <td>2.116906</td>\n",
       "    </tr>\n",
       "    <tr>\n",
       "      <th>2021-04-30 00:00:00+00:00</th>\n",
       "      <td>40.142857</td>\n",
       "      <td>10.035714</td>\n",
       "      <td>2.545838</td>\n",
       "    </tr>\n",
       "    <tr>\n",
       "      <th>2021-05-31 00:00:00+00:00</th>\n",
       "      <td>10.800000</td>\n",
       "      <td>10.800000</td>\n",
       "      <td>NaN</td>\n",
       "    </tr>\n",
       "  </tbody>\n",
       "</table>\n",
       "</div>"
      ],
      "text/plain": [
       "                                 sum       mean       std\n",
       "2021-01-31 00:00:00+00:00  52.047619  10.409524  1.640820\n",
       "2021-02-28 00:00:00+00:00  40.714286  10.178571  2.247826\n",
       "2021-03-31 00:00:00+00:00  43.000000  10.750000  2.116906\n",
       "2021-04-30 00:00:00+00:00  40.142857  10.035714  2.545838\n",
       "2021-05-31 00:00:00+00:00  10.800000  10.800000       NaN"
      ]
     },
     "execution_count": 143,
     "metadata": {},
     "output_type": "execute_result"
    }
   ],
   "source": [
    "res.aggregate([np.sum, np.mean, np.std])"
   ]
  },
  {
   "cell_type": "markdown",
   "metadata": {},
   "source": [
    "## Moving Window Functions\n",
    "\n",
    "---\n",
    "\n",
    "An important class of array transformations used for Time Series operations are statistics and other functions evaluated over a sliding window - the function that performs an aggregation over a sliding partition of values."
   ]
  },
  {
   "cell_type": "markdown",
   "metadata": {},
   "source": [
    "### Rolling Functions"
   ]
  },
  {
   "cell_type": "markdown",
   "metadata": {
    "ExecuteTime": {
     "end_time": "2021-01-12T04:22:55.077464Z",
     "start_time": "2021-01-12T04:22:55.069662Z"
    }
   },
   "source": [
    "Let create some simple Pandas Series to understand how the Window functions work."
   ]
  },
  {
   "cell_type": "code",
   "execution_count": 144,
   "metadata": {
    "ExecuteTime": {
     "end_time": "2021-02-13T09:50:15.576777Z",
     "start_time": "2021-02-13T09:50:15.570767Z"
    }
   },
   "outputs": [
    {
     "data": {
      "text/plain": [
       "2021-01-11    3\n",
       "2021-01-12    1\n",
       "2021-01-13    3\n",
       "2021-01-14    4\n",
       "2021-01-15    8\n",
       "2021-01-16    5\n",
       "2021-01-17    8\n",
       "Freq: D, dtype: int64"
      ]
     },
     "execution_count": 144,
     "metadata": {},
     "output_type": "execute_result"
    }
   ],
   "source": [
    "np.random.seed(425)\n",
    "\n",
    "ts = pd.Series(data=np.random.randint(low=1, high=10, size=7),\n",
    "               index=pd.date_range(start=\"2021-01-11\", periods=7))\n",
    "\n",
    "\n",
    "ts"
   ]
  },
  {
   "cell_type": "code",
   "execution_count": 154,
   "metadata": {
    "ExecuteTime": {
     "end_time": "2021-02-13T09:54:37.213795Z",
     "start_time": "2021-02-13T09:54:37.209881Z"
    }
   },
   "outputs": [
    {
     "data": {
      "text/plain": [
       "2021-01-11     3.0\n",
       "2021-01-12     4.0\n",
       "2021-01-13     4.0\n",
       "2021-01-14     7.0\n",
       "2021-01-15    12.0\n",
       "2021-01-16    13.0\n",
       "2021-01-17    13.0\n",
       "Freq: D, dtype: float64"
      ]
     },
     "execution_count": 154,
     "metadata": {},
     "output_type": "execute_result"
    }
   ],
   "source": [
    "ts.rolling(window=2).sum() # Sum every two period"
   ]
  },
  {
   "cell_type": "code",
   "execution_count": 148,
   "metadata": {
    "ExecuteTime": {
     "end_time": "2021-02-13T09:52:21.647222Z",
     "start_time": "2021-02-13T09:52:21.642240Z"
    }
   },
   "outputs": [
    {
     "data": {
      "text/plain": [
       "2021-01-11    NaN\n",
       "2021-01-12    2.0\n",
       "2021-01-13    2.0\n",
       "2021-01-14    3.5\n",
       "2021-01-15    6.0\n",
       "2021-01-16    6.5\n",
       "2021-01-17    6.5\n",
       "Freq: D, dtype: float64"
      ]
     },
     "execution_count": 148,
     "metadata": {},
     "output_type": "execute_result"
    }
   ],
   "source": [
    "ts.rolling(window=2).mean() # Mean of every two period"
   ]
  },
  {
   "cell_type": "code",
   "execution_count": 149,
   "metadata": {
    "ExecuteTime": {
     "end_time": "2021-02-13T09:52:29.360546Z",
     "start_time": "2021-02-13T09:52:29.351458Z"
    }
   },
   "outputs": [
    {
     "data": {
      "text/plain": [
       "2021-01-11     NaN\n",
       "2021-01-12     NaN\n",
       "2021-01-13     7.0\n",
       "2021-01-14     8.0\n",
       "2021-01-15    15.0\n",
       "2021-01-16    17.0\n",
       "2021-01-17    21.0\n",
       "Freq: D, dtype: float64"
      ]
     },
     "execution_count": 149,
     "metadata": {},
     "output_type": "execute_result"
    }
   ],
   "source": [
    "ts.rolling(window=3).sum() # Sum every third period"
   ]
  },
  {
   "cell_type": "markdown",
   "metadata": {},
   "source": [
    "### Expanding Functions\n",
    "\n",
    "---\n",
    "\n",
    "The expanding functions starts the time window from the beginning of the time series and increases the size of the window until it encompasses the whole series."
   ]
  },
  {
   "cell_type": "code",
   "execution_count": 150,
   "metadata": {
    "ExecuteTime": {
     "end_time": "2021-02-13T09:52:48.817585Z",
     "start_time": "2021-02-13T09:52:48.813718Z"
    }
   },
   "outputs": [
    {
     "data": {
      "text/plain": [
       "2021-01-11    3\n",
       "2021-01-12    1\n",
       "2021-01-13    3\n",
       "2021-01-14    4\n",
       "2021-01-15    8\n",
       "2021-01-16    5\n",
       "2021-01-17    8\n",
       "Freq: D, dtype: int64"
      ]
     },
     "execution_count": 150,
     "metadata": {},
     "output_type": "execute_result"
    }
   ],
   "source": [
    "ts"
   ]
  },
  {
   "cell_type": "code",
   "execution_count": 151,
   "metadata": {
    "ExecuteTime": {
     "end_time": "2021-02-13T09:53:39.630168Z",
     "start_time": "2021-02-13T09:53:39.625076Z"
    }
   },
   "outputs": [
    {
     "data": {
      "text/plain": [
       "2021-01-11     3.0\n",
       "2021-01-12     4.0\n",
       "2021-01-13     7.0\n",
       "2021-01-14    11.0\n",
       "2021-01-15    19.0\n",
       "2021-01-16    24.0\n",
       "2021-01-17    32.0\n",
       "Freq: D, dtype: float64"
      ]
     },
     "execution_count": 151,
     "metadata": {},
     "output_type": "execute_result"
    }
   ],
   "source": [
    "ts.expanding().sum()"
   ]
  },
  {
   "cell_type": "code",
   "execution_count": 152,
   "metadata": {
    "ExecuteTime": {
     "end_time": "2021-02-13T09:53:48.251820Z",
     "start_time": "2021-02-13T09:53:48.246953Z"
    }
   },
   "outputs": [
    {
     "data": {
      "text/plain": [
       "2021-01-11    3.000000\n",
       "2021-01-12    2.000000\n",
       "2021-01-13    2.333333\n",
       "2021-01-14    2.750000\n",
       "2021-01-15    3.800000\n",
       "2021-01-16    4.000000\n",
       "2021-01-17    4.571429\n",
       "Freq: D, dtype: float64"
      ]
     },
     "execution_count": 152,
     "metadata": {},
     "output_type": "execute_result"
    }
   ],
   "source": [
    "ts.expanding().mean()"
   ]
  },
  {
   "cell_type": "markdown",
   "metadata": {},
   "source": [
    "# Summary\n",
    "\n",
    "---\n",
    "\n",
    "Time series data requires different types of analysis and transformation. Knowing how to deal with time series data, either it will be a regular or irregular is a great tool under the belt."
   ]
  }
 ],
 "metadata": {
  "kernelspec": {
   "display_name": "('learning': conda)",
   "language": "python",
   "name": "python37764bitlearningcondadead39b8b5cb441aa05edba06d4d913f"
  },
  "language_info": {
   "codemirror_mode": {
    "name": "ipython",
    "version": 3
   },
   "file_extension": ".py",
   "mimetype": "text/x-python",
   "name": "python",
   "nbconvert_exporter": "python",
   "pygments_lexer": "ipython3",
   "version": "3.7.7"
  },
  "varInspector": {
   "cols": {
    "lenName": 16,
    "lenType": 16,
    "lenVar": 40
   },
   "kernels_config": {
    "python": {
     "delete_cmd_postfix": "",
     "delete_cmd_prefix": "del ",
     "library": "var_list.py",
     "varRefreshCmd": "print(var_dic_list())"
    },
    "r": {
     "delete_cmd_postfix": ") ",
     "delete_cmd_prefix": "rm(",
     "library": "var_list.r",
     "varRefreshCmd": "cat(var_dic_list()) "
    }
   },
   "types_to_exclude": [
    "module",
    "function",
    "builtin_function_or_method",
    "instance",
    "_Feature"
   ],
   "window_display": false
  }
 },
 "nbformat": 4,
 "nbformat_minor": 2
}
